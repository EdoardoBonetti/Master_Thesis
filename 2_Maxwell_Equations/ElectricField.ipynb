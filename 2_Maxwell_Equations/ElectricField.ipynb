{
 "cells": [
  {
   "cell_type": "markdown",
   "metadata": {},
   "source": [
    "\n",
    "### Electric wave propagation\n",
    "$$\n",
    "\\begin{align*}\n",
    "e_t & = d\\\\\n",
    "d_t &= - \\text{curl curl }e \\\\\n",
    "\\text{ div } d &= 0\n",
    "\\end{align*}\n",
    "$$\n",
    "\n",
    "Since $(e,d)\\in H(curl)\\times H(div)$ we need to perform an $L_2$-projection\n",
    "we need to solve at each time step $n$ the following projection: \n",
    "$$\n",
    "\\begin{align*}\n",
    "\\hat{e}^n& = e^{n}\\\\\n",
    "\\hat{d}^n &= \\text{curl curl }e^n \\\\\n",
    "\\text{div }\\hat{d}^n& = 0\\\\\n",
    "\\end{align*}\n",
    "$$\n",
    "and:\n",
    "$$\n",
    "\\begin{align*}\n",
    "e^{n+1} & = e^{n} -\\tau \\hat{e}^n \\\\\n",
    "d^{n+1}  &= d^{n} -\\tau \\hat{d}^n \\\\\n",
    "\\end{align*}\n",
    "$$\n",
    "\n",
    "### Numerical implementation:\n",
    "When we apply the Galerkin discretization we obtain something of the following form:\n",
    "\n",
    "$$\n",
    "\\begin{align*}\n",
    "M_{e} \\,\\hat{\\underline e}^n & = M_{ed}\\, \\underline d^{n}\\\\\n",
    "M_{d} \\hat{\\underline d}^n &=  M_{de} K \\, \\underline e^n \\\\\n",
    "\\text{div }\\hat{\\underline d}^n& = 0\\\\\n",
    "\\end{align*}\n",
    "$$\n",
    "Ans to step foreward:\n",
    "$$\n",
    "\\begin{align*}\n",
    "\\underline e^{n+1} & = \\underline e^{n} -\\tau \\hat{\\underline e}^n \\\\\n",
    "\\underline d^{n+1}  &= \\underline d^{n} -\\tau \\hat{\\underline d}^n \\\\\n",
    "\\end{align*}\n",
    "$$\n",
    "\n",
    "\n"
   ]
  },
  {
   "cell_type": "code",
   "execution_count": 1,
   "metadata": {},
   "outputs": [],
   "source": [
    "from ngsolve import *\n",
    "from ngsolve.webgui import Draw\n",
    "from netgen.csg import unit_cube\n",
    "import matplotlib.pyplot as plt"
   ]
  },
  {
   "cell_type": "code",
   "execution_count": 2,
   "metadata": {},
   "outputs": [],
   "source": [
    "\n",
    "Maxh = 0.11\n",
    "Order = 3\n",
    "mesh = Mesh(unit_cube.GenerateMesh(maxh=Maxh))\n",
    "\n",
    "fesCurl = HCurl(mesh, order=Order )\n",
    "fesDiv = HDiv(mesh, order=Order   , dirichlet= \".*\")\n",
    "fesL2 = L2(mesh, order=Order-1)\n",
    "\n",
    "fes =  fesCurl*fesDiv\n",
    "fesP =  fesDiv*fesL2 \n",
    "\n",
    "peak = exp(-35*( (x-0.5)**2 + (y-0.5)**2 +(z-0.5)**2))\n",
    "PEAK = CF ( (0, 0, peak ), dims=(3,1))\n",
    "\n",
    "eps = CF((1), dims=(1,1))\n",
    "mu =  CF((1), dims=(1,1))\n",
    "\n",
    "#electric field\n",
    "elfield = GridFunction(fes) \n",
    "e, d = elfield.components\n",
    "e.Set ( PEAK, bonus_intorder=10, dual=True)\n",
    "\n",
    "Pelfield = GridFunction(fesP) \n",
    "Pd, Pq = Pelfield.components\n",
    "\n",
    "uc, ud , = fes.TrialFunction()\n",
    "vc, vd , = fes.TestFunction()\n"
   ]
  },
  {
   "cell_type": "code",
   "execution_count": 3,
   "metadata": {},
   "outputs": [
    {
     "data": {
      "text/plain": [
       "<ngsolve.comp.BilinearForm at 0x1554d60f970>"
      ]
     },
     "execution_count": 3,
     "metadata": {},
     "output_type": "execute_result"
    }
   ],
   "source": [
    "\n",
    "# method\n",
    "B = BilinearForm(fes, symmetric=True)\n",
    "B += -InnerProduct( curl(uc), curl(vc) )*dx\n",
    "B += InnerProduct(ud, vd)*dx\n",
    "\n",
    "M = BilinearForm(fes, symmetric=True)\n",
    "M += InnerProduct(uc, vc)*dx\n",
    "M += InnerProduct(ud, vd)*dx \n",
    " \n",
    "Mm = BilinearForm(fes, symmetric=True)\n",
    "Mm += InnerProduct(uc, vd)*dx\n",
    "Mm += InnerProduct(ud, vc)*dx \n",
    "\n",
    "B.Assemble()\n",
    "M.Assemble()\n",
    "Mm.Assemble()\n"
   ]
  },
  {
   "cell_type": "code",
   "execution_count": 4,
   "metadata": {},
   "outputs": [
    {
     "data": {
      "text/plain": [
       "<ngsolve.comp.BilinearForm at 0x1554ce372b0>"
      ]
     },
     "execution_count": 4,
     "metadata": {},
     "output_type": "execute_result"
    }
   ],
   "source": [
    "\n",
    "# We need to define a projection \n",
    "\n",
    "u, p  = fesP.TrialFunction()\n",
    "v, q  = fesP.TestFunction()\n",
    "\n",
    "P = BilinearForm(fesP)\n",
    "P +=  v*u * dx\n",
    "P +=  div( v)*p * dx\n",
    "P +=  div( u)*q * dx\n",
    "\n",
    "F = BilinearForm(fesP)\n",
    "F +=  v*u * dx\n",
    "\n",
    "P.Assemble()\n",
    "F.Assemble()"
   ]
  },
  {
   "cell_type": "markdown",
   "metadata": {},
   "source": []
  },
  {
   "cell_type": "code",
   "execution_count": 5,
   "metadata": {},
   "outputs": [],
   "source": [
    "invP = P.mat.Inverse()"
   ]
  },
  {
   "cell_type": "code",
   "execution_count": null,
   "metadata": {},
   "outputs": [],
   "source": [
    "inv  = M.mat.Inverse()"
   ]
  },
  {
   "cell_type": "code",
   "execution_count": 7,
   "metadata": {},
   "outputs": [
    {
     "data": {
      "application/vnd.jupyter.widget-view+json": {
       "model_id": "28a88a8facda42028946b4a835ec6d62",
       "version_major": 2,
       "version_minor": 0
      },
      "text/plain": [
       "WebGuiWidget(value={'ngsolve_version': '6.2.2203', 'mesh_dim': 3, 'order2d': 2, 'order3d': 2, 'draw_vol': True…"
      ]
     },
     "metadata": {},
     "output_type": "display_data"
    },
    {
     "data": {
      "application/vnd.jupyter.widget-view+json": {
       "model_id": "300aa980da7d4593afa41eb414b1ad59",
       "version_major": 2,
       "version_minor": 0
      },
      "text/plain": [
       "WebGuiWidget(value={'ngsolve_version': '6.2.2203', 'mesh_dim': 3, 'order2d': 2, 'order3d': 2, 'draw_vol': True…"
      ]
     },
     "metadata": {},
     "output_type": "display_data"
    }
   ],
   "source": [
    "scene_e = Draw(e, mesh,clipping=(0,0,1))\n",
    "#scene_divd = Draw(div(d), mesh,clipping=(0,0,1) ,draw_surf=False)\n",
    "scene_d = Draw(d, mesh,clipping=(0,0,1))\n",
    "t =   0.2\n",
    "tau = 0.002\n",
    "h = 0\n",
    "Energy = []\n",
    "while h < t :\n",
    "    h+=tau\n",
    "\n",
    "    #for small steps only this one works\n",
    "    elfield.vec.data += tau*inv*(Mm.mat*(inv*(B.mat*elfield.vec)))\n",
    "\n",
    "    #elfield.vec.data += tau*inv*(Mm.mat*(B.mat*elfield.vec))\n",
    "\n",
    "    Pd.vec.data = d.vec\n",
    "    Pelfield.vec.data =  invP*(F.mat*Pelfield.vec)\n",
    "    d.vec.data = Pd.vec\n",
    "    Energy.append(Integrate(InnerProduct(e,e),mesh))\n",
    "    scene_e.Redraw()\n",
    "    #print(h)\n",
    "    #scene_divd.Redraw()\n",
    "    scene_d.Redraw()\n",
    "    \n"
   ]
  },
  {
   "cell_type": "code",
   "execution_count": 8,
   "metadata": {},
   "outputs": [
    {
     "data": {
      "text/plain": [
       "[<matplotlib.lines.Line2D at 0x2b0ff132e60>]"
      ]
     },
     "execution_count": 8,
     "metadata": {},
     "output_type": "execute_result"
    },
    {
     "data": {
      "image/png": "[encoded data removed]",
      "text/plain": [
       "<Figure size 432x288 with 1 Axes>"
      ]
     },
     "metadata": {
      "needs_background": "light"
     },
     "output_type": "display_data"
    }
   ],
   "source": [
    "plt.plot(Energy)"
   ]
  },
  {
   "cell_type": "code",
   "execution_count": 9,
   "metadata": {},
   "outputs": [
    {
     "data": {
      "text/plain": [
       "[0.009500991560450879,\n",
       " 0.009495678517829006,\n",
       " 0.00948506362840229,\n",
       " 0.009469172983326024,\n",
       " 0.009448047490376654,\n",
       " 0.009421742733285249,\n",
       " 0.009390328770603128,\n",
       " 0.009353889876303279,\n",
       " 0.009312524224871143,\n",
       " 0.009266343523971684,\n",
       " 0.009215472597873921,\n",
       " 0.009160048924678876,\n",
       " 0.009100222130077716,\n",
       " 0.009036153439934611,\n",
       " 0.008968015093533049,\n",
       " 0.008895989718941975,\n",
       " 0.008820269671734035,\n",
       " 0.008741056338290325,\n",
       " 0.008658559405184061,\n",
       " 0.008572996096643826,\n",
       " 0.00848459038280892,\n",
       " 0.008393572162326307,\n",
       " 0.008300176423693123,\n",
       " 0.008204642390515002,\n",
       " 0.00810721265641825,\n",
       " 0.0080081323156478,\n",
       " 0.007907648095354446,\n",
       " 0.007806007495225003,\n",
       " 0.0077034579394793514,\n",
       " 0.007600245945431089,\n",
       " 0.007496616311891809,\n",
       " 0.007392811329813311,\n",
       " 0.007289070016820008,\n",
       " 0.007185627376776297,\n",
       " 0.007082713685311737,\n",
       " 0.006980553802299954,\n",
       " 0.006879366512615738,\n",
       " 0.006779363897000202,\n",
       " 0.00668075073544133,\n",
       " 0.006583723946008192,\n",
       " 0.006488472062450172,\n",
       " 0.0063951747540032244,\n",
       " 0.0063040023906771,\n",
       " 0.006215115656828822,\n",
       " 0.00612866521509035,\n",
       " 0.006044791421791407,\n",
       " 0.005963624094004636,\n",
       " 0.005885282327357436,\n",
       " 0.005809874362916283,\n",
       " 0.005737497500851253]"
      ]
     },
     "execution_count": 9,
     "metadata": {},
     "output_type": "execute_result"
    }
   ],
   "source": [
    "Energy"
   ]
  },
  {
   "cell_type": "code",
   "execution_count": null,
   "metadata": {},
   "outputs": [],
   "source": []
  }
 ],
 "metadata": {
  "interpreter": {
   "hash": "afb734500600fd355917ca529030176ea0ca205570884b88f2f6f7d791fd3fbe"
  },
  "kernelspec": {
   "display_name": "Python 3.10.4 64-bit",
   "language": "python",
   "name": "python3"
  },
  "language_info": {
   "codemirror_mode": {
    "name": "ipython",
    "version": 3
   },
   "file_extension": ".py",
   "mimetype": "text/x-python",
   "name": "python",
   "nbconvert_exporter": "python",
   "pygments_lexer": "ipython3",
   "version": "3.10.4"
  },
  "orig_nbformat": 4
 },
 "nbformat": 4,
 "nbformat_minor": 2
}
