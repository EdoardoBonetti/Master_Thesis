{
 "cells": [
  {
   "cell_type": "markdown",
   "metadata": {},
   "source": [
    "# Projection of d onto $\\text{div }=0$ manifold\n",
    "I nee to solve the minimization problem:\n",
    "$$ \n",
    "\\text{min}_{d\\in H(\\text{div})} \\| d - \\hat{d} \\|_{L_2} \\\\\n",
    "\\text{div}(d) = 0\n",
    "$$\n",
    "Using lagrange procedure we find the following problem: Find $(d,q)\\in H(div)\\times L_2$ s.t.\n",
    "$$\n",
    "\\begin{align}\n",
    "(d, p)  + (\\text{div} d, p) & = (\\hat{d}, p)\\quad \\forall q \\in L_2 \\\\\n",
    "(\\text{div} v, q)&=0 \\quad \\forall v \\in H(\\text{div})\n",
    "\\end{align}\n",
    "$$\n",
    "Obviously the discretization implies that the order of $L_2$ elemens are one less then the other space:"
   ]
  },
  {
   "cell_type": "code",
   "execution_count": 1,
   "metadata": {},
   "outputs": [
    {
     "name": "stdout",
     "output_type": "stream",
     "text": [
      "d\n"
     ]
    },
    {
     "data": {
      "application/vnd.jupyter.widget-view+json": {
       "model_id": "5465055686564111a4e6a7e04e761ee5",
       "version_major": 2,
       "version_minor": 0
      },
      "text/plain": [
       "WebGuiWidget(value={'ngsolve_version': '6.2.2203', 'mesh_dim': 3, 'order2d': 2, 'order3d': 2, 'draw_vol': True…"
      ]
     },
     "metadata": {},
     "output_type": "display_data"
    },
    {
     "name": "stdout",
     "output_type": "stream",
     "text": [
      "div d\n"
     ]
    },
    {
     "data": {
      "application/vnd.jupyter.widget-view+json": {
       "model_id": "6115485f288545559a60acb6717b927b",
       "version_major": 2,
       "version_minor": 0
      },
      "text/plain": [
       "WebGuiWidget(value={'ngsolve_version': '6.2.2203', 'mesh_dim': 3, 'order2d': 2, 'order3d': 2, 'draw_vol': True…"
      ]
     },
     "metadata": {},
     "output_type": "display_data"
    },
    {
     "name": "stdout",
     "output_type": "stream",
     "text": [
      "Pd\n"
     ]
    },
    {
     "data": {
      "application/vnd.jupyter.widget-view+json": {
       "model_id": "900724f120f345d2b1804c73ea4812cc",
       "version_major": 2,
       "version_minor": 0
      },
      "text/plain": [
       "WebGuiWidget(value={'ngsolve_version': '6.2.2203', 'mesh_dim': 3, 'order2d': 2, 'order3d': 2, 'draw_vol': True…"
      ]
     },
     "metadata": {},
     "output_type": "display_data"
    },
    {
     "name": "stdout",
     "output_type": "stream",
     "text": [
      "div Pd\n"
     ]
    },
    {
     "data": {
      "application/vnd.jupyter.widget-view+json": {
       "model_id": "c5039aae7b2848ae9f21c2861dcf791b",
       "version_major": 2,
       "version_minor": 0
      },
      "text/plain": [
       "WebGuiWidget(value={'ngsolve_version': '6.2.2203', 'mesh_dim': 3, 'order2d': 2, 'order3d': 2, 'draw_vol': True…"
      ]
     },
     "metadata": {},
     "output_type": "display_data"
    },
    {
     "data": {
      "text/plain": [
       "BaseWebGuiScene"
      ]
     },
     "execution_count": 1,
     "metadata": {},
     "output_type": "execute_result"
    }
   ],
   "source": [
    "from ngsolve import *\n",
    "from ngsolve.webgui import Draw\n",
    "from netgen.csg import unit_cube\n",
    "\n",
    "n = specialcf.normal(3)\n",
    "\n",
    "Maxh = 0.15\n",
    "Order = 3\n",
    "mesh = Mesh(unit_cube.GenerateMesh(maxh=Maxh))\n",
    "\n",
    "\n",
    "fesDiv = HDiv(mesh, order=Order  , dirichlet= \".*\")\n",
    "fesL2 = L2(mesh, order=Order-1)#, dirichlet= \".*\")\n",
    "\n",
    "\n",
    "fesP =  fesDiv*fesL2 \n",
    "peak = exp(-25*( (x-0.5)**2 + (y-0.5)**2 +(z-0.5)**2))\n",
    "PEAK = CF ( (peak, peak, peak ), dims=(3,1))\n",
    "eps = CF((1), dims=(1,1))\n",
    "mu =  CF((1), dims=(1,1))\n",
    "elfiel2 = GridFunction(fesP) \n",
    "d, q = elfiel2.components\n",
    "d.Set ( PEAK, bonus_intorder=10, dual=True)\n",
    "\n",
    "Pelfield = GridFunction(fesP) \n",
    "Pd, Pq = Pelfield.components\n",
    "\n",
    "\n",
    "# We need to define a projection \n",
    "\n",
    "u, p  = fesP.TrialFunction()\n",
    "v, q  = fesP.TestFunction()\n",
    "\n",
    "P = BilinearForm(fesP)\n",
    "P +=  v*u * dx\n",
    "P +=  div( v)*p * dx\n",
    "P +=  div( u)*q * dx\n",
    "\n",
    "F = BilinearForm(fesP)\n",
    "F +=  v*u * dx\n",
    "\n",
    "\n",
    "\n",
    "\n",
    "P.Assemble()\n",
    "F.Assemble()\n",
    "\n",
    "invP = P.mat.Inverse()#fesP.FreeDofs(True),\"pardiso\")\n",
    "\n",
    "Pelfield.vec.data =invP*(F.mat*elfiel2.vec) \n",
    "\n",
    "\n",
    "print(\"d\")\n",
    "Draw(d, mesh, clipping=(1,1,1))\n",
    "print(\"div d\")\n",
    "Draw(div(d), mesh, clipping=(1,1,1), draw_surf=False)\n",
    "\n",
    "\n",
    "print(\"Pd\")\n",
    "Draw(Pd, mesh, clipping=(1,1,1))\n",
    "print(\"div Pd\")\n",
    "Draw(div(Pd), mesh, clipping=(1,1,1), draw_surf=False)\n",
    "\n"
   ]
  },
  {
   "cell_type": "code",
   "execution_count": null,
   "metadata": {},
   "outputs": [],
   "source": []
  },
  {
   "cell_type": "code",
   "execution_count": null,
   "metadata": {},
   "outputs": [],
   "source": []
  },
  {
   "cell_type": "code",
   "execution_count": null,
   "metadata": {},
   "outputs": [],
   "source": []
  },
  {
   "cell_type": "code",
   "execution_count": null,
   "metadata": {},
   "outputs": [],
   "source": []
  }
 ],
 "metadata": {
  "interpreter": {
   "hash": "afb734500600fd355917ca529030176ea0ca205570884b88f2f6f7d791fd3fbe"
  },
  "kernelspec": {
   "display_name": "Python 3.10.4 64-bit",
   "language": "python",
   "name": "python3"
  },
  "language_info": {
   "codemirror_mode": {
    "name": "ipython",
    "version": 3
   },
   "file_extension": ".py",
   "mimetype": "text/x-python",
   "name": "python",
   "nbconvert_exporter": "python",
   "pygments_lexer": "ipython3",
   "version": "3.10.4"
  },
  "orig_nbformat": 4
 },
 "nbformat": 4,
 "nbformat_minor": 2
}
