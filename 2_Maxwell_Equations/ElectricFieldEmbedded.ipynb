{
 "cells": [
  {
   "cell_type": "markdown",
   "metadata": {},
   "source": [
    "\n",
    "### Electric wave propagation\n",
    "$$\n",
    "\\begin{align*}\n",
    "e_t & = d\\\\\n",
    "d_t &= - \\text{curl curl }e \\\\\n",
    "\\text{ div } d &= 0\n",
    "\\end{align*}\n",
    "$$\n",
    "\n",
    "Since $(e,d)\\in H(curl)\\times H(div)$ we need to perform an $L_2$-projection\n",
    "we need to solve at each time step $n$ the following projection: \n",
    "$$\n",
    "\\begin{align*}\n",
    "\\hat{e}^n& = e^{n}\\\\\n",
    "\\hat{d}^n &= \\text{curl curl }e^n \\\\\n",
    "\\text{div }\\hat{d}^n& = 0\\\\\n",
    "\\end{align*}\n",
    "$$\n",
    "and:\n",
    "$$\n",
    "\\begin{align*}\n",
    "e^{n+1} & = e^{n} -\\tau \\hat{e}^n \\\\\n",
    "d^{n+1}  &= d^{n} -\\tau \\hat{d}^n \\\\\n",
    "\\end{align*}\n",
    "$$\n",
    "\n",
    "### Numerical implementation:\n",
    "When we apply the Galerkin discretization we obtain something of the following form:\n",
    "\n",
    "$$\n",
    "\\begin{align*}\n",
    "M_{e} \\,\\hat{\\underline e}^n & = M_{ed}\\, M_d^{-1} \\, \\underline d^{n}\\\\\n",
    "M_{d} \\hat{\\underline d}^n &=  M_{de}  M_e^{-1}  \\, K \\, \\underline e^n \\\\\n",
    "\\text{div }\\hat{\\underline d}^n& = 0\\\\\n",
    "\\end{align*}\n",
    "$$\n",
    "And to step foreward transforms form:\n",
    "$$\n",
    "\\begin{align*}\n",
    "\\underline e^{n+1} & = \\underline e^{n} -\\tau \\hat{\\underline e}^n \\\\\n",
    "\\underline d^{n+1}  &= \\underline d^{n} -\\tau \\hat{\\underline d}^n \\\\\n",
    "\\end{align*}\n",
    "$$\n",
    "\n",
    "to \n",
    "\n",
    "$$\n",
    "\\begin{align*}\n",
    "\\underline e^{n+1} & = \\underline e^{n} -\\tau M_{e}^{-1} M_{ed}\\, M_d^{-1} \\,  \\underline d^{n} \\\\\n",
    "\\underline d^{n+1}  &= \\underline d^{n} -\\tau  M_{d}^{-1}  M_{de}  M_e^{-1}  \\, K \\, \\underline e^n \\\\\n",
    "\\underline d^{n+1}  &= P \\, \\underline d^n \\\\\n",
    "\\end{align*}\n",
    "$$\n",
    "Where the last one is the divergence free formjection of $d$.\n",
    "\n",
    "\n",
    "### We need tobuild the matrix:\n",
    "$$\n",
    "\\begin{pmatrix}\n",
    "0 & M_{e}^{-1} M_{ed}\\, M_d^{-1}  \\\\\n",
    " M_{d}^{-1}  M_{de}  M_e^{-1} K & 0 \n",
    "\\end{pmatrix}\n",
    "$$\n",
    "\n",
    "\n",
    "\n",
    "\n",
    "\n"
   ]
  },
  {
   "cell_type": "code",
   "execution_count": 2,
   "metadata": {},
   "outputs": [],
   "source": [
    "from ngsolve import *\n",
    "from ngsolve.webgui import Draw\n",
    "from netgen.csg import unit_cube\n",
    "import matplotlib.pyplot as plt"
   ]
  },
  {
   "cell_type": "code",
   "execution_count": 1,
   "metadata": {},
   "outputs": [
    {
     "ename": "NameError",
     "evalue": "name 'Mesh' is not defined",
     "output_type": "error",
     "traceback": [
      "\u001b[1;31m---------------------------------------------------------------------------\u001b[0m",
      "\u001b[1;31mNameError\u001b[0m                                 Traceback (most recent call last)",
      "\u001b[1;32mc:\\Users\\User\\OneDrive\\Desktop\\NGSolve_for_Thesis\\ElectricFieldEmbedded.ipynb Cell 3'\u001b[0m in \u001b[0;36m<cell line: 3>\u001b[1;34m()\u001b[0m\n\u001b[0;32m      <a href='vscode-notebook-cell:/c%3A/Users/User/OneDrive/Desktop/NGSolve_for_Thesis/ElectricFieldEmbedded.ipynb#ch0000002?line=0'>1</a>\u001b[0m Maxh \u001b[39m=\u001b[39m \u001b[39m0.13\u001b[39m\n\u001b[0;32m      <a href='vscode-notebook-cell:/c%3A/Users/User/OneDrive/Desktop/NGSolve_for_Thesis/ElectricFieldEmbedded.ipynb#ch0000002?line=1'>2</a>\u001b[0m Order \u001b[39m=\u001b[39m \u001b[39m3\u001b[39m\n\u001b[1;32m----> <a href='vscode-notebook-cell:/c%3A/Users/User/OneDrive/Desktop/NGSolve_for_Thesis/ElectricFieldEmbedded.ipynb#ch0000002?line=2'>3</a>\u001b[0m mesh \u001b[39m=\u001b[39m Mesh(unit_cube\u001b[39m.\u001b[39mGenerateMesh(maxh\u001b[39m=\u001b[39mMaxh))\n\u001b[0;32m      <a href='vscode-notebook-cell:/c%3A/Users/User/OneDrive/Desktop/NGSolve_for_Thesis/ElectricFieldEmbedded.ipynb#ch0000002?line=4'>5</a>\u001b[0m fesCurl \u001b[39m=\u001b[39m HCurl(mesh, order\u001b[39m=\u001b[39mOrder )\n\u001b[0;32m      <a href='vscode-notebook-cell:/c%3A/Users/User/OneDrive/Desktop/NGSolve_for_Thesis/ElectricFieldEmbedded.ipynb#ch0000002?line=5'>6</a>\u001b[0m fesDiv \u001b[39m=\u001b[39m HDiv(mesh, order\u001b[39m=\u001b[39mOrder   , dirichlet\u001b[39m=\u001b[39m \u001b[39m\"\u001b[39m\u001b[39m.*\u001b[39m\u001b[39m\"\u001b[39m)\n",
      "\u001b[1;31mNameError\u001b[0m: name 'Mesh' is not defined"
     ]
    }
   ],
   "source": [
    "\n",
    "Maxh = 0.13\n",
    "Order = 3\n",
    "mesh = Mesh(unit_cube.GenerateMesh(maxh=Maxh))\n",
    "\n",
    "fesCurl = HCurl(mesh, order=Order )\n",
    "fesDiv = HDiv(mesh, order=Order   , dirichlet= \".*\")\n",
    "fesL2 = L2(mesh,  order=Order-1)\n",
    "\n",
    "fes =  fesCurl*fesDiv\n",
    "fesP =  fesDiv*fesL2 \n",
    "\n",
    "peak = exp(-35*( (x-0.5)**2 + (y-0.5)**2 +(z-0.5)**2))\n",
    "PEAK = CF ( (0, 0, peak ), dims=(3,1))\n",
    "\n",
    "eps = CF((1), dims=(1,1))\n",
    "mu =  CF((1), dims=(1,1))\n",
    "\n",
    "#electric field\n",
    "elfield = GridFunction(fes) \n",
    "e, d = elfield.components\n",
    "e.Set ( PEAK, bonus_intorder=10, dual=True)\n",
    "\n",
    "Pelfield = GridFunction(fesP) \n",
    "Pd, Pq = Pelfield.components\n",
    "\n",
    "uc, ud , = fes.TrialFunction()\n",
    "vc, vd , = fes.TestFunction()\n"
   ]
  },
  {
   "cell_type": "code",
   "execution_count": null,
   "metadata": {},
   "outputs": [],
   "source": []
  },
  {
   "cell_type": "code",
   "execution_count": null,
   "metadata": {},
   "outputs": [],
   "source": [
    "# method\n",
    "\n",
    "uc,vc = fesCurl.TnT()\n",
    "edofs = fes.Range(0)\n",
    "emb_e = Embedding(fes.ndof, edofs)\n",
    "inv_e = BilinearForm(uc*vc*dx).Assemble().mat.Inverse(inverse=\"sparsecholesky\")\n",
    "# fesCurl.Mass(Id(mesh.dim)).Inverse()\n",
    "#inve = emb_e @ inv_e @ emb_e.T\n"
   ]
  },
  {
   "cell_type": "code",
   "execution_count": 2,
   "metadata": {},
   "outputs": [
    {
     "ename": "NameError",
     "evalue": "name 'fesDiv' is not defined",
     "output_type": "error",
     "traceback": [
      "\u001b[1;31m---------------------------------------------------------------------------\u001b[0m",
      "\u001b[1;31mNameError\u001b[0m                                 Traceback (most recent call last)",
      "\u001b[1;32mc:\\Users\\User\\OneDrive\\Desktop\\NGSolve_for_Thesis\\ElectricFieldEmbedded.ipynb Cell 2'\u001b[0m in \u001b[0;36m<cell line: 1>\u001b[1;34m()\u001b[0m\n\u001b[1;32m----> <a href='vscode-notebook-cell:/c%3A/Users/User/OneDrive/Desktop/NGSolve_for_Thesis/ElectricFieldEmbedded.ipynb#ch0000001?line=0'>1</a>\u001b[0m ud,vd \u001b[39m=\u001b[39m fesDiv\u001b[39m.\u001b[39mTnT()\n\u001b[0;32m      <a href='vscode-notebook-cell:/c%3A/Users/User/OneDrive/Desktop/NGSolve_for_Thesis/ElectricFieldEmbedded.ipynb#ch0000001?line=3'>4</a>\u001b[0m ddofs \u001b[39m=\u001b[39m fes\u001b[39m.\u001b[39mRange(\u001b[39m1\u001b[39m)\n\u001b[0;32m      <a href='vscode-notebook-cell:/c%3A/Users/User/OneDrive/Desktop/NGSolve_for_Thesis/ElectricFieldEmbedded.ipynb#ch0000001?line=4'>5</a>\u001b[0m emb_d \u001b[39m=\u001b[39m Embedding(fes\u001b[39m.\u001b[39mndof, ddofs)\n",
      "\u001b[1;31mNameError\u001b[0m: name 'fesDiv' is not defined"
     ]
    }
   ],
   "source": [
    "\n",
    "ud,vd = fesDiv.TnT()\n",
    "\n",
    "\n",
    "ddofs = fes.Range(1)\n",
    "emb_d = Embedding(fes.ndof, ddofs)\n",
    "# inv_d = fesDiv.Mass(Id(mesh.dim)).Inverse()\n",
    "inv_d = BilinearForm(ud*vd*dx).Assemble().mat.Inverse(inverse=\"sparsecholesky\")\n",
    "\n",
    "\n",
    "#invd = emb_d @ inv_d @ emb_d.T\n"
   ]
  },
  {
   "cell_type": "code",
   "execution_count": null,
   "metadata": {},
   "outputs": [],
   "source": [
    "\n",
    "#inv = inve + invd\n"
   ]
  },
  {
   "cell_type": "code",
   "execution_count": null,
   "metadata": {},
   "outputs": [
    {
     "name": "stdout",
     "output_type": "stream",
     "text": [
      "CPU times: total: 0 ns\n",
      "Wall time: 11 ms\n"
     ]
    },
    {
     "data": {
      "text/plain": [
       "<ngsolve.comp.BilinearForm at 0x1965615ca70>"
      ]
     },
     "execution_count": 7,
     "metadata": {},
     "output_type": "execute_result"
    }
   ],
   "source": [
    "\n",
    "c = fesCurl.TrialFunction()\n",
    "v = fesDiv.TestFunction()\n",
    "M_de = BilinearForm(trialspace=fesCurl, testspace=fesDiv , geom_free = True)\n",
    "M_de +=  InnerProduct(c, v)*dx\n",
    "%time M_de.Assemble()\n",
    "#Med = emb_e @ M_ed.mat @ emb_d.T\n"
   ]
  },
  {
   "cell_type": "code",
   "execution_count": null,
   "metadata": {},
   "outputs": [
    {
     "name": "stdout",
     "output_type": "stream",
     "text": [
      "CPU times: total: 15.6 ms\n",
      "Wall time: 12 ms\n"
     ]
    },
    {
     "data": {
      "text/plain": [
       "<ngsolve.comp.BilinearForm at 0x196f62afb70>"
      ]
     },
     "execution_count": 8,
     "metadata": {},
     "output_type": "execute_result"
    }
   ],
   "source": [
    "c = fesCurl.TestFunction()\n",
    "v = fesDiv.TrialFunction()\n",
    "M_ed = BilinearForm(testspace=fesCurl, trialspace=fesDiv, geom_free = True)\n",
    "M_ed +=  InnerProduct(c, v)*dx\n",
    "%time M_ed.Assemble()\n",
    "#Mde = emb_d @ M_de.mat @ emb_e.T\n"
   ]
  },
  {
   "cell_type": "code",
   "execution_count": null,
   "metadata": {},
   "outputs": [
    {
     "name": "stdout",
     "output_type": "stream",
     "text": [
      "CPU times: total: 297 ms\n",
      "Wall time: 302 ms\n"
     ]
    },
    {
     "data": {
      "text/plain": [
       "<ngsolve.comp.BilinearForm at 0x196f62adf70>"
      ]
     },
     "execution_count": 9,
     "metadata": {},
     "output_type": "execute_result"
    }
   ],
   "source": [
    "\n",
    "u = fesCurl.TestFunction()\n",
    "v = fesCurl.TrialFunction()\n",
    "K = BilinearForm(fesCurl)\n",
    "K += -InnerProduct( curl(u), curl(v) )*dx\n",
    "%time K.Assemble()\n"
   ]
  },
  {
   "cell_type": "code",
   "execution_count": null,
   "metadata": {},
   "outputs": [],
   "source": [
    "Mup = emb_e @ inv_e @ M_ed.mat @ emb_d.T\n",
    "Mdown = emb_d @ inv_d @ M_de.mat @ inv_e  @ K.mat @ emb_e.T \n",
    "\n",
    "M =  Mdown \n"
   ]
  },
  {
   "cell_type": "code",
   "execution_count": null,
   "metadata": {},
   "outputs": [
    {
     "data": {
      "text/plain": [
       "<ngsolve.comp.BilinearForm at 0x196f62980f0>"
      ]
     },
     "execution_count": 11,
     "metadata": {},
     "output_type": "execute_result"
    }
   ],
   "source": [
    "# We need to define a projection \n",
    "\n",
    "u, p  = fesP.TrialFunction()\n",
    "v, q  = fesP.TestFunction()\n",
    "\n",
    "P = BilinearForm(fesP)\n",
    "P +=  v*u * dx\n",
    "P +=  div( v)*p * dx\n",
    "P +=  div( u)*q * dx\n",
    "P += -1e-10*p*q * dx\n",
    "\n",
    "F = BilinearForm(fesP)\n",
    "F +=  v*u * dx\n",
    "\n",
    "P.Assemble()\n",
    "F.Assemble()"
   ]
  },
  {
   "cell_type": "code",
   "execution_count": null,
   "metadata": {},
   "outputs": [],
   "source": [
    "invP = P.mat.Inverse(inverse=\"sparsecholesky\")"
   ]
  },
  {
   "cell_type": "code",
   "execution_count": null,
   "metadata": {},
   "outputs": [
    {
     "data": {
      "application/vnd.jupyter.widget-view+json": {
       "model_id": "7a9f07f7dd984e928eb697e76c2b0815",
       "version_major": 2,
       "version_minor": 0
      },
      "text/plain": [
       "WebGuiWidget(value={'ngsolve_version': '6.2.2203', 'mesh_dim': 3, 'order2d': 2, 'order3d': 2, 'draw_vol': True…"
      ]
     },
     "metadata": {},
     "output_type": "display_data"
    },
    {
     "data": {
      "application/vnd.jupyter.widget-view+json": {
       "model_id": "cb27a101244e4153a0ba06bdab40c7ae",
       "version_major": 2,
       "version_minor": 0
      },
      "text/plain": [
       "WebGuiWidget(value={'ngsolve_version': '6.2.2203', 'mesh_dim': 3, 'order2d': 2, 'order3d': 2, 'draw_vol': True…"
      ]
     },
     "metadata": {},
     "output_type": "display_data"
    }
   ],
   "source": [
    "scene_e = Draw(e, mesh,clipping=(0,0,1))\n",
    "#scene_divd = Draw(div(d), mesh,clipping=(0,0,1) ,draw_surf=False)\n",
    "scene_d = Draw(d, mesh,clipping=(0,0,1))\n",
    "t =  1\n",
    "tau = 0.002\n",
    "h = 0\n",
    "Energy = []\n",
    "with TaskManager(pajetrace=10**8):\n",
    "  while h < t :\n",
    "    h+=tau\n",
    "    \n",
    "    #we use only one matrix of the form described in the above markdowm\n",
    "    elfield.vec.data += tau * Mdown *elfield.vec\n",
    "    elfield.vec.data += tau * Mup *elfield.vec\n",
    "    \n",
    "    #elfield.vec.data += tau* (inv @ Mm ) @ inv * elfield.vec\n",
    "    scene_d.Redraw()\n",
    "    # input(\"stop\")\n",
    "    Pd.vec.data = d.vec\n",
    "    Pelfield.vec.data =  invP*(F.mat*Pelfield.vec)\n",
    "    d.vec.data = Pd.vec\n",
    "    Energy.append(Integrate(InnerProduct(e,e),mesh))\n",
    "    scene_e.Redraw()\n",
    "    #print(h)\n",
    "    #scene_divd.Redraw()\n",
    "    scene_d.Redraw()\n",
    "    \n"
   ]
  },
  {
   "cell_type": "code",
   "execution_count": null,
   "metadata": {},
   "outputs": [
    {
     "data": {
      "text/plain": [
       "[<matplotlib.lines.Line2D at 0x18eced7b3d0>]"
      ]
     },
     "execution_count": 13,
     "metadata": {},
     "output_type": "execute_result"
    },
    {
     "data": {
      "image/png": "[encoded data removed]",
      "text/plain": [
       "<Figure size 432x288 with 1 Axes>"
      ]
     },
     "metadata": {
      "needs_background": "light"
     },
     "output_type": "display_data"
    }
   ],
   "source": [
    "plt.plot(Energy)"
   ]
  },
  {
   "cell_type": "code",
   "execution_count": null,
   "metadata": {},
   "outputs": [],
   "source": [
    "Mup = emb_e @ inv_e @ M_de.mat @ emb_d.T\n",
    "Mdown = emb_d @ inv_d @ M_de.mat @ inv_e  @ K.mat @ emb_e.T "
   ]
  },
  {
   "cell_type": "code",
   "execution_count": null,
   "metadata": {},
   "outputs": [
    {
     "ename": "",
     "evalue": "",
     "output_type": "error",
     "traceback": [
      "\u001b[1;31mCanceled future for execute_request message before replies were done"
     ]
    },
    {
     "ename": "",
     "evalue": "",
     "output_type": "error",
     "traceback": [
      "\u001b[1;31mThe Kernel crashed while executing code in the the current cell or a previous cell. Please review the code in the cell(s) to identify a possible cause of the failure. Click <a href='https://aka.ms/vscodeJupyterKernelCrash'>here</a> for more info. View Jupyter <a href='command:jupyter.viewOutput'>log</a> for further details."
     ]
    }
   ],
   "source": [
    "print(Mup.GetOperatorInfo())\n",
    "(inv_e @M_de.mat @ emb_d.T*elfield.vec).Evaluate()"
   ]
  },
  {
   "cell_type": "code",
   "execution_count": null,
   "metadata": {},
   "outputs": [
    {
     "name": "stdout",
     "output_type": "stream",
     "text": [
      "EmbeddedTransposeMatrix, h = 172316, w = 172316\n",
      "  ProductMatrix, h = 172316, w = 67856\n",
      "    ProductMatrix, h = 172316, w = 67856\n",
      "      ProductMatrix, h = 172316, w = 104460\n",
      "        EmbeddedMatrix, h = 172316, w = 104460\n",
      "          class ngcomp::ApplyMass, h = 104460, w = 104460\n",
      "        class ngcomp::BilinearFormApplication, h = 67856, w = 104460\n",
      "      class ngcomp::ApplyMass, h = 67856, w = 67856\n",
      "    class ngla::SparseMatrix<double,double,double>, h = 67856, w = 67856\n",
      "\n"
     ]
    }
   ],
   "source": [
    "print(Mdown.GetOperatorInfo())"
   ]
  },
  {
   "cell_type": "code",
   "execution_count": null,
   "metadata": {},
   "outputs": [
    {
     "data": {
      "text/plain": [
       "(104460, 67856)"
      ]
     },
     "execution_count": 144,
     "metadata": {},
     "output_type": "execute_result"
    }
   ],
   "source": [
    "M_ed.mat.shape\n"
   ]
  },
  {
   "cell_type": "code",
   "execution_count": null,
   "metadata": {},
   "outputs": [
    {
     "data": {
      "text/plain": [
       "(67856, 67856)"
      ]
     },
     "execution_count": 145,
     "metadata": {},
     "output_type": "execute_result"
    }
   ],
   "source": [
    "inv_e.shape\n"
   ]
  },
  {
   "cell_type": "code",
   "execution_count": null,
   "metadata": {},
   "outputs": [],
   "source": []
  },
  {
   "cell_type": "code",
   "execution_count": null,
   "metadata": {},
   "outputs": [],
   "source": []
  },
  {
   "cell_type": "code",
   "execution_count": null,
   "metadata": {},
   "outputs": [],
   "source": []
  },
  {
   "cell_type": "code",
   "execution_count": null,
   "metadata": {},
   "outputs": [],
   "source": []
  },
  {
   "cell_type": "code",
   "execution_count": null,
   "metadata": {},
   "outputs": [],
   "source": []
  },
  {
   "cell_type": "code",
   "execution_count": null,
   "metadata": {},
   "outputs": [],
   "source": []
  },
  {
   "cell_type": "code",
   "execution_count": null,
   "metadata": {},
   "outputs": [],
   "source": []
  },
  {
   "cell_type": "code",
   "execution_count": null,
   "metadata": {},
   "outputs": [],
   "source": []
  },
  {
   "cell_type": "code",
   "execution_count": null,
   "metadata": {},
   "outputs": [],
   "source": []
  },
  {
   "cell_type": "code",
   "execution_count": null,
   "metadata": {},
   "outputs": [],
   "source": []
  }
 ],
 "metadata": {
  "interpreter": {
   "hash": "afb734500600fd355917ca529030176ea0ca205570884b88f2f6f7d791fd3fbe"
  },
  "kernelspec": {
   "display_name": "Python 3.10.4 64-bit",
   "language": "python",
   "name": "python3"
  },
  "language_info": {
   "codemirror_mode": {
    "name": "ipython",
    "version": 3
   },
   "file_extension": ".py",
   "mimetype": "text/x-python",
   "name": "python",
   "nbconvert_exporter": "python",
   "pygments_lexer": "ipython3",
   "version": "3.10.4"
  },
  "orig_nbformat": 4
 },
 "nbformat": 4,
 "nbformat_minor": 2
}
