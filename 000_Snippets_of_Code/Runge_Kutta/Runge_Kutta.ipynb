{
 "cells": [
  {
   "cell_type": "markdown",
   "metadata": {},
   "source": [
    "Here we implement a runge kutta method for solving a system of differential equations.\n",
    "Given $$y'(t) = f(t,y(t))$$ with initial condition $$y(0) = y_0$$\n",
    " \n",
    "The explicit m-stage runge kutta method is defined as follows:\n",
    "Let the butcher tableau be \n",
    "$$\n",
    "\\begin{bmatrix}\n",
    "c &|& A \\\\\n",
    "\\hline\n",
    " &|& b^T &\\\\\n",
    "\\end{bmatrix}\n",
    "$$\n",
    "Then the explicit m-stage runge kutta method is defined as:\n",
    "$$\n",
    "y_{n+1} := y_n + h_n\\Phi(t_n,y_n,h_n) \\\\\n",
    "t_{n+1} := t_n + h_n \\\\\n",
    "$$\n",
    "\n",
    "Where \n",
    "\n",
    "$$\n",
    "\\Phi(t,y,h) = \\sum_{j}^{m} b_k k_j \\\\\n",
    "k_i = f(t+ c_i h, y + h\\sum_{j=1}^{i-1} A_{ij} k_j)\\\\\n",
    "$$\n",
    "\n",
    "where $a_{kj}$ is the coefficient of the $k$ th derivative of $y$ at the $j$th stage.\n",
    "\n",
    "\n",
    "### Runge Kutta for linear differential equations:\n",
    "Sometimes the equation that one considrs is of the form:\n",
    "$$\n",
    "\\begin{align}\n",
    "y'(t) &= M_fy(t) \\\\\n",
    "\\end{align}\n",
    "$$\n",
    "(for example when In particular $M_f$ is $\\nabla f(y)$ , or even more common when we have to solve some time stepping problem in our FEM model)\n",
    "\n",
    "Therefore , on the stages, we can perform the following algebraic tricks:\n",
    "\n",
    "\\usepackage{bbold}\n",
    "$$\n",
    "\\begin{align}\n",
    "k_{i} &= M[y + h \\sum_{j} A_{ij}k_{j}]  &  \\text{vector equation for stages}\\\\\n",
    "k_{i} &= M[y] + h \\sum_{j} A_{ij}\\, M \\, k_{j} &  \\text{associativity} \\\\\n",
    "\\left(k_{i}\\right)_l &=\\left( M[y] + h \\sum_{j} A_{ij}\\, M \\, k_{j} \\right)_l &  \\text{selecting only the l-th row of the j-th vector}\\\\\n",
    "k_{li} &=   \\sum_r  M_{lr}y_{r}+ h \\sum_{j,s} A_{ij}\\, M_{ls} \\, \\left(k_{j}\\right)_{s}&  \\text{convention $(k_{i})_l = k_{li}$}\\\\\n",
    "k_{li} &=  \\sum_r M_{lr}y_{r}+ h \\sum_{j,s} A_{ij}\\, M_{ls} \\, k_{sj}& \\\\\n",
    "k_{li} - h \\sum_{j,s}  M_{ls} \\, k_{sj} \\, A_{ij}   &=  \\sum_r M_{lr}y_{r} 1_i&  \\text{Some mixing of the equation}\\\\\n",
    "k - MkA^T &= My\\otimes \\mathbb{1}_m&  \\text{Matrix-form equation}\\\\\n",
    "I \\,k - h (M\\otimes A )\\, k &= M(y\\otimes \\mathbb{1}_m)&  \\text{Matrix-form equation}\\\\\n",
    "k &=\\left( I - h M\\otimes A \\,\\right)^{-1} M(y\\otimes \\mathbb{1}_m)&  \\text{Matrix-form equation}\\\\\n",
    "\\end{align}\n",
    "$$\n",
    "\n",
    "Where $I$ is the identity matrix of dimension $ d\\cdot m \\times  d\\cdot m $ and   $M\\otimes A$ is the tensor product of $M$ and $A$; Also $\\mathbb{1}_m  = (1 , ... , 1)$ for m- times.\n",
    "\n",
    "\n",
    "Therefore for each time step we calculate the following:\n",
    "$$\n",
    "\\begin{align}\n",
    "k &= \\left( I - h M\\otimes A \\,\\right)^{-1} M(y\\otimes \\mathbb{1}_m)&  \\text{Matrix-form equation}\\\\\n",
    "y^{n+1} &= y^n + h k b &  \\text{vector equation for stages}\\\\\n",
    "\\end{align}\n",
    "$$\n",
    "\n",
    "\n",
    "\n",
    "The butcher tableau are stored in the following format: \n",
    "**butcher_tableau = [c,A,b]**\n",
    "\n",
    "where c is a vector of length m, A is a mxm matrix, and b is a m vector.\n",
    "\n",
    "The following method can work with any m-stage runge kutta method of the following form:\n",
    "1. Explicit m-stage runge kutta method\n",
    "2. Embedded m-stage runge kutta method\n",
    "3. Implicit m-stage runge kutta method\n",
    "\n",
    "for a quick lecture of all the possible coices of butcher  tableau see:\n",
    "https://en.wikipedia.org/wiki/List_of_Runge%E2%80%93Kutta_methods\n",
    "\n",
    "\n",
    "\n",
    "\n",
    "\n",
    "\n"
   ]
  },
  {
   "cell_type": "code",
   "execution_count": 109,
   "metadata": {},
   "outputs": [],
   "source": [
    "import numpy as np\n",
    "import matplotlib.pyplot as plt\n",
    "from numpy.linalg import inv\n",
    "\n",
    "# create a function that given a butcher tableau tells you if it is explicit = True or implicit = False\n",
    "def isExplicit(a):\n",
    "    for i in np.arange(len(a)):\n",
    "        for j in np.arange(i,len(a)):\n",
    "            if a[i,j] != 0:\n",
    "                return False\n",
    "    return True\n",
    "\n",
    "def vec(M): # matbe it need to be transposed before\n",
    "    #return np.reshape(M.transpose(),(len(M)*len(M[0]),1))\n",
    "    return M.flatten(\"F\")\n",
    "\n",
    "def vecInverse(v , row): \n",
    "    # returs the transpose of matrix col x row \n",
    "    return np.reshape(v,(int(len(v)/row),row)).transpose()\n",
    "\n",
    "# create a function that given a butcher tableau c|A/b and a vector of initial conditions, returns the solution of the ODE calculated with the Runge-Kutta method\n",
    "def RungeKutta(M , tau = None ,t_0 = 0,  t_final = None , butcher_tableau = np.array([np.array([0]),np.array([0]),np.array([1])]), y_0  = None, steps = None , draw = False , sol = None):\n",
    "    \"\"\"\n",
    "    :param tau: the time step\n",
    "    :param t_final: the final time\n",
    "    :param butcher_tableau: the butcher tableau written in the form c|A/b\n",
    "    :param y_0: the initial conditions for the ode\n",
    "    :return: the solution of the ODE\n",
    "    \"\"\"\n",
    "    input(\"1\")\n",
    "\n",
    "    if len(butcher_tableau) == 3:\n",
    "        c,a,b = butcher_tableau\n",
    "    input(\"2\")\n",
    "    \n",
    "    if len(butcher_tableau) == 4:\n",
    "        c,a,b ,b_star = butcher_tableau\n",
    "    input(\"3\")\n",
    "    \n",
    "    if tau == None and t_final == None and steps == None :\n",
    "        raise ValueError(\"the following combinations are possible : \\\n",
    "        [tau,t_final]\\\n",
    "        [steps,tau]\\\n",
    "        [steps,t_final]\\\n",
    "        \")\n",
    "    input(\"5\")\n",
    "\n",
    "    if tau == None :\n",
    "        tau = float(t_final - t_0)/float(steps)\n",
    "        input(\"6\")\n",
    "    elif t_final == None:\n",
    "        t_final = t_0 + steps*tau\n",
    "        input(\"7\")\n",
    "    elif steps == None:\n",
    "        steps = (t_final - t_0)/tau\n",
    "        input(\"8\")\n",
    "\n",
    "    y = [y_0]\n",
    "    #print(\"initial position : \\n\" ,y[-1])\n",
    "\n",
    "    m = len(a)\n",
    "    #print(\"dimension of butcher tableau \\n: \" ,m)\n",
    "\n",
    "    d = len(M)\n",
    "    #print(\"dimension of the ODE : \\n\" ,d)\n",
    "\n",
    "    # RHS matrix\n",
    "    RHS_matrix = np.identity(m*d)-tau*np.kron(a,M)\n",
    "    input(\"G\")\n",
    "\n",
    "    #print(\"RHS matrix : \\n\" ,RHS_matrix)\n",
    "    #print(\"RHS matrix inverse : \\n\" ,inv(RHS_matrix))\n",
    "\n",
    "\n",
    "    # Iteration Matrix\n",
    "    input(\"F\")\n",
    "\n",
    "    iter_matrix = inv(RHS_matrix)\n",
    "    #print(\"iteration matrix : \\n\" ,iter_matrix)\n",
    "    input(\"A\")\n",
    "    for i in range(int(steps)):\n",
    "        input(\"B\")\n",
    "        vec_y_1mT = np.kron(np.ones(m), M.dot(y[-1]))\n",
    "        #print(\"The matrix for the y vector : \\n\" ,np.kron(y[-1], np.ones((1,m))))\n",
    "        #print(\"vec_y_1mT : \\n\" ,vec_y_1mT)\n",
    "        input(\"\")\n",
    "        k =  vecInverse( iter_matrix.dot(vec_y_1mT) , d) \n",
    "        #print(\"k in vector form\" ,iter_matrix.dot(vec_y_1mT))\n",
    "        #print(\"k : \\n\" ,k)\n",
    "        input(\"D\")\n",
    "        \n",
    "        y.append(y[-1]+ tau* k.dot(b))\n",
    "        input(\"E\")\n",
    "\n",
    "        #print(\"y : \\n\" ,y[-1])\n",
    "    return y\n",
    "\n",
    "### create a function that returns the Heun iteration for the ODE ###\n",
    "def HeunSolver(M,steps , tau, y_0):\n",
    "    y = [y_0]\n",
    "    for i in range(steps):\n",
    "        y_1 = y[-1] + tau*M.dot(y[-1])\n",
    "        y.append(y[-1] + tau*(M.dot(y[-1]) + M.dot(y_1))/2)\n",
    "    return y\n",
    "\n"
   ]
  },
  {
   "cell_type": "code",
   "execution_count": 110,
   "metadata": {},
   "outputs": [
    {
     "ename": "KeyboardInterrupt",
     "evalue": "Interrupted by user",
     "output_type": "error",
     "traceback": [
      "\u001b[1;31m---------------------------------------------------------------------------\u001b[0m",
      "\u001b[1;31mKeyboardInterrupt\u001b[0m                         Traceback (most recent call last)",
      "\u001b[1;32mc:\\Users\\User\\OneDrive\\Desktop\\NGSolve_for_Thesis\\Runge Kutta\\Runge_Kutta.ipynb Cell 3\u001b[0m in \u001b[0;36m<cell line: 33>\u001b[1;34m()\u001b[0m\n\u001b[0;32m     <a href='vscode-notebook-cell:/c%3A/Users/User/OneDrive/Desktop/NGSolve_for_Thesis/Runge%20Kutta/Runge_Kutta.ipynb#W2sZmlsZQ%3D%3D?line=27'>28</a>\u001b[0m steps \u001b[39m=\u001b[39m \u001b[39m10\u001b[39m\n\u001b[0;32m     <a href='vscode-notebook-cell:/c%3A/Users/User/OneDrive/Desktop/NGSolve_for_Thesis/Runge%20Kutta/Runge_Kutta.ipynb#W2sZmlsZQ%3D%3D?line=29'>30</a>\u001b[0m M_f \u001b[39m=\u001b[39m np\u001b[39m.\u001b[39marray([[\u001b[39m1.0\u001b[39m , \u001b[39m0\u001b[39m , \u001b[39m0\u001b[39m ] , [\u001b[39m0\u001b[39m , \u001b[39m-\u001b[39m\u001b[39m1.0\u001b[39m , \u001b[39m0\u001b[39m] , [\u001b[39m0\u001b[39m , \u001b[39m0\u001b[39m , \u001b[39m0\u001b[39m]])\n\u001b[1;32m---> <a href='vscode-notebook-cell:/c%3A/Users/User/OneDrive/Desktop/NGSolve_for_Thesis/Runge%20Kutta/Runge_Kutta.ipynb#W2sZmlsZQ%3D%3D?line=32'>33</a>\u001b[0m y1 \u001b[39m=\u001b[39m RungeKutta(M \u001b[39m=\u001b[39;49m M_f , tau \u001b[39m=\u001b[39;49m tau ,t_0 \u001b[39m=\u001b[39;49m \u001b[39m0\u001b[39;49m , butcher_tableau \u001b[39m=\u001b[39;49m CrankNicolson() , y_0  \u001b[39m=\u001b[39;49m y_0, steps \u001b[39m=\u001b[39;49m steps , draw \u001b[39m=\u001b[39;49m \u001b[39mTrue\u001b[39;49;00m )\n\u001b[0;32m     <a href='vscode-notebook-cell:/c%3A/Users/User/OneDrive/Desktop/NGSolve_for_Thesis/Runge%20Kutta/Runge_Kutta.ipynb#W2sZmlsZQ%3D%3D?line=33'>34</a>\u001b[0m y2 \u001b[39m=\u001b[39m HeunSolver(M \u001b[39m=\u001b[39m M_f,steps \u001b[39m=\u001b[39msteps , tau\u001b[39m=\u001b[39m tau, y_0\u001b[39m=\u001b[39my_0)\n",
      "\u001b[1;32mc:\\Users\\User\\OneDrive\\Desktop\\NGSolve_for_Thesis\\Runge Kutta\\Runge_Kutta.ipynb Cell 3\u001b[0m in \u001b[0;36mRungeKutta\u001b[1;34m(M, tau, t_0, t_final, butcher_tableau, y_0, steps, draw, sol)\u001b[0m\n\u001b[0;32m     <a href='vscode-notebook-cell:/c%3A/Users/User/OneDrive/Desktop/NGSolve_for_Thesis/Runge%20Kutta/Runge_Kutta.ipynb#W2sZmlsZQ%3D%3D?line=21'>22</a>\u001b[0m \u001b[39mdef\u001b[39;00m \u001b[39mRungeKutta\u001b[39m(M , tau \u001b[39m=\u001b[39m \u001b[39mNone\u001b[39;00m ,t_0 \u001b[39m=\u001b[39m \u001b[39m0\u001b[39m,  t_final \u001b[39m=\u001b[39m \u001b[39mNone\u001b[39;00m , butcher_tableau \u001b[39m=\u001b[39m np\u001b[39m.\u001b[39marray([np\u001b[39m.\u001b[39marray([\u001b[39m0\u001b[39m]),np\u001b[39m.\u001b[39marray([\u001b[39m0\u001b[39m]),np\u001b[39m.\u001b[39marray([\u001b[39m1\u001b[39m])]), y_0  \u001b[39m=\u001b[39m \u001b[39mNone\u001b[39;00m, steps \u001b[39m=\u001b[39m \u001b[39mNone\u001b[39;00m , draw \u001b[39m=\u001b[39m \u001b[39mFalse\u001b[39;00m , sol \u001b[39m=\u001b[39m \u001b[39mNone\u001b[39;00m):\n\u001b[0;32m     <a href='vscode-notebook-cell:/c%3A/Users/User/OneDrive/Desktop/NGSolve_for_Thesis/Runge%20Kutta/Runge_Kutta.ipynb#W2sZmlsZQ%3D%3D?line=22'>23</a>\u001b[0m     \u001b[39m\"\"\"\u001b[39;00m\n\u001b[0;32m     <a href='vscode-notebook-cell:/c%3A/Users/User/OneDrive/Desktop/NGSolve_for_Thesis/Runge%20Kutta/Runge_Kutta.ipynb#W2sZmlsZQ%3D%3D?line=23'>24</a>\u001b[0m \u001b[39m    :param tau: the time step\u001b[39;00m\n\u001b[0;32m     <a href='vscode-notebook-cell:/c%3A/Users/User/OneDrive/Desktop/NGSolve_for_Thesis/Runge%20Kutta/Runge_Kutta.ipynb#W2sZmlsZQ%3D%3D?line=24'>25</a>\u001b[0m \u001b[39m    :param t_final: the final time\u001b[39;00m\n\u001b[1;32m   (...)\u001b[0m\n\u001b[0;32m     <a href='vscode-notebook-cell:/c%3A/Users/User/OneDrive/Desktop/NGSolve_for_Thesis/Runge%20Kutta/Runge_Kutta.ipynb#W2sZmlsZQ%3D%3D?line=27'>28</a>\u001b[0m \u001b[39m    :return: the solution of the ODE\u001b[39;00m\n\u001b[0;32m     <a href='vscode-notebook-cell:/c%3A/Users/User/OneDrive/Desktop/NGSolve_for_Thesis/Runge%20Kutta/Runge_Kutta.ipynb#W2sZmlsZQ%3D%3D?line=28'>29</a>\u001b[0m \u001b[39m    \"\"\"\u001b[39;00m\n\u001b[1;32m---> <a href='vscode-notebook-cell:/c%3A/Users/User/OneDrive/Desktop/NGSolve_for_Thesis/Runge%20Kutta/Runge_Kutta.ipynb#W2sZmlsZQ%3D%3D?line=29'>30</a>\u001b[0m     \u001b[39minput\u001b[39;49m(\u001b[39m\"\u001b[39;49m\u001b[39m1\u001b[39;49m\u001b[39m\"\u001b[39;49m)\n\u001b[0;32m     <a href='vscode-notebook-cell:/c%3A/Users/User/OneDrive/Desktop/NGSolve_for_Thesis/Runge%20Kutta/Runge_Kutta.ipynb#W2sZmlsZQ%3D%3D?line=31'>32</a>\u001b[0m     \u001b[39mif\u001b[39;00m \u001b[39mlen\u001b[39m(butcher_tableau) \u001b[39m==\u001b[39m \u001b[39m3\u001b[39m:\n\u001b[0;32m     <a href='vscode-notebook-cell:/c%3A/Users/User/OneDrive/Desktop/NGSolve_for_Thesis/Runge%20Kutta/Runge_Kutta.ipynb#W2sZmlsZQ%3D%3D?line=32'>33</a>\u001b[0m         c,a,b \u001b[39m=\u001b[39m butcher_tableau\n",
      "File \u001b[1;32mc:\\Users\\User\\AppData\\Local\\Programs\\Python\\Python310\\lib\\site-packages\\ipykernel\\kernelbase.py:1161\u001b[0m, in \u001b[0;36mKernel.raw_input\u001b[1;34m(self, prompt)\u001b[0m\n\u001b[0;32m   1157\u001b[0m \u001b[39mif\u001b[39;00m \u001b[39mnot\u001b[39;00m \u001b[39mself\u001b[39m\u001b[39m.\u001b[39m_allow_stdin:\n\u001b[0;32m   1158\u001b[0m     \u001b[39mraise\u001b[39;00m StdinNotImplementedError(\n\u001b[0;32m   1159\u001b[0m         \u001b[39m\"\u001b[39m\u001b[39mraw_input was called, but this frontend does not support input requests.\u001b[39m\u001b[39m\"\u001b[39m\n\u001b[0;32m   1160\u001b[0m     )\n\u001b[1;32m-> 1161\u001b[0m \u001b[39mreturn\u001b[39;00m \u001b[39mself\u001b[39;49m\u001b[39m.\u001b[39;49m_input_request(\n\u001b[0;32m   1162\u001b[0m     \u001b[39mstr\u001b[39;49m(prompt),\n\u001b[0;32m   1163\u001b[0m     \u001b[39mself\u001b[39;49m\u001b[39m.\u001b[39;49m_parent_ident[\u001b[39m\"\u001b[39;49m\u001b[39mshell\u001b[39;49m\u001b[39m\"\u001b[39;49m],\n\u001b[0;32m   1164\u001b[0m     \u001b[39mself\u001b[39;49m\u001b[39m.\u001b[39;49mget_parent(\u001b[39m\"\u001b[39;49m\u001b[39mshell\u001b[39;49m\u001b[39m\"\u001b[39;49m),\n\u001b[0;32m   1165\u001b[0m     password\u001b[39m=\u001b[39;49m\u001b[39mFalse\u001b[39;49;00m,\n\u001b[0;32m   1166\u001b[0m )\n",
      "File \u001b[1;32mc:\\Users\\User\\AppData\\Local\\Programs\\Python\\Python310\\lib\\site-packages\\ipykernel\\kernelbase.py:1205\u001b[0m, in \u001b[0;36mKernel._input_request\u001b[1;34m(self, prompt, ident, parent, password)\u001b[0m\n\u001b[0;32m   1202\u001b[0m             \u001b[39mbreak\u001b[39;00m\n\u001b[0;32m   1203\u001b[0m \u001b[39mexcept\u001b[39;00m \u001b[39mKeyboardInterrupt\u001b[39;00m:\n\u001b[0;32m   1204\u001b[0m     \u001b[39m# re-raise KeyboardInterrupt, to truncate traceback\u001b[39;00m\n\u001b[1;32m-> 1205\u001b[0m     \u001b[39mraise\u001b[39;00m \u001b[39mKeyboardInterrupt\u001b[39;00m(\u001b[39m\"\u001b[39m\u001b[39mInterrupted by user\u001b[39m\u001b[39m\"\u001b[39m) \u001b[39mfrom\u001b[39;00m \u001b[39mNone\u001b[39m\n\u001b[0;32m   1206\u001b[0m \u001b[39mexcept\u001b[39;00m \u001b[39mException\u001b[39;00m:\n\u001b[0;32m   1207\u001b[0m     \u001b[39mself\u001b[39m\u001b[39m.\u001b[39mlog\u001b[39m.\u001b[39mwarning(\u001b[39m\"\u001b[39m\u001b[39mInvalid Message:\u001b[39m\u001b[39m\"\u001b[39m, exc_info\u001b[39m=\u001b[39m\u001b[39mTrue\u001b[39;00m)\n",
      "\u001b[1;31mKeyboardInterrupt\u001b[0m: Interrupted by user"
     ]
    }
   ],
   "source": [
    "\n",
    "#Butcher tableau for Crank-Nicolson method\n",
    "def CrankNicolson():\n",
    "    c = np.array([1 , 1])\n",
    "    a = np.array([[0.5 , 0] , [0 , 0.5]])\n",
    "    b = np.array([0.5 , 0.5])\n",
    "    return [c,a,b]\n",
    "def Heun():\n",
    "    c = np.array([0 , 1])\n",
    "    a = np.array([[0 , 0] , [1 , 0]])\n",
    "    b = np.array([1/2, 1/2])\n",
    "    return [c,a,b]\n",
    "\n",
    "def RK4():\n",
    "    c = np.array([0 , 1/2 , 1/2 , 1])\n",
    "    a = np.array([[0 , 0 , 0 , 0] , [1/2 , 0 , 0 , 0] , [0 , 1/2 , 0 , 0] , [0 , 0 , 1 , 0]])\n",
    "    b = np.array([1/6, 1/3, 1/3, 1/6])\n",
    "    return [c,a,b]\n",
    "def GaussLegendre4():\n",
    "    c = np.array([1/2 - 3**(1/2)/6 , 1/2 + 3**(1/2)/6])\n",
    "    a = np.array([[1/4 , 1/4  - 3**(1/2)/6] , [1/4  - 3**(1/2)/6 , 1/4]])\n",
    "    b = np.array([0.5 , 0.5])\n",
    "    b_star = np.array([1/2 + 3**(1/2)/6, 1/2 - 3**(1/2)/6])\n",
    "    return [c,a,b, b_star]\n",
    "\n",
    "tau = 1/5\n",
    "y_0  = [1,1 , 1]\n",
    "draw = True\n",
    "steps = 10\n",
    "\n",
    "M_f = np.array([[1.0 , 0 , 0 ] , [0 , -1.0 , 0] , [0 , 0 , 0]])\n",
    "\n",
    "\n",
    "y1 = RungeKutta(M = M_f , tau = tau ,t_0 = 0 , butcher_tableau = CrankNicolson() , y_0  = y_0, steps = steps , draw = True )\n",
    "y2 = HeunSolver(M = M_f,steps =steps , tau= tau, y_0=y_0)\n",
    "#y2 = RungeKutta(M = M_f , tau = tau ,t_0 = 0 , butcher_tableau = RK4() , y_0  = y_0, steps = 500 , draw = True )\n",
    "#y3 = RungeKutta(M = M_f , tau = tau ,t_0 = 0 , butcher_tableau = GaussLegendre4() , y_0  = y_0, steps = 500 , draw = True )\n"
   ]
  },
  {
   "cell_type": "code",
   "execution_count": 106,
   "metadata": {},
   "outputs": [
    {
     "name": "stdout",
     "output_type": "stream",
     "text": [
      "general method 0.07214481713445811\n",
      "distance simple heun 0.12260507268561077\n"
     ]
    },
    {
     "data": {
      "image/png": "[encoded data removed]",
      "text/plain": [
       "<Figure size 432x288 with 1 Axes>"
      ]
     },
     "metadata": {
      "needs_background": "light"
     },
     "output_type": "display_data"
    },
    {
     "name": "stdout",
     "output_type": "stream",
     "text": [
      "general method 0.0033262957128555796\n",
      "distance simple heun 0.007731696008084485\n"
     ]
    },
    {
     "data": {
      "image/png": "[encoded data removed]",
      "text/plain": [
       "<Figure size 432x288 with 1 Axes>"
      ]
     },
     "metadata": {
      "needs_background": "light"
     },
     "output_type": "display_data"
    },
    {
     "name": "stdout",
     "output_type": "stream",
     "text": [
      "general method 0.0\n",
      "distance simple heun  0.0\n"
     ]
    },
    {
     "data": {
      "image/png": "[encoded data removed]",
      "text/plain": [
       "<Figure size 432x288 with 1 Axes>"
      ]
     },
     "metadata": {
      "needs_background": "light"
     },
     "output_type": "display_data"
    },
    {
     "data": {
      "image/png": "[encoded data removed]",
      "text/plain": [
       "<Figure size 432x288 with 1 Axes>"
      ]
     },
     "metadata": {
      "needs_background": "light"
     },
     "output_type": "display_data"
    },
    {
     "name": "stdout",
     "output_type": "stream",
     "text": [
      "distance general method 0.07222145721690862\n",
      "distance  simple heun  0.12284861810946565\n"
     ]
    }
   ],
   "source": [
    "def dist(A, B):\n",
    "    return np.sqrt(np.sum((np.array(A) - np.array(B) )*(np.array(A) - np.array(B) )))\n",
    "# is it a good sol?\n",
    "\n",
    "Sol_X =[]\n",
    "Sol_Y =[]\n",
    "Sol_Z =[]\n",
    "\n",
    "T = []\n",
    "\n",
    "X1 = []\n",
    "Y1 = []\n",
    "Z1 = []\n",
    "\n",
    "X2 = []\n",
    "Y2 = []\n",
    "Z2 = []\n",
    "\n",
    "#X3 = []\n",
    "#Y3 = []\n",
    "#Z3 = []\n",
    "\n",
    "for i in range(len(y1)):\n",
    "    T.append(i*tau)\n",
    "    X1.append(y1[i][0])\n",
    "    Y1.append(y1[i][1])\n",
    "    Z1.append(y1[i][2])\n",
    "    X2.append(y2[i][0])\n",
    "    Y2.append(y2[i][1])\n",
    "    Z2.append(y2[i][2])\n",
    "#    X3.append(y3[i][0])\n",
    "#    Y3.append(y3[i][1])\n",
    "#    Z3.append(y3[i][2])\n",
    "    \n",
    "    Sol_X.append(np.exp(i*tau))\n",
    "    Sol_Y.append(np.exp(-i*tau))\n",
    "    Sol_Z.append(1)\n",
    "\n",
    "print(\"general method\" , dist(X1, Sol_X))\n",
    "print(\"distance simple heun\" , dist(X2, Sol_X))\n",
    "#print(\"distance  exact sol\" , dist(X3, Sol_X))\n",
    "plt.plot(T,X1)\n",
    "plt.plot(T,X2)\n",
    "#plt.plot(T,X3)\n",
    "plt.plot(T,Sol_X)\n",
    "plt.legend([\"Generic\",\"SimpleHeun\",\"Exact\"])\n",
    "plt.title(\"X\")\n",
    "plt.show()\n",
    "\n",
    "print(\"general method\" , dist(Y1, Sol_Y))\n",
    "print(\"distance simple heun\" , dist(Y2, Sol_Y))\n",
    "#print(\"distance  exact sol\" , dist(Y3, Sol_Y))\n",
    "plt.plot(T,Y1)\n",
    "plt.plot(T,Y2)\n",
    "#plt.plot(T,Y3)\n",
    "plt.plot(T,Sol_Y)\n",
    "plt.legend([\"Generic\",\"SimpleHeun\",\"Exact\"])\n",
    "plt.title(\"Y\")\n",
    "plt.show()\n",
    "\n",
    "print(\"general method\" , dist(Z1, Sol_Z))\n",
    "print(\"distance simple heun \" , dist(Z2, Sol_Z))\n",
    "#print(\"distance  exact sol\" , dist(Z3, Sol_Z))\n",
    "plt.plot(T,Z1)\n",
    "plt.plot(T,Z2)\n",
    "#plt.plot(T,Z3)\n",
    "plt.plot(T,Sol_Z)\n",
    "plt.legend([\"Generic\",\"SimpleHeun\",\"Exact\"])\n",
    "plt.title(\"Z\")\n",
    "plt.show()\n",
    "\n",
    "\n",
    "plt.plot(X1,Y1)\n",
    "plt.plot(X2,Y2)\n",
    "#plt.plot(X3,Y3)\n",
    "plt.plot(Sol_X,Sol_Y)\n",
    "plt.legend([\"Generic\",\"SimpleHeun\",\"Exact\"])\n",
    "plt.title(\"(X,Y)\")\n",
    "plt.show()\n",
    "\n",
    "\n",
    "# is it a good sol?\n",
    "print(\"distance general method\",dist(np.array([Sol_X, Sol_Y ,Sol_Z]),np.array([X1, Y1 ,Z1]) ))\n",
    "print(\"distance  simple heun \",dist(np.array([Sol_X, Sol_Y ,Sol_Z]),np.array([X2, Y2 ,Z2]) ))\n"
   ]
  },
  {
   "cell_type": "code",
   "execution_count": null,
   "metadata": {},
   "outputs": [],
   "source": []
  },
  {
   "cell_type": "code",
   "execution_count": null,
   "metadata": {},
   "outputs": [],
   "source": []
  },
  {
   "cell_type": "code",
   "execution_count": null,
   "metadata": {},
   "outputs": [
    {
     "name": "stdout",
     "output_type": "stream",
     "text": [
      "[[1 2 3]\n",
      " [4 5 6]\n",
      " [7 8 9]] [1 2 3] = [14 32 50]\n",
      "[1 2 3] [[1 2 3]\n",
      " [4 5 6]\n",
      " [7 8 9]] = [30 36 42]\n"
     ]
    }
   ],
   "source": [
    "x = np.array([1 ,2 ,3])\n",
    "A = np.array([[1 ,2 ,3] , [4 ,5 ,6] , [7 ,8 ,9]])\n",
    "\n",
    "print(A , x ,\"=\",  A.dot(x))\n",
    "print(x , A ,\"=\", x.dot(A))"
   ]
  },
  {
   "cell_type": "code",
   "execution_count": null,
   "metadata": {},
   "outputs": [],
   "source": []
  }
 ],
 "metadata": {
  "kernelspec": {
   "display_name": "Python 3.10.4 64-bit",
   "language": "python",
   "name": "python3"
  },
  "language_info": {
   "codemirror_mode": {
    "name": "ipython",
    "version": 3
   },
   "file_extension": ".py",
   "mimetype": "text/x-python",
   "name": "python",
   "nbconvert_exporter": "python",
   "pygments_lexer": "ipython3",
   "version": "3.10.4"
  },
  "orig_nbformat": 4,
  "vscode": {
   "interpreter": {
    "hash": "afb734500600fd355917ca529030176ea0ca205570884b88f2f6f7d791fd3fbe"
   }
  }
 },
 "nbformat": 4,
 "nbformat_minor": 2
}
