{
 "cells": [
  {
   "cell_type": "markdown",
   "id": "broken-elite",
   "metadata": {},
   "source": [
    "### Some preliminar things:\n",
    "Let $\\Omega \\subset\\mathbb{R}^2$ then we difine the following:\n",
    "\n",
    "$$ \\text{curl}: C^\\infty(\\Omega)^2 \\ni \\begin{pmatrix} u_1 \\\\u_2 \\end{pmatrix}\\to \\partial_1 u_2 - \\partial_2 u_1 \\in C^\\infty(\\Omega) $$\n",
    "$$ \\text{Curl}: C^\\infty(\\Omega)^{2\\times 2 } \\ni \\begin{pmatrix} u_{11} &u_{12}\\\\ u_{21} & u_{22}\\\\ \\end{pmatrix}\n",
    "\\to   \n",
    "\\begin{pmatrix} \\partial_1u_{12}-\\partial_2 u_{11} \\\\ \\partial_1u_{22}-\\partial_2 u_{21} \\\\ \\end{pmatrix} \\in C^\\infty(\\Omega)^2 $$\n",
    "$$ \\text{rot}: C^\\infty(\\Omega)^1 \\ni f \\to \\begin{pmatrix} \\partial_2 f \\\\ -\\partial_1 f  \\end{pmatrix} \\in C^\\infty(\\Omega)^2 $$\n",
    "$$ \\text{Rot}: C^\\infty(\\Omega)^{2 } \\ni \n",
    "\\begin{pmatrix} u_{1}\\\\ u_{2}  \\end{pmatrix}\n",
    "\\to   \n",
    "\\begin{pmatrix} \\partial_2u_{1} & -\\partial_1 u_{1} \\\\ \\partial_2 u_{2} &-\\partial_1 u_{2} \\\\ \\end{pmatrix}\n",
    "\\in C^\\infty(\\Omega)^{2\\times 2} $$\n",
    "\n",
    "It is easy to verify that :\n",
    "$$\n",
    "\\int_{\\Omega} curl ( u ) f = \\int_{\\Omega} u \\cdot rot (f) + \\int_{\\partial \\Omega} (u \\cdot t) f\n",
    "$$\n",
    "\n",
    "$$\n",
    "\\int_{\\Omega} Curl ( \\sigma ) \\cdot u = \\int_{\\Omega} \\sigma \\cdot Rot (u) + \\int_{\\partial \\Omega} (\\sigma t )\\cdot u\n",
    "$$\n",
    "\n",
    "$$\n",
    "\\int_\\Omega Inc(\\sigma) \\phi = \\int_\\Omega \\sigma Rot \\, rot(\\phi) \n",
    "$$\n",
    "Splitting onto the triangulation becomes:\n",
    "$$\n",
    "\\sum_T \\int_T \\sigma Rot \\, rot(\\phi) \n",
    "$$\n",
    "$$\n",
    "\\sum_T \\int_T Curl(\\sigma) \\cdot rot(\\phi) - \\int_{\\partial T} \\sigma_t \\cdot rot(\\phi)\n",
    "$$\n",
    "We now split in tangential and normal componen the last integral, sinco the derivative is allowed only on the faces of the triangle and not accross:\n",
    "$$\n",
    "\\sum_T \\int_T Curl(\\sigma) \\cdot rot(\\phi) - \\int_{\\partial T} \\sigma_{tt} rot(\\phi)\\cdot t + \\sigma_{nt} rot(\\phi)\\cdot n\n",
    "$$\n",
    "\n",
    "Since $\\phi $ is smooth , $\\sigma_{tt}$ is continuous accross the interfaces and $rot( \\phi )\\times t = n \\cdot \\nabla phi $ that cancels because the normal changes sign... then...\n",
    "\n",
    "$$\n",
    "\\sum_T \\int_T Curl(\\sigma) \\cdot rot(\\phi) - \\int_{\\partial T}  \\sigma_{nt} rot(\\phi)\\cdot n\n",
    "$$\n",
    " Similarly $rot(\\phi)\\cdot n = - t \\cdot \\nabla \\phi$ \n",
    "\n",
    "$$\n",
    "\\sum_T \\int_T Curl(\\sigma) \\cdot rot(\\phi) + \\int_{\\partial T} \\sigma_{nt}  t \\cdot \\nabla \\phi\n",
    "$$\n",
    "\n",
    "$$\n",
    "\\sum_T \\int_T curl \\, Curl(\\sigma) \\phi-\\int_{\\partial T} Curl(\\sigma) \\cdot t \\phi + \\int_{\\partial T} \\sigma_{nt}  t \\cdot \\nabla \\phi\n",
    "$$\n",
    "\n",
    "$$\n",
    "\\sum_T \\int_T inc (\\sigma) \\phi-\\int_{\\partial T} Curl(\\sigma) \\cdot t \\phi - \\int_{\\partial T}  t \\cdot \\nabla (\\sigma_{nt})  \\phi\n",
    "+ \\int_{\\partial T}t \\cdot \\nabla   (\\sigma_{nt}  \\phi)\n",
    "$$\n",
    "that is:\n",
    "\n",
    "$$\n",
    "\\sum_T \\int_T inc (\\sigma) \\phi-\\int_{\\partial T} Curl(\\sigma) \\cdot t \\phi - \\int_{\\partial T}  t \\cdot \\nabla (\\sigma_{nt})  \\phi\n",
    "+   \\left. (\\sigma_{nt}  \\phi) \\right \\vert_{V_1}^{V_2}\n",
    "$$\n",
    "Where $\\left.\\left.\\right.\\right \\vert_{V_1}^{V_2}$ Is hust the two vertices evaluation"
   ]
  },
  {
   "cell_type": "markdown",
   "id": "439aab0b",
   "metadata": {},
   "source": [
    "$$\n"
   ]
  },
  {
   "cell_type": "code",
   "execution_count": 1,
   "id": "2f880748",
   "metadata": {},
   "outputs": [],
   "source": [
    "from ngsolve import *\n",
    "from ngsolve.webgui import Draw\n",
    "from netgen.geom2d import unit_square"
   ]
  },
  {
   "cell_type": "code",
   "execution_count": 2,
   "id": "3280f528",
   "metadata": {},
   "outputs": [],
   "source": [
    "def norm(u, Mesh):\n",
    "    with TaskManager():\n",
    "        return sqrt(Integrate( InnerProduct(u,u) , Mesh))\n",
    "\n",
    "def Cof(u):\n",
    "    v = CF( (u[3], u[2], u[1] ,u[0]) , dims=(2,2))\n",
    "    return v\n",
    "\n",
    "def Inc(u):\n",
    "    return u[3].Diff(x).Diff(x) + u[0].Diff(y).Diff(y) - 2*u[1].Diff(x).Diff(y)\n"
   ]
  },
  {
   "cell_type": "markdown",
   "id": "05339471",
   "metadata": {},
   "source": [
    "We need to imlement the following with $\\sigma$ in $Reg^k$ and $\\phi$ in lagrangian of order $k+1$ since the integrals over the Edges have to be well defined and the point evaluation is needed, therefore if $k=0$ then we need some continuity on the vertices!\n",
    "$$\n",
    "\\sum_T \\int_T inc (\\sigma) \\phi\\quad-\\quad\\sum_E\\int_{E} Curl(\\sigma) \\cdot t \\phi \\quad-\\quad \\left.\\sum_E\\int_{E}  n^T (\\frac{\\partial \\sigma}{\\partial t}) t  \\phi\n",
    "\\quad+\\quad   \\sum_{\"V\"} [\\sigma_{nt}  \\phi] \\right\\vert_{V_1}^{V_2}\n",
    "$$"
   ]
  },
  {
   "cell_type": "code",
   "execution_count": 3,
   "id": "1f5ab812",
   "metadata": {},
   "outputs": [],
   "source": [
    "def RunP(Maxh,Order):\n",
    "    # Example of dirichlet boundary condition for the inc in 2D\n",
    "    mesh = Mesh(unit_square.GenerateMesh(maxh=Maxh))\n",
    "    # we set only dirichlet BND\n",
    "    fesHCurlCurl = HCurlCurl(mesh, order=Order, dirichlet=\".*\")\n",
    "    fesH1 =  H1(mesh, order=Order+1, dirichlet= \".*\")\n",
    "\n",
    "    with TaskManager():\n",
    "\n",
    "        ##########################################################\n",
    "        #           Coefficient and grid functions               #\n",
    "        ##########################################################\n",
    "           \n",
    "        # create a continuous functions for our test\n",
    "        zer = 1 #x*y\n",
    "        #peak1 = zer*exp(-25*( (x-0.5)**2))\n",
    "        #peak2 = zer*exp(-25*( (x-0.5)**2 + (y-0.5)**2))\n",
    "        #peak3 = zer*exp(-25*(  (y-0.5)**2))\n",
    "        peak1 = x**4 + y**4\n",
    "        peak2 = (x**2)*(y**2)\n",
    "        peak3 = x**4 + y**4\n",
    "        PEAK = CF ( (peak1, peak2, peak2 ,peak3), dims=(2,2))\n",
    "        # exct differentiation needed for the boundaries and to check the convergence\n",
    "        IncPeak = CF( Inc(PEAK), dims=(1,1) ) \n",
    "        \n",
    "        # grid functions \n",
    "        gfG = GridFunction(fesHCurlCurl) \n",
    "        gfG.Set ( CF ( PEAK, dims=(2,2)), bonus_intorder=15, dual=True)\n",
    "\n",
    "        InterpIncgfG = GridFunction(fesH1)\n",
    "        InterpIncgfG.Set (  IncPeak, bonus_intorder=15, dual=True)\n",
    "\n",
    "        ##########################################################\n",
    "        #              Linear and Bilinear forms                 #\n",
    "        ##########################################################\n",
    "        u,v = fesH1.TnT()\n",
    "\n",
    "        # Mass matrix\n",
    "        a = BilinearForm(fesH1)\n",
    "        a += InnerProduct(u,v)*dx \n",
    "\n",
    "        # linear form induced by the metric gfG\n",
    "        f = LinearForm(fesH1)\n",
    "\n",
    "        # triangle inc part\n",
    "        f += (gfG.Operator(\"inc\"))*v*dx\n",
    "\n",
    "        # edge curl part\n",
    "        t = specialcf.tangential(2)\n",
    "        f += -v*InnerProduct(curl(gfG),t)*dx(element_vb=BND)\n",
    "        \n",
    "        # edge tangential gradient part\n",
    "        n = specialcf.normal(2)\n",
    "        tdergfG = grad(gfG)[t,:]\n",
    "        print(tdergfG.dims)\n",
    "        f += v*InnerProduct( t,tdergfG.Reshape((2,2))*n)*dx(element_vb=BND) \n",
    "\n",
    "        # vertex elements   \n",
    "        Vt = specialcf.VertexTangentialVectors(2)\n",
    "            # I need the normals to be out from the triangle:\n",
    "        Vn0 = CF( (CF((0,-1,1,0), dims= (2,2))*Vt[:,0])  )\n",
    "        Vn1 = CF( (CF((0,1,-1,0), dims= (2,2))*Vt[:,1])  ) \n",
    "\n",
    "        f += v*InnerProduct( Vt[:,0],gfG*Vn0)*dx(element_vb=BBND) \n",
    "        f += v*InnerProduct( Vt[:,1],gfG*Vn1)*dx(element_vb=BBND) \n",
    "\n",
    "        \n",
    "        ##########################################################\n",
    "        #           Assemble, compute and print!                 #\n",
    "        ##########################################################\n",
    "        #\n",
    "        # In this part we need to implement the homogeization process\n",
    "        # for our system: u_0F= A_FF ^-1 (f_F - [A u_D]_F )  ;\n",
    "        # to rimplify we use an intermediate step | r = f_F - [A u_D]_F\n",
    "        #                                         | u_0F= A_FF ^-1 r  \n",
    "\n",
    "\n",
    "        # Assemblation of the 2 forms\n",
    "        a.Assemble()\n",
    "        f.Assemble()\n",
    "\n",
    "        # Set the Dirichlet boundary part\n",
    "        gfCurlCurlG = GridFunction(fesH1)\n",
    "        gfCurlCurlG.Set(IncPeak, BND)\n",
    "        #Draw(gfCurlCurlG)\n",
    "        \n",
    "        r = f.vec.CreateVector()\n",
    "        r.data = f.vec - a.mat * gfCurlCurlG.vec\n",
    "        gfCurlCurlG.vec.data += a.mat.Inverse(freedofs=fesH1.FreeDofs(),inverse=\"sparsecholesky\") * r\n",
    "\n",
    "        print(\"Real inc of PEAK function\")\n",
    "        Draw (IncPeak, mesh, clipping=(0,1,1),name = \"Real inc gfG\",deformation=False)\n",
    "        print(\"my inc of PEAK function\")\n",
    "        Draw (gfCurlCurlG,mesh, draw_surf=True, clipping=(0,1,1), deformation=False)\n",
    "        print(\"Error  when order is \"+str(Order)+\"-->\"+str(norm(IncPeak-gfCurlCurlG,mesh)) )\n",
    "        Draw (IncPeak-gfCurlCurlG,mesh, draw_surf=True, clipping=(0,1,1), deformation=True)\n",
    "        \n",
    "        \n",
    "        return norm(IncPeak-gfCurlCurlG,mesh)\n",
    "\n",
    "\n"
   ]
  },
  {
   "cell_type": "code",
   "execution_count": 4,
   "id": "2f025165",
   "metadata": {},
   "outputs": [
    {
     "name": "stdout",
     "output_type": "stream",
     "text": [
      "0: 4\n",
      "\n",
      "Real inc of PEAK function\n"
     ]
    },
    {
     "data": {
      "application/vnd.jupyter.widget-view+json": {
       "model_id": "2d7fde8eac0e4c79ae341ff01be6a6eb",
       "version_major": 2,
       "version_minor": 0
      },
      "text/plain": [
       "WebGuiWidget(value={'ngsolve_version': '6.2.2203', 'mesh_dim': 2, 'order2d': 2, 'order3d': 2, 'draw_vol': Fals…"
      ]
     },
     "metadata": {},
     "output_type": "display_data"
    },
    {
     "name": "stdout",
     "output_type": "stream",
     "text": [
      "my inc of PEAK function\n"
     ]
    },
    {
     "data": {
      "application/vnd.jupyter.widget-view+json": {
       "model_id": "863644a5b0684057ba7082fb26aac87f",
       "version_major": 2,
       "version_minor": 0
      },
      "text/plain": [
       "WebGuiWidget(value={'ngsolve_version': '6.2.2203', 'mesh_dim': 2, 'order2d': 2, 'order3d': 2, 'draw_vol': Fals…"
      ]
     },
     "metadata": {},
     "output_type": "display_data"
    },
    {
     "name": "stdout",
     "output_type": "stream",
     "text": [
      "Error  when order is 2-->6.04811126598079e-11\n"
     ]
    },
    {
     "data": {
      "application/vnd.jupyter.widget-view+json": {
       "model_id": "7f1d2c20c3e5403f8cbea47264cbac4a",
       "version_major": 2,
       "version_minor": 0
      },
      "text/plain": [
       "WebGuiWidget(value={'ngsolve_version': '6.2.2203', 'mesh_dim': 2, 'order2d': 2, 'order3d': 2, 'draw_vol': Fals…"
      ]
     },
     "metadata": {},
     "output_type": "display_data"
    }
   ],
   "source": [
    "Maxh = 0.2\n",
    "Order = 2\n",
    "with TaskManager():\n",
    "    RunP(Maxh, Order)\n"
   ]
  },
  {
   "cell_type": "code",
   "execution_count": null,
   "id": "539cc436",
   "metadata": {},
   "outputs": [],
   "source": []
  },
  {
   "cell_type": "code",
   "execution_count": null,
   "id": "4cddf070",
   "metadata": {},
   "outputs": [],
   "source": []
  }
 ],
 "metadata": {
  "interpreter": {
   "hash": "afb734500600fd355917ca529030176ea0ca205570884b88f2f6f7d791fd3fbe"
  },
  "kernelspec": {
   "display_name": "Python 3 (ipykernel)",
   "language": "python",
   "name": "python3"
  },
  "language_info": {
   "codemirror_mode": {
    "name": "ipython",
    "version": 3
   },
   "file_extension": ".py",
   "mimetype": "text/x-python",
   "name": "python",
   "nbconvert_exporter": "python",
   "pygments_lexer": "ipython3",
   "version": "3.10.4"
  }
 },
 "nbformat": 4,
 "nbformat_minor": 5
}
