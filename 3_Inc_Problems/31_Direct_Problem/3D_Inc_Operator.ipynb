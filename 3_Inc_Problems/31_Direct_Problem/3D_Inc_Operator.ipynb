{
 "cells": [
  {
   "cell_type": "markdown",
   "id": "broken-elite",
   "metadata": {},
   "source": []
  },
  {
   "cell_type": "markdown",
   "id": "439aab0b",
   "metadata": {},
   "source": [
    "$$\n"
   ]
  },
  {
   "cell_type": "code",
   "execution_count": 1,
   "id": "2f880748",
   "metadata": {},
   "outputs": [],
   "source": [
    "import time\n",
    "\n",
    "from ngsolve import *\n",
    "from ngsolve.webgui import Draw\n",
    "from netgen.csg import unit_cube\n",
    "from ngsolve.krylovspace import CGSolver"
   ]
  },
  {
   "cell_type": "code",
   "execution_count": 2,
   "id": "3280f528",
   "metadata": {},
   "outputs": [],
   "source": [
    "n = specialcf.normal(3)\n",
    "def norm(u, Mesh):\n",
    "    with TaskManager():\n",
    "        return sqrt(Integrate( InnerProduct(u,u) , Mesh))\n",
    "def Curl(u):\n",
    "    if u.dim == 3:\n",
    "        return CF( (u[1].Diff(z)- u[2].Diff(y), u[2].Diff(x)- u[0].Diff(z), u[0].Diff(y)- u[1].Diff(x)) )\n",
    "    if u.dim == 9:\n",
    "        return CF( (Curl(u[0,:]),Curl(u[1,:]),Curl(u[2,:])),dims=(3,3) )\n",
    "def Inc(u):\n",
    "    return Curl((Curl(u)).trans)\n",
    "P_n = OuterProduct(n,n) \n",
    "Q_n = Id(3) - OuterProduct(n,n) \n",
    "C_n = CF(      (0,n[2],-n[1],-n[2],0,n[0],n[1],-n[0],0), dims=(3,3) )\n",
    "def C(V): \n",
    "    return CF( (0,V[2],-V[1],-V[2],0,V[0],V[1],-V[0],0), dims=(3,3) ) \n",
    "\n"
   ]
  },
  {
   "cell_type": "markdown",
   "id": "05339471",
   "metadata": {},
   "source": [
    "We need to imlement the following with $\\sigma$ in $Reg^k$ and $\\phi$ in lagrangian of order $k+1$ since the integrals over the Edges have to be well defined and the point evaluation is needed, therefore if $k=0$ then we need some continuity on the vertices!\n",
    "$$\n",
    "\\sum_T \\int_T inc (\\sigma) \\phi\n",
    "\\quad - \\quad\n",
    "2\\sum_F \\int_{F} C_n \\, curl_f( u ) : \\phi \n",
    "\\quad - \\quad\n",
    "2\\sum_F\\int_{F} C_n \\, rot_f( u ) : \\phi \n",
    "\\quad + \\quad\n",
    "\\sum_E\\int_{E} t^T( \\phi C_n u  -u C_n \\phi  ) n \n",
    "$$\n",
    "\n",
    "With $$curl_f( u ) = curl(u Q_n)P_n $$ and  $$ rot_f( u ) = curl(u P_n)Q_n $$\n"
   ]
  },
  {
   "cell_type": "code",
   "execution_count": 3,
   "id": "1f5ab812",
   "metadata": {},
   "outputs": [],
   "source": [
    "def RunP(Maxh,Order):\n",
    "    mesh = Mesh(unit_cube.GenerateMesh(maxh=Maxh))\n",
    "    fesHCurlCurl = HCurlCurl(mesh, order=Order, dirichlet= \".*\")\n",
    "    with TaskManager():\n",
    "        start = time.time()\n",
    "        ##########################################################\n",
    "        #           Coefficient and grid functions               #\n",
    "        ##########################################################\n",
    "           \n",
    "        # continuous functions\n",
    "        peak = exp(-25*( (x-0.5)**2 + (y-0.5)**2 +(z-0.5)**2))\n",
    "\n",
    "        PEAK = CF ( (peak, 0, 0 , 0,peak,0,0,0,peak), dims=(3,3))\n",
    "        IncPeak = CF( Inc(PEAK), dims=(3,3) )\n",
    "\n",
    "        # grid functions \n",
    "        gfG = GridFunction(fesHCurlCurl) \n",
    "        gfG.Set ( PEAK, bonus_intorder=10, dual=True)\n",
    "\n",
    "        gfCurlCurlG = GridFunction(fesHCurlCurl)\n",
    "        gfCurlCurlG.Set(IncPeak, BND,  bonus_intorder=9, dual=True)\n",
    "\n",
    "        end = time.time()\n",
    "        print(\"Time coeff and frid functions :\"+str(end-start))\n",
    "        ##########################################################\n",
    "        #              Linear and Bilinear forms                 #\n",
    "        ##########################################################\n",
    "        start = time.time()\n",
    "        u,v = fesHCurlCurl.TnT()\n",
    "        #some geometrical objects we need\n",
    "        n_cross_v = CF( (Cross(n,v[0,:]),Cross(n,v[1,:]),Cross(n,v[2,:])), dims=(3,3) )\n",
    "        t1 =specialcf.EdgeFaceTangentialVectors(3)[:,0]\n",
    "        t2 =specialcf.EdgeFaceTangentialVectors(3)[:,1]\n",
    "        e = specialcf.tangential(3,True)\n",
    "        n1 = Cross( t1, e)\n",
    "        n2 = Cross( t2, e) \n",
    "\n",
    "        # Mass matrix\n",
    "        a = BilinearForm(fesHCurlCurl)\n",
    "        a += InnerProduct(u,v)*dx \n",
    "\n",
    "\n",
    "        # linear form induced by the metric gfG\n",
    "        f = LinearForm(fesHCurlCurl)\n",
    "\n",
    "        # thetrahedron inc part\n",
    "        f += InnerProduct(gfG.Operator(\"inc\"),v)*dx        \n",
    "        # faces part:\n",
    "        f += ( InnerProduct(Q_n*n_cross_v, curl(gfG).trans) + Cross(gfG*n,n)*(curl(v)*n) )*dx(element_boundary=True)\n",
    "        # Edges components: t'*v*C_n*n\n",
    "        f += (gfG[n1,e]*v[e,t1] - gfG[n2,e]*v[e,t2])*dx(element_vb=BBND)\n",
    "        \n",
    "\n",
    "        end = time.time()\n",
    "        print(\"Time define linear and blinear form :\"+str(end-start))\n",
    "\n",
    "        ##########################################################\n",
    "        #           Assemble, compute and print!                 #\n",
    "        ##########################################################\n",
    "\n",
    "        start = time.time()\n",
    "        pre = Preconditioner(a, \"local\")\n",
    "        a.Assemble()\n",
    "        f.Assemble()\n",
    "\n",
    "\n",
    "        r = f.vec.CreateVector()\n",
    "        r.data = f.vec - a.mat * gfCurlCurlG.vec\n",
    "        inverse = CGSolver(a.mat, pre.mat , printrates='\\r', maxiter=1000,tol=1e-9)\n",
    "        gfCurlCurlG.vec.data += inverse * r\n",
    "        #gfCurlCurlG.vec.data += a.mat.Inverse(freedofs=fesHCurlCurl.FreeDofs(),inverse=\"sparsecholesky\") * r\n",
    "        \n",
    "\n",
    "\n",
    "        end = time.time()\n",
    "        print(\"Assemble and find inverse :\"+str(end-start))\n",
    "\n",
    "        start = time.time()\n",
    "        print(\"error of my inc\")\n",
    "        Error = norm(IncPeak-gfCurlCurlG,mesh)\n",
    "        print(\"Error inc(PEAK)-gfcurlCurlG when order is \"+str(Order)+\"-->\"+str(Error) )\n",
    "        Draw (gfCurlCurlG-IncPeak,mesh, draw_surf=True, clipping=(0,1,1), deformation=False)\n",
    "        Draw (gfCurlCurlG,mesh, draw_surf=True, clipping=(0,1,1), deformation=False)\n",
    "        Draw (IncPeak, mesh, clipping=(0,1,1),name = \"Real inc gfG\",deformation=False) \n",
    "\n",
    "        end = time.time()\n",
    "        print(\"time to draw :\"+str(end-start))\n",
    "        return gfCurlCurlG"
   ]
  },
  {
   "cell_type": "code",
   "execution_count": 4,
   "id": "2f025165",
   "metadata": {},
   "outputs": [
    {
     "name": "stdout",
     "output_type": "stream",
     "text": [
      "Time coeff and frid functions :2.2959818840026855\n",
      "Time define linear and blinear form :0.0019948482513427734\n",
      "CG converged in 809 iterations to residual 2.3346858790336428e-08\n",
      "Assemble and find inverse :9.838607549667358\n",
      "error of my inc\n",
      "Error inc(PEAK)-gfcurlCurlG when order is 2-->0.09840398208894656\n"
     ]
    },
    {
     "data": {
      "application/vnd.jupyter.widget-view+json": {
       "model_id": "3142c757df6a4cd78d24dc34a57b9dfc",
       "version_major": 2,
       "version_minor": 0
      },
      "text/plain": [
       "WebGuiWidget(value={'ngsolve_version': '6.2.2203', 'mesh_dim': 3, 'order2d': 2, 'order3d': 2, 'draw_vol': True…"
      ]
     },
     "metadata": {},
     "output_type": "display_data"
    },
    {
     "data": {
      "application/vnd.jupyter.widget-view+json": {
       "model_id": "8b7becc0e4334c72abe08ac92049e2f4",
       "version_major": 2,
       "version_minor": 0
      },
      "text/plain": [
       "WebGuiWidget(value={'ngsolve_version': '6.2.2203', 'mesh_dim': 3, 'order2d': 2, 'order3d': 2, 'draw_vol': True…"
      ]
     },
     "metadata": {},
     "output_type": "display_data"
    },
    {
     "data": {
      "application/vnd.jupyter.widget-view+json": {
       "model_id": "b3a060745eb04087889a235824ca852a",
       "version_major": 2,
       "version_minor": 0
      },
      "text/plain": [
       "WebGuiWidget(value={'ngsolve_version': '6.2.2203', 'mesh_dim': 3, 'order2d': 2, 'order3d': 2, 'draw_vol': True…"
      ]
     },
     "metadata": {},
     "output_type": "display_data"
    },
    {
     "name": "stdout",
     "output_type": "stream",
     "text": [
      "time to draw :6.036259651184082\n"
     ]
    }
   ],
   "source": [
    "Maxh = 0.1\n",
    "Order = 2\n",
    "with TaskManager():\n",
    "    RunP(Maxh, Order)\n"
   ]
  },
  {
   "cell_type": "code",
   "execution_count": 5,
   "id": "60d0be20",
   "metadata": {},
   "outputs": [],
   "source": [
    "def Run(Maxh,Order):\n",
    "    mesh = Mesh(unit_cube.GenerateMesh(maxh=Maxh))\n",
    "    fesHCurlCurl = HCurlCurl(mesh, order=Order, dirichlet= \".*\")\n",
    "    with TaskManager():\n",
    "        start = time.time()\n",
    "        ##########################################################\n",
    "        #           Coefficient and grid functions               #\n",
    "        ##########################################################\n",
    "           \n",
    "        # continuous functions\n",
    "        peak = exp(-25*( (x-0.5)**2 + (y-0.5)**2 +(z-0.5)**2))\n",
    "\n",
    "        PEAK = CF ( (peak, 0, 0 , 0,peak,0,0,0,peak), dims=(3,3))\n",
    "        IncPeak = CF( Inc(PEAK), dims=(3,3) )\n",
    "\n",
    "        # grid functions \n",
    "        gfG = GridFunction(fesHCurlCurl) \n",
    "        gfG.Set ( PEAK, bonus_intorder=10, dual=True)\n",
    "\n",
    "        gfCurlCurlG = GridFunction(fesHCurlCurl)\n",
    "        gfCurlCurlG.Set(IncPeak, BND,  bonus_intorder=9, dual=True)\n",
    "\n",
    "        end = time.time()\n",
    "        #print(\"Time coeff and frid functions :\"+str(end-start))\n",
    "        ##########################################################\n",
    "        #              Linear and Bilinear forms                 #\n",
    "        ##########################################################\n",
    "        start = time.time()\n",
    "        u,v = fesHCurlCurl.TnT()\n",
    "        #some geometrical objects we need\n",
    "        n_cross_v = CF( (Cross(n,v[0,:]),Cross(n,v[1,:]),Cross(n,v[2,:])), dims=(3,3) )\n",
    "        t1 =specialcf.EdgeFaceTangentialVectors(3)[:,0]\n",
    "        t2 =specialcf.EdgeFaceTangentialVectors(3)[:,1]\n",
    "        e = specialcf.tangential(3,True)\n",
    "        n1 = Cross( t1, e)\n",
    "        n2 = Cross( t2, e) \n",
    "\n",
    "        # Mass matrix\n",
    "        a = BilinearForm(fesHCurlCurl)\n",
    "        a += InnerProduct(u,v)*dx \n",
    "\n",
    "\n",
    "        # linear form induced by the metric gfG\n",
    "        f = LinearForm(fesHCurlCurl)\n",
    "\n",
    "        # thetrahedron inc part\n",
    "        f += InnerProduct(gfG.Operator(\"inc\"),v)*dx        \n",
    "        # faces part:\n",
    "        f += ( InnerProduct(Q_n*n_cross_v, curl(gfG).trans) + Cross(gfG*n,n)*(curl(v)*n) )*dx(element_boundary=True)\n",
    "        # Edges components: t'*v*C_n*n\n",
    "        f += (gfG[n1,e]*v[e,t1] - gfG[n2,e]*v[e,t2])*dx(element_vb=BBND)\n",
    "        \n",
    "\n",
    "        end = time.time()\n",
    "        #print(\"Time define linear and blinear form :\"+str(end-start))\n",
    "\n",
    "        ##########################################################\n",
    "        #           Assemble, compute and print!                 #\n",
    "        ##########################################################\n",
    "\n",
    "        start = time.time()\n",
    "        #pre = Preconditioner(a, \"local\")\n",
    "        a.Assemble()\n",
    "        f.Assemble()\n",
    "\n",
    "\n",
    "        r = f.vec.CreateVector()\n",
    "        r.data = f.vec - a.mat * gfCurlCurlG.vec\n",
    "        #inverse = CGSolver(a.mat, pre.mat , printrates='\\r', maxiter=500,tol=1e-9)\n",
    "        gfCurlCurlG.vec.data += a.mat.Inverse(freedofs=fesHCurlCurl.FreeDofs(),inverse=\"sparsecholesky\") * r\n",
    "        #gfCurlCurlG.vec.data += inverse * r\n",
    "\n",
    "\n",
    "        end = time.time()\n",
    "        #print(\"Assemble and find inverse :\"+str(end-start))\n",
    "\n",
    "        start = time.time()\n",
    "        #print(\"error of my inc\")\n",
    "        Error = norm(IncPeak-gfCurlCurlG,mesh)\n",
    "        #print(\"Error inc(PEAK)-gfcurlCurlG when order is \"+str(Order)+\"-->\"+str(Error) )\n",
    "        #Draw (gfCurlCurlG-IncPeak,mesh, draw_surf=True, clipping=(0,1,1), deformation=False)\n",
    "        #Draw (gfCurlCurlG,mesh, draw_surf=True, clipping=(0,1,1), deformation=False)\n",
    "        #Draw (IncPeak, mesh, clipping=(0,1,1),name = \"Real inc gfG\",deformation=False) \n",
    "\n",
    "        end = time.time()\n",
    "        print(\"Orrder \"+str(Order)+\" Meshsize \"+str(Maxh))\n",
    "        return Error"
   ]
  },
  {
   "cell_type": "code",
   "execution_count": 6,
   "id": "aa95940b",
   "metadata": {},
   "outputs": [],
   "source": [
    "#import matplotlib; import numpy as np; import matplotlib.pyplot as plt; \n",
    "#E = []\n",
    "#for Order in [0,1,2,3,4,5]:\n",
    "#    E.append(Run(Maxh, Order))\n",
    "#\n",
    "#"
   ]
  },
  {
   "cell_type": "code",
   "execution_count": 7,
   "id": "cb3f69f5",
   "metadata": {},
   "outputs": [],
   "source": [
    "#print(E)\n",
    "#plt.plot([0,1,2,3,4,5],np.log(E) )\n",
    "#plt.grid(True)\n",
    "#plt.show()"
   ]
  },
  {
   "cell_type": "code",
   "execution_count": 8,
   "id": "39dca259",
   "metadata": {},
   "outputs": [],
   "source": [
    "#import matplotlib; import numpy as np; import matplotlib.pyplot as plt; \n",
    "#E0 = []\n",
    "#for Maxh in [0.2,0.1,0.05,0.025]:\n",
    "#    E0.append(Run(Maxh, 0))\n",
    "#\n",
    "#print(E0)\n",
    "#plt.plot([0.2,0.1,0.05,0.025],np.log(E0) )\n",
    "#plt.grid(True)\n",
    "#plt.show()"
   ]
  },
  {
   "cell_type": "code",
   "execution_count": 9,
   "id": "191fe227",
   "metadata": {},
   "outputs": [],
   "source": [
    "#import matplotlib; import numpy as np; import matplotlib.pyplot as plt; \n",
    "#E1 = []\n",
    "#for Maxh in [0.2,0.1,0.05,0.025]:\n",
    "#    E1.append(Run(Maxh, 1))\n",
    "#\n",
    "#print(E1)\n",
    "#plt.plot([0.2,0.1,0.05,0.025],np.log(E1) )\n",
    "#plt.grid(True)\n",
    "#plt.show()"
   ]
  },
  {
   "cell_type": "code",
   "execution_count": 10,
   "id": "7496bb25",
   "metadata": {},
   "outputs": [],
   "source": [
    "#import matplotlib; import numpy as np; import matplotlib.pyplot as plt; \n",
    "#E2 = []\n",
    "#for Maxh in [0.2,0.1,0.05,0.025]:\n",
    "#    E2.append(Run(Maxh, 2))\n",
    "#\n",
    "#print(E1)\n",
    "#plt.plot([0.2,0.1,0.05,0.025],np.log(E2) )\n",
    "#plt.grid(True)\n",
    "#plt.show()"
   ]
  }
 ],
 "metadata": {
  "interpreter": {
   "hash": "afb734500600fd355917ca529030176ea0ca205570884b88f2f6f7d791fd3fbe"
  },
  "kernelspec": {
   "display_name": "Python 3 (ipykernel)",
   "language": "python",
   "name": "python3"
  },
  "language_info": {
   "codemirror_mode": {
    "name": "ipython",
    "version": 3
   },
   "file_extension": ".py",
   "mimetype": "text/x-python",
   "name": "python",
   "nbconvert_exporter": "python",
   "pygments_lexer": "ipython3",
   "version": "3.10.4"
  }
 },
 "nbformat": 4,
 "nbformat_minor": 5
}
