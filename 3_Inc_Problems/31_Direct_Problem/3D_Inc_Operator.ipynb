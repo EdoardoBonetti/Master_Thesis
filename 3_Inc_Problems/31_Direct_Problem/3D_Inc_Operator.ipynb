{
 "cells": [
  {
   "cell_type": "markdown",
   "id": "broken-elite",
   "metadata": {},
   "source": [
    "# The Inc operator:\n",
    "## Direct problem in 3D\n",
    "\n",
    "The problem is :given $\\gamma$, find $f$ such that:\n",
    "$$\n",
    "\\begin{cases}\n",
    "\\text{inc } \\gamma = f & \\text{in } \\Omega\\\\\n",
    "\\left . f \\right \\vert_{\\partial\\Omega} = f_0 & \\text{in } \\partial\\Omega\n",
    "\\end{cases}\n",
    "$$\n",
    "\n",
    "In the thesis is proven that the distributive $\\text{inc}$ operator is given by:\n",
    "$$\n",
    "    \\left\\langle \\text{ inc }\\gamma , \\phi \\right\\rangle\n",
    "    =\n",
    "     \\sum_T\\left\\lbrace \\int_T \\text{ inc } \\gamma:  \\phi  \n",
    "    -\\sum_{F\\subset T} \\left[\\int_{F}\\left[\\text{ curl } \\gamma\\right]_{QQ}: \\left[C_n\\phi\\right]_{QQ} \n",
    "    - \\text{ rot } _F ( \\left[C_n\\gamma\\right]_{PQ}) : \\left[ \\phi\\right]_{QQ}\n",
    "    -\\sum_{E \\subset F}\\int_{E}\n",
    "    \\left[C_n\\gamma \\right]_{PQ} n  \\cdot \\left[\\phi\\right]_{QQ} t_{E}\\right] \\right\\rbrace \n",
    "$$\n",
    "with \n",
    "$$ rot_F( u ) = curl(u P_n)Q_n $$\n",
    "If the following conditions are satisfied:\n",
    "\n",
    "1. $\\text{inc }\\gamma_i$ is well defined for all $\\gamma_i$  function on the triangle  $T_i$ .\n",
    "2. $\\gamma := \\sum_i \\gamma_i$ is tt-continuous on the boundary of $T_i$.\n",
    "3. All the above integrals are well define on the faces and eges of the triangulation."
   ]
  },
  {
   "cell_type": "markdown",
   "id": "439aab0b",
   "metadata": {},
   "source": [
    "$$\n"
   ]
  },
  {
   "cell_type": "code",
   "execution_count": 16,
   "id": "2f880748",
   "metadata": {},
   "outputs": [],
   "source": [
    "import time\n",
    "\n",
    "from ngsolve import *\n",
    "from ngsolve.webgui import Draw\n",
    "from netgen.csg import unit_cube\n",
    "from ngsolve.krylovspace import CGSolver"
   ]
  },
  {
   "cell_type": "code",
   "execution_count": 17,
   "id": "3280f528",
   "metadata": {},
   "outputs": [],
   "source": [
    "n = specialcf.normal(3) # normal vector to a surface of a tetrahedron\n",
    "\n",
    "def norm(u, Mesh):\n",
    "    # norm of a scalar, vector or matrix function\n",
    "    with TaskManager():\n",
    "        return sqrt(Integrate( InnerProduct(u,u) , Mesh)) \n",
    "\n",
    "def Curl(u):\n",
    "    # curl of a vector or matrix\n",
    "    if u.dim == 3:\n",
    "        return CF( (u[2].Diff(y)- u[1].Diff(z), u[0].Diff(z)- u[2].Diff(x), u[1].Diff(x)- u[0].Diff(y)) )\n",
    "    if u.dim == 9:\n",
    "        return CF( (Curl(u[0,:]),Curl(u[1,:]),Curl(u[2,:])),dims=(3,3) )\n",
    "\n",
    "def Inc(u):\n",
    "    # inc of a matrix\n",
    "    return Curl((Curl(u)).trans)\n",
    "\n",
    "P_n = OuterProduct(n,n)  # projection along normal direction\n",
    "Q_n = Id(3) - OuterProduct(n,n) # projection along tangential direction\n",
    "C_n = CF( (0,n[2],-n[1],-n[2],0,n[0],n[1],-n[0],0), dims=(3,3) ) # corss product perator with the normal vector\n",
    "\n",
    "def C(V): \n",
    "    # corss product perator with the generic vector\n",
    "    return CF( (0,V[2],-V[1],-V[2],0,V[0],V[1],-V[0],0), dims=(3,3) ) \n"
   ]
  },
  {
   "cell_type": "code",
   "execution_count": 20,
   "id": "1f5ab812",
   "metadata": {},
   "outputs": [],
   "source": [
    "def distributive_inc(mesh,order = 1, gamma = None, BND_Inc_gamma = None ,draw = True, bonus_intorder = 15):\n",
    "    \n",
    "    fesHCurlCurl = HCurlCurl(mesh, order=order, dirichlet= \".*\")     \n",
    "    \n",
    "    gf_gamma = GridFunction(fesHCurlCurl) \n",
    "    gf_gamma.Set ( gamma, bonus_intorder=10, dual=True)\n",
    "\n",
    "    gf_inc_gamma = GridFunction(fesHCurlCurl)\n",
    "    gf_inc_gamma.Set(BND_Inc_gamma, BND,  bonus_intorder=9, dual=True)\n",
    "\n",
    "    ##########################################################\n",
    "    #              Linear and Bilinear forms                 #\n",
    "    ##########################################################\n",
    "\n",
    "    u,v = fesHCurlCurl.TnT()\n",
    "\n",
    "    #some geometrical objects we need\n",
    "\n",
    "    n = specialcf.normal(3) # normal vector to a surface of a tetrahedron\n",
    "    n_cross_v = CF( (Cross(n,v[0,:]),Cross(n,v[1,:]),Cross(n,v[2,:])), dims=(3,3) )\n",
    "    t1 =specialcf.EdgeFaceTangentialVectors(3)[:,0]\n",
    "    t2 =specialcf.EdgeFaceTangentialVectors(3)[:,1]\n",
    "    e = specialcf.tangential(3,True)\n",
    "    n1 = Cross( t1, e)\n",
    "    n2 = Cross( t2, e) \n",
    "\n",
    "    # Mass matrix\n",
    "    a = BilinearForm(fesHCurlCurl)\n",
    "    a += InnerProduct(u,v)*dx \n",
    "\n",
    "    # linear form induced by the metric gfG\n",
    "    f = LinearForm(fesHCurlCurl)\n",
    "\n",
    "    # thetrahedron inc part\n",
    "    f += InnerProduct(gf_gamma.Operator(\"inc\"),v)*dx        \n",
    "    # faces part:\n",
    "    f += ( InnerProduct(Q_n*n_cross_v, curl(gf_gamma).trans) + Cross(gf_gamma*n,n)*(curl(v)*n) )*dx(element_boundary=True)\n",
    "    # Edges components: t'*v*C_n*n\n",
    "    f += (gf_gamma[n1,e]*v[e,t1] - gf_gamma[n2,e]*v[e,t2])*dx(element_vb=BBND)\n",
    "        \n",
    "\n",
    "\n",
    "    ##########################################################\n",
    "    #           Assemble, compute and print!                 #\n",
    "    ##########################################################\n",
    "\n",
    "    pre = Preconditioner(a, \"local\")\n",
    "    a.Assemble()\n",
    "    f.Assemble()\n",
    "\n",
    "    r = f.vec.CreateVector()\n",
    "    r.data = f.vec - a.mat * gf_inc_gamma.vec\n",
    "    inverse = CGSolver(a.mat, pre.mat , printrates='\\r', maxiter=1000,tol=1e-12)\n",
    "    gf_inc_gamma.vec.data += inverse * r\n",
    "    #gfCurlCurlG.vec.data += a.mat.Inverse(freedofs=fesHCurlCurl.FreeDofs(),inverse=\"sparsecholesky\") * r\n",
    "        \n",
    "\n",
    "    if draw:\n",
    "        print(\"gf_gamma\")\n",
    "        Draw(gf_gamma, mesh, \"gf_gamma\", draw_surf=True, clipping=(0,1,1), deformation=False)\n",
    "        print(\"gamma\")\n",
    "        Draw(gamma, mesh, \"gf_gamma\", draw_surf=True, clipping=(0,1,1), deformation=False)\n",
    "        print(\"norm(gf_gamma- gamma) = \", norm(gamma-gf_gamma,mesh))\n",
    "        Draw(gf_gamma - gamma, mesh, \"gf_gamma - gamma\", draw_surf=True, clipping=(0,1,1), deformation=False)\n",
    "\n",
    "        print(\"gf_inc_gamma\")\n",
    "        Draw(gf_inc_gamma, mesh, \"gf_inc_gamma\", draw_surf=True, clipping=(0,1,1), deformation=False)\n",
    "        print(\"inc(gamma)\")\n",
    "        Draw(BND_Inc_gamma, mesh, \"inc(gamma)\", draw_surf=True, clipping=(0,1,1), deformation=False)\n",
    "        print(\"norm(gf_inc_gamma - inc(gamma)) = \", norm(gf_inc_gamma - BND_Inc_gamma, mesh))\n",
    "        Draw(gf_inc_gamma - BND_Inc_gamma, mesh, \"gf_inc_gamma - BND_Inc_gamma\", draw_surf=True, clipping=(0,1,1), deformation=False)\n",
    "        \n",
    "    return gf_inc_gamma , gf_gamma "
   ]
  },
  {
   "cell_type": "code",
   "execution_count": 23,
   "id": "2f025165",
   "metadata": {},
   "outputs": [
    {
     "name": "stdout",
     "output_type": "stream",
     "text": [
      "WARNING: CG did not converge to TOL934491115237e-10     \n",
      "CG NOT converged in 1000 iterations to residual 2.461934491115237e-10\n",
      "gf_gamma\n"
     ]
    },
    {
     "data": {
      "application/vnd.jupyter.widget-view+json": {
       "model_id": "159b5a3c6e5447369cc4afe48e82f296",
       "version_major": 2,
       "version_minor": 0
      },
      "text/plain": [
       "WebGuiWidget(value={'ngsolve_version': '6.2.2203', 'mesh_dim': 3, 'order2d': 2, 'order3d': 2, 'draw_vol': True…"
      ]
     },
     "metadata": {},
     "output_type": "display_data"
    },
    {
     "name": "stdout",
     "output_type": "stream",
     "text": [
      "gamma\n"
     ]
    },
    {
     "data": {
      "application/vnd.jupyter.widget-view+json": {
       "model_id": "876ee18860c54b1c8cccd268d7e187ec",
       "version_major": 2,
       "version_minor": 0
      },
      "text/plain": [
       "WebGuiWidget(value={'ngsolve_version': '6.2.2203', 'mesh_dim': 3, 'order2d': 2, 'order3d': 2, 'draw_vol': True…"
      ]
     },
     "metadata": {},
     "output_type": "display_data"
    },
    {
     "name": "stdout",
     "output_type": "stream",
     "text": [
      "norm(gf_gamma- gamma) =  0.0009271478137042044\n"
     ]
    },
    {
     "data": {
      "application/vnd.jupyter.widget-view+json": {
       "model_id": "2d4faf97d4954a4389feb6359fd696e4",
       "version_major": 2,
       "version_minor": 0
      },
      "text/plain": [
       "WebGuiWidget(value={'ngsolve_version': '6.2.2203', 'mesh_dim': 3, 'order2d': 2, 'order3d': 2, 'draw_vol': True…"
      ]
     },
     "metadata": {},
     "output_type": "display_data"
    },
    {
     "name": "stdout",
     "output_type": "stream",
     "text": [
      "gf_inc_gamma\n"
     ]
    },
    {
     "data": {
      "application/vnd.jupyter.widget-view+json": {
       "model_id": "70e968d21d2744669925bc7ba821e219",
       "version_major": 2,
       "version_minor": 0
      },
      "text/plain": [
       "WebGuiWidget(value={'ngsolve_version': '6.2.2203', 'mesh_dim': 3, 'order2d': 2, 'order3d': 2, 'draw_vol': True…"
      ]
     },
     "metadata": {},
     "output_type": "display_data"
    },
    {
     "name": "stdout",
     "output_type": "stream",
     "text": [
      "inc(gamma)\n"
     ]
    },
    {
     "data": {
      "application/vnd.jupyter.widget-view+json": {
       "model_id": "a02e3fedd63b42f3ad9c9987256d6c05",
       "version_major": 2,
       "version_minor": 0
      },
      "text/plain": [
       "WebGuiWidget(value={'ngsolve_version': '6.2.2203', 'mesh_dim': 3, 'order2d': 2, 'order3d': 2, 'draw_vol': True…"
      ]
     },
     "metadata": {},
     "output_type": "display_data"
    },
    {
     "name": "stdout",
     "output_type": "stream",
     "text": [
      "norm(gf_inc_gamma - inc(gamma)) =  0.0984039820635727\n"
     ]
    },
    {
     "data": {
      "application/vnd.jupyter.widget-view+json": {
       "model_id": "06cf439a7474417ea481fbf5f0eb62a2",
       "version_major": 2,
       "version_minor": 0
      },
      "text/plain": [
       "WebGuiWidget(value={'ngsolve_version': '6.2.2203', 'mesh_dim': 3, 'order2d': 2, 'order3d': 2, 'draw_vol': True…"
      ]
     },
     "metadata": {},
     "output_type": "display_data"
    }
   ],
   "source": [
    "#mesh a cube\n",
    "maxh = 0.10\n",
    "mesh = Mesh(unit_cube.GenerateMesh(maxh=maxh))\n",
    "\n",
    "# order of Regge FE\n",
    "order = 2\n",
    "\n",
    "# functions\n",
    "peak = exp(-25*( (x-0.5)**2 + (y-0.5)**2 +(z-0.5)**2))\n",
    "cf_gamma = CF ( (peak, 0, 0 , 0,peak,0,0,0,peak), dims=(3,3))\n",
    "cf_inc_gamma = CF( Inc(cf_gamma), dims=(3,3) )\n",
    "\n",
    "# flag for drawing\n",
    "draw= True \n",
    "\n",
    "# what intorder we want..\n",
    "bonus_intorder = 15\n",
    "\n",
    "\n",
    "with TaskManager():\n",
    "    gf_inc_gamma , gf_gamma = distributive_inc(mesh,order = order, gamma = cf_gamma, BND_Inc_gamma = cf_inc_gamma ,draw = draw, bonus_intorder = bonus_intorder)\n",
    " "
   ]
  }
 ],
 "metadata": {
  "interpreter": {
   "hash": "afb734500600fd355917ca529030176ea0ca205570884b88f2f6f7d791fd3fbe"
  },
  "kernelspec": {
   "display_name": "Python 3 (ipykernel)",
   "language": "python",
   "name": "python3"
  },
  "language_info": {
   "codemirror_mode": {
    "name": "ipython",
    "version": 3
   },
   "file_extension": ".py",
   "mimetype": "text/x-python",
   "name": "python",
   "nbconvert_exporter": "python",
   "pygments_lexer": "ipython3",
   "version": "3.10.4"
  }
 },
 "nbformat": 4,
 "nbformat_minor": 5
}
