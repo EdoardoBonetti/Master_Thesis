{
 "cells": [
  {
   "cell_type": "markdown",
   "metadata": {},
   "source": [
    "# The Curl Operator :\n",
    "## Direct Problem\n",
    "The problem is :given $\\psi$, find $f$ such that:\n",
    "$$\n",
    "\\begin{cases}\n",
    "\\text{curl } \\psi = f & \\text{in } \\Omega\\\\\n",
    "\\left . f \\right \\vert_{\\partial\\Omega} = f_0 & \\text{in } \\partial\\Omega\n",
    "\\end{cases}\n",
    "$$\n",
    "\n",
    "In the thesis is proven that the distributive $\\text{curl}$ operator is given by:\n",
    "$$\n",
    "\n",
    "  \\left\\langle \\text{curl } \\psi, \\phi \\right\\rangle = \\int_{T_i} \\psi \\cdot \\text{curl} \\phi + \\int_{\\partial T_i} \\phi\\cdot n\\times \\psi  \n",
    "$$\n",
    "\n",
    "Obviously this holds true if $\\psi$ is a well defined triangulation-wise with tangential continuity on the edges AND every edge integration must hold true! "
   ]
  },
  {
   "cell_type": "code",
   "execution_count": 5,
   "metadata": {},
   "outputs": [],
   "source": [
    "# some libraries we need\n",
    "\n",
    "import time # for timing\n",
    "from ngsolve import * \n",
    "from ngsolve.webgui import Draw \n",
    "from netgen.csg import unit_cube \n",
    "from ngsolve.krylovspace import CGSolver\n",
    "\n",
    "import scipy.sparse as sp # for visualising the matrix\n",
    "from scipy.sparse import csc_matrix \n",
    "import matplotlib.pylab as plt"
   ]
  },
  {
   "cell_type": "code",
   "execution_count": 6,
   "metadata": {},
   "outputs": [],
   "source": [
    "n = specialcf.normal(3) # normal vector to a surface of a tetrahedron\n",
    "\n",
    "def norm(u, Mesh):\n",
    "    # norm of a scalar, vector or matrix function\n",
    "    with TaskManager():\n",
    "        return sqrt(Integrate( InnerProduct(u,u) , Mesh)) \n",
    "\n",
    "def Curl(u):\n",
    "    # curl of a vector or matrix\n",
    "    if u.dim == 3:\n",
    "        return CF( (u[2].Diff(y)- u[1].Diff(z), u[0].Diff(z)- u[2].Diff(x), u[1].Diff(x)- u[0].Diff(y)) )\n",
    "    if u.dim == 9:\n",
    "        return CF( (Curl(u[0,:]),Curl(u[1,:]),Curl(u[2,:])),dims=(3,3) )\n",
    "\n",
    "def Inc(u):\n",
    "    # inc of a matrix\n",
    "    return Curl((Curl(u)).trans)\n",
    "\n",
    "P_n = OuterProduct(n,n)  # projection along normal direction\n",
    "Q_n = Id(3) - OuterProduct(n,n) # projection along tangential direction\n",
    "C_n = CF( (0,n[2],-n[1],-n[2],0,n[0],n[1],-n[0],0), dims=(3,3) ) # corss product perator with the normal vector\n",
    "\n",
    "def C(V): \n",
    "    # corss product perator with the generic vector\n",
    "    return CF( (0,V[2],-V[1],-V[2],0,V[0],V[1],-V[0],0), dims=(3,3) ) \n"
   ]
  },
  {
   "cell_type": "code",
   "execution_count": 7,
   "metadata": {},
   "outputs": [],
   "source": [
    "def distributive_curl(mesh,order = 1, psi = None, BND_Curl_psi = None ,draw = True, bonus_intorder = 15):\n",
    "    fesHCurl = HCurl(mesh, order=order, dirichlet= \".*\")\n",
    "    \n",
    "    ##########################################################\n",
    "    #           Coefficient and grid functions               #\n",
    "    ##########################################################\n",
    "\n",
    "    gf_psi = GridFunction(fesHCurl) \n",
    "    gf_psi.Set ( psi, bonus_intorder = bonus_intorder, dual=True)\n",
    "\n",
    "    gf_curl_psi = GridFunction(fesHCurl)\n",
    "    gf_curl_psi.Set(BND_Curl_psi, definedon=mesh.Boundaries(\".*\"),  bonus_intorder = bonus_intorder, dual=True)\n",
    "\n",
    "\n",
    "    ##########################################################\n",
    "    #              Linear and Bilinear forms                 #\n",
    "    ##########################################################\n",
    "\n",
    "    u,v = fesHCurl.TnT()\n",
    "    #some geometrical objects we need\n",
    "\n",
    "    # Mass matrix\n",
    "    a = BilinearForm(fesHCurl, symmetric=True)\n",
    "    a += InnerProduct(u,v)*dx \n",
    "\n",
    "    # linear form induced by the metric gfG\n",
    "    f = LinearForm(fesHCurl)\n",
    "\n",
    "    # thetrahedron curl part\n",
    "    f += InnerProduct(curl(gf_psi),v)*dx    \n",
    "\n",
    "    # faces part:\n",
    "    u_n = InnerProduct(gf_psi,n)\n",
    "    f += InnerProduct(v,Cross(n,gf_psi))*dx(element_vb=BND)\n",
    "    \n",
    "    ##########################################################\n",
    "    #           Assemble, compute and print!                 #\n",
    "    ##########################################################\n",
    "    pre = Preconditioner(a, \"local\")\n",
    "    a.Assemble()\n",
    "    f.Assemble()\n",
    "    #plt.spy(csc_matrix(a.mat.CSR()))\n",
    "\n",
    "    r = f.vec.CreateVector()\n",
    "    r.data = f.vec - a.mat * gf_curl_psi.vec\n",
    "        \n",
    "\n",
    "    inverse = CGSolver(a.mat, pre.mat , printrates='\\r', maxiter=1000,tol=1e-12)\n",
    "    gf_curl_psi.vec.data += inverse * r\n",
    "    #gfCurlCurlG.vec.data += a.mat.Inverse(freedofs=fesHCurlCurl.FreeDofs(),inverse=\"sparsecholesky\") * r\n",
    "    if draw:\n",
    "        Draw(gf_psi, mesh)\n",
    "        Draw(gf_curl_psi, mesh)\n",
    "\n",
    "    return gf_psi , gf_curl_psi"
   ]
  },
  {
   "cell_type": "markdown",
   "metadata": {},
   "source": [
    "# Example of direct problem"
   ]
  },
  {
   "cell_type": "code",
   "execution_count": 8,
   "metadata": {},
   "outputs": [
    {
     "name": "stdout",
     "output_type": "stream",
     "text": [
      "CG converged in 408 iterations to residual 1.5023850070536455e-12\n",
      "psi : \n"
     ]
    },
    {
     "data": {
      "application/vnd.jupyter.widget-view+json": {
       "model_id": "99ca93f115654d3a99464081c1d8e6bd",
       "version_major": 2,
       "version_minor": 0
      },
      "text/plain": [
       "WebGuiWidget(value={'ngsolve_version': '6.2.2203', 'mesh_dim': 3, 'order2d': 2, 'order3d': 2, 'draw_vol': True…"
      ]
     },
     "metadata": {},
     "output_type": "display_data"
    },
    {
     "name": "stdout",
     "output_type": "stream",
     "text": [
      "gf_psi : \n"
     ]
    },
    {
     "data": {
      "application/vnd.jupyter.widget-view+json": {
       "model_id": "4306c82d39ca4ed5b1b1f40d4b41cd72",
       "version_major": 2,
       "version_minor": 0
      },
      "text/plain": [
       "WebGuiWidget(value={'ngsolve_version': '6.2.2203', 'mesh_dim': 3, 'order2d': 2, 'order3d': 2, 'draw_vol': True…"
      ]
     },
     "metadata": {},
     "output_type": "display_data"
    },
    {
     "name": "stdout",
     "output_type": "stream",
     "text": [
      "Error psi-gf_psi 0.0009926581482965287\n"
     ]
    },
    {
     "data": {
      "application/vnd.jupyter.widget-view+json": {
       "model_id": "49138f4942d9480cab454699ae96c4c4",
       "version_major": 2,
       "version_minor": 0
      },
      "text/plain": [
       "WebGuiWidget(value={'ngsolve_version': '6.2.2203', 'mesh_dim': 3, 'order2d': 2, 'order3d': 2, 'draw_vol': True…"
      ]
     },
     "metadata": {},
     "output_type": "display_data"
    },
    {
     "name": "stdout",
     "output_type": "stream",
     "text": [
      "curl_psi : \n"
     ]
    },
    {
     "data": {
      "application/vnd.jupyter.widget-view+json": {
       "model_id": "ffad00a46aaf4e988db8e3a7e069d12a",
       "version_major": 2,
       "version_minor": 0
      },
      "text/plain": [
       "WebGuiWidget(value={'ngsolve_version': '6.2.2203', 'mesh_dim': 3, 'order2d': 2, 'order3d': 2, 'draw_vol': True…"
      ]
     },
     "metadata": {},
     "output_type": "display_data"
    },
    {
     "name": "stdout",
     "output_type": "stream",
     "text": [
      "curl_gf_psi : \n"
     ]
    },
    {
     "data": {
      "application/vnd.jupyter.widget-view+json": {
       "model_id": "e3722446feab4cdf977862ef7186f453",
       "version_major": 2,
       "version_minor": 0
      },
      "text/plain": [
       "WebGuiWidget(value={'ngsolve_version': '6.2.2203', 'mesh_dim': 3, 'order2d': 2, 'order3d': 2, 'draw_vol': True…"
      ]
     },
     "metadata": {},
     "output_type": "display_data"
    },
    {
     "name": "stdout",
     "output_type": "stream",
     "text": [
      "Error curl_gf_psi -curl_psi 0.024143622933362033\n"
     ]
    },
    {
     "data": {
      "application/vnd.jupyter.widget-view+json": {
       "model_id": "7801cab148e34262808957fdd67654f1",
       "version_major": 2,
       "version_minor": 0
      },
      "text/plain": [
       "WebGuiWidget(value={'ngsolve_version': '6.2.2203', 'mesh_dim': 3, 'order2d': 2, 'order3d': 2, 'draw_vol': True…"
      ]
     },
     "metadata": {},
     "output_type": "display_data"
    }
   ],
   "source": [
    "\n",
    "peak = exp(-25*((x-0.5)**2+(y-0.5)**2+(z-0.5)**2))\n",
    "\n",
    "# our initail function\n",
    "psi = CF ( (peak, 0, 0 ), dims=(3,1))\n",
    "\n",
    "# curl that needs to be approx\n",
    "curl_psi = CF( Curl(psi), dims=(3,1) )\n",
    "\n",
    "Maxh = 0.2\n",
    "Order = 3\n",
    "mesh = Mesh(unit_cube.GenerateMesh(maxh=Maxh))\n",
    "gf_psi , gf_curl_psi =  distributive_curl(mesh, order = Order,psi = psi, BND_Curl_psi= curl_psi, draw = False)\n",
    "\n",
    "draw = True\n",
    "\n",
    "if draw:\n",
    "    print(\"psi : \")\n",
    "    Draw(psi, mesh, clipping = (1,1,1))\n",
    "    print(\"gf_psi : \")\n",
    "    Draw(gf_psi, mesh,clipping = (1,1,1,0))\n",
    "    print(\"Error psi-gf_psi \"+ str(sqrt(Integrate(InnerProduct(psi-gf_psi,psi-gf_psi),mesh))))\n",
    "    Draw(psi-gf_psi, mesh,clipping = (1,1,1,0))\n",
    "\n",
    "    print(\"curl_psi : \")\n",
    "    Draw(curl_psi, mesh,clipping = (1,1,1,0))\n",
    "    print(\"gf_curl_psi : \")\n",
    "    Draw(gf_curl_psi, mesh,clipping = (1,1,1,0))\n",
    "    print(\"Error gf_curl_psi -curl_psi \"+ str(sqrt(Integrate(InnerProduct(gf_curl_psi -curl_psi,curl_gf_psi -curl_psi),mesh))))\n",
    "    Draw(gf_curl_psi -curl_psi, mesh,clipping = (1,1,1,0))\n"
   ]
  }
 ],
 "metadata": {
  "kernelspec": {
   "display_name": "Python 3.10.4 64-bit",
   "language": "python",
   "name": "python3"
  },
  "language_info": {
   "codemirror_mode": {
    "name": "ipython",
    "version": 3
   },
   "file_extension": ".py",
   "mimetype": "text/x-python",
   "name": "python",
   "nbconvert_exporter": "python",
   "pygments_lexer": "ipython3",
   "version": "3.10.4"
  },
  "orig_nbformat": 4,
  "vscode": {
   "interpreter": {
    "hash": "afb734500600fd355917ca529030176ea0ca205570884b88f2f6f7d791fd3fbe"
   }
  }
 },
 "nbformat": 4,
 "nbformat_minor": 2
}
