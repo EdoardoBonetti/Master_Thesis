{
 "cells": [
  {
   "cell_type": "markdown",
   "metadata": {},
   "source": [
    "# The Helmotz decomposition for a function in $[( \\mathbb{R}) ]^3$\n",
    "The problem now becomes 2 separate minimization problem:\n",
    "$$\n",
    "\\begin{cases}\n",
    "\\min_{\\psi\\in H(curl)} \\| F - curl(\\psi)\\|^2_{L_2} \\\\\n",
    "\n",
    "div\\psi = 0\\\\\n",
    "\\end{cases}\n",
    "$$\n",
    "and \n",
    "$$\n",
    "\\begin{cases}\n",
    "\\min_{\\phi\\in H(div)} \\| F - \\nabla \\phi \\|^2_{L_2} \\\\\n",
    "\\int\\phi = 0\\\\\n",
    "\\end{cases}\n",
    "$$\n",
    "\n",
    "The above problem can now be minimized using the variational formulation of the problem (... we create the lagrangian functional and we set the first variation to zero ...).\n",
    "\n",
    "\n",
    "The first problem becomes:\n",
    "\n",
    "Find $(\\psi , p) \\in H(\\text{curl})\\times H(\\text{div})$ s.t. \n",
    "$$\n",
    "\\begin{cases}\n",
    "(\\text{curl }\\psi ,\\text{curl }\\hat\\psi) + (\\text{div } \\psi, p) = (\\text{curl }\\hat\\psi , F) \\\\\n",
    "(\\text{div }\\hat\\psi, \\hat{p} ) = 0 \\\\\n",
    "\\end{cases}\n",
    "$$\n",
    "For all $(\\hat\\psi , \\hat{p}) \\in H(\\text{curl})\\times H(\\text{div})$ \n",
    "\n",
    "The second problem becomes:\n",
    "\n",
    "Find $(\\phi , u) \\in H^1\\times \\mathbb{R}$ s.t. \n",
    "$$\n",
    "\\begin{cases}\n",
    "(\\nabla\\phi ,\\nabla\\hat\\phi) + (\\nabla \\phi, u) = (\\nabla\\hat\\phi , F) \\\\\n",
    "(\\nabla\\hat\\phi, \\hat{u} ) = 0 \\\\\n",
    "\\end{cases}\n",
    "$$\n",
    "For all $(\\hat\\phi , \\hat{u}) \\in  H^1\\times \\mathbb{R}$\n",
    "\n",
    "\n"
   ]
  },
  {
   "cell_type": "code",
   "execution_count": 1,
   "metadata": {},
   "outputs": [],
   "source": [
    "from ngsolve import * # needed for all the tools\n",
    "from ngsolve.krylovspace import CGSolver # when we have to use a conjugate gradient solver\n",
    "from ngsolve.webgui import Draw # needed jupiter visualization\n",
    "\n",
    "#from ngsolve.meshes import MakeStructured3DMesh\n",
    "def L2Norm(u, mesh):\n",
    "    return sqrt(Integrate(InnerProduct(u,u), mesh))\n",
    "\n",
    "def Curl(u):\n",
    "    # calculate the curl of u with u = gf_u or u = cf_u\n",
    "    if u.dim == 3:\n",
    "        return CF( (u[2].Diff(y)- u[1].Diff(z), u[0].Diff(z)- u[2].Diff(x), u[1].Diff(x)- u[0].Diff(y)) )\n",
    "    if u.dim == 9:\n",
    "        return CF( (Curl(u[0,:]),Curl(u[1,:]),Curl(u[2,:])),dims=(3,3) )   \n",
    "\n",
    "def Div(u):\n",
    "    # calculate the divergence of u with u = gf_u or u = cf_u\n",
    "    return CF( (u[0].Diff(x) + u[1].Diff(y) + u[2].Diff(z)) )\n",
    "    \n",
    "\n",
    "\n",
    "def HelmholtzDecomposition(F, mesh, order=3, grad_phi=None, curl_psi=None, draw=False , moreinfo = False):\n",
    "    # q : is the function to decompose, can be passed as CoefficientFunction or as gridfunction.\n",
    "    # mesh : is the mesh on which the decomposition is done.\n",
    "    # order = 3 : is the minimum order of the finite element space we involve in the decomposition\n",
    "    # grad_phi = None : is the gradient parti of the function to decompose. if it's known, it can be passed as CoefficientFunction or as gridfunction.\n",
    "    # curl_psi = None : is the curl part of the function to decompose. if it's known, it can be passed as CoefficientFunction or as gridfunction.\n",
    "    # draw = False : is a boolean that decides if to plot the results.\n",
    "    # moreinfo = False : is a boolean that decides if to print more information, i.e. the norms of the decomposition.\n",
    "    # returns : the decomposition of the function q in the following gridfunctions.\n",
    "    #           gf_\n",
    "\n",
    "\n",
    "    # control parameters\n",
    "    if order < 1:\n",
    "        raise Exception(\"Wrong order!\")\n",
    "\n",
    "    ##########################\n",
    "    #   determine curl part  #\n",
    "    ##########################\n",
    "    \n",
    "    # define the FES :\n",
    "    #\n",
    "    # Note: we use different order for the shape functions since \n",
    "    #       in the mass matrix \"a\" have Grad(q)*u and they need \n",
    "    #       to be of the same order.\n",
    "    fes = HCurl(mesh, order=order, dirichlet=\".*\")*H1(mesh,order=order+1, dirichlet=\".*\")\n",
    "    (u,p), (v,q) = fes.TnT()\n",
    "\n",
    "    # Linear and Bilinear form \n",
    "    a = BilinearForm(fes, symmetric=True, symmetric_storage=True, condense=False)\n",
    "    a += (curl(u)*curl(v) + Grad(p)*v + Grad(q)*u)*dx\n",
    "        \n",
    "    f = LinearForm(fes)\n",
    "    f += F*curl(v)*dx\n",
    "\n",
    "    a.Assemble()\n",
    "    f.Assemble()\n",
    "\n",
    "    inv = a.mat.Inverse(fes.FreeDofs(a.condense), inverse=\"pardiso\")\n",
    "\n",
    "    # grid function to store the solution\n",
    "    #\n",
    "    # note : the gridfunction is has 2 components,\n",
    "    #        one for the curl and one for the divergence. \n",
    "    #        we need to split it\n",
    "    gf_sol = GridFunction(fes)\n",
    "    gf_psi, gf_p = gf_sol.components\n",
    "\n",
    "    # Solution of the system\n",
    "    #\n",
    "    # note 1: we use a possibility to condense the matrix and to use a harmonic extension\n",
    "    #        to get a better convergence speed ... more on this topic in the tutorial  \n",
    "    #        https://docu.ngsolve.org/v6.2.1810/i-tutorials/unit-1.4-staticcond/staticcond.html?highlight=condense\n",
    "    #\n",
    "    # note 2: the flag for condense is set to False by default. \n",
    "    r = f.vec.CreateVector()\n",
    "    w = f.vec.CreateVector()       \n",
    "    r.data = f.vec\n",
    "    if a.condense:\n",
    "        r.data += a.harmonic_extension_trans * r\n",
    "    w.data = inv * r\n",
    "    if a.condense:\n",
    "        w.data += a.harmonic_extension * w\n",
    "        w.data += a.inner_solve * r\n",
    "    gf_sol.vec.data = w\n",
    "\n",
    "    # the curl we find is defined as the curl of the gridfunction gf_psi\n",
    "    gf_curl_psi = CF( (Grad(gf_psi)[2,1]-Grad(gf_psi)[1,2],Grad(gf_psi)[0,2]-Grad(gf_psi)[2,0],Grad(gf_psi)[1,0]-Grad(gf_psi)[0,1]) )\n",
    "\n",
    "\n",
    "    # draw flag allows to draw the results\n",
    "    #\n",
    "    # note : the flag is set to False by default.\n",
    "    if draw:\n",
    "        print(\"gf_psi\")\n",
    "        Draw(gf_psi, mesh, \"gf_psi\", clipping=(1,0,0,0))\n",
    "\n",
    "        print(\"gf_curl_psi\")\n",
    "        Draw(BoundaryFromVolumeCF(gf_curl_psi), mesh, \"gf_curl_psi\",clipping=(1,0,0,0))\n",
    "\n",
    "    ##########################\n",
    "    #   determine grad part  #\n",
    "    ##########################\n",
    "\n",
    "    # define the FES :\n",
    "    #\n",
    "    # Note: we don't need an order specified for the NumberSpace.\n",
    "    fes2 = H1(mesh,order=order)*NumberSpace(mesh)\n",
    "    (u,p),(v,q) = fes2.TnT()\n",
    "    a2 = BilinearForm(fes2, symmetric=True, symmetric_storage=True)\n",
    "    a2 += (Grad(u)*Grad(v) + p*v + q*u)*dx\n",
    "\n",
    "    f2 = LinearForm(fes2)\n",
    "    f2 += F*Grad(v)*dx\n",
    "\n",
    "    a2.Assemble()\n",
    "    f2.Assemble()\n",
    "\n",
    "    # grid function to store the solution\n",
    "    gf_sol2 = GridFunction(fes2)\n",
    "    gf_phi, gf_N = gf_sol2.components\n",
    "\n",
    "    # Solution of the system\n",
    "    gf_sol2.vec.data = a2.mat.Inverse(fes2.FreeDofs(), inverse=\"pardiso\")*f2.vec\n",
    "\n",
    "    # the gradient we find is defined as the gradient of the gridfunction gf_phi\n",
    "    gf_grad_phi= Grad(gf_phi)\n",
    "\n",
    "    # Drawings and informations:\n",
    "\n",
    "    #for the sclar potential we have\n",
    "    if draw:\n",
    "        print(\"the scalar potential gf_phi\")\n",
    "        Draw(gf_phi, mesh, \"gf_phi\",clipping=(1,0,0,0))\n",
    "    if moreinfo and (grad_phi is not None):\n",
    "        if draw :\n",
    "            print(\"the gradient of the scalar potential gf_phi : \")\n",
    "            Draw(BoundaryFromVolumeCF(gf_grad_phi), mesh, \"gf_grad_phi\",clipping=(1,0,0,0))\n",
    "        print(\"the gradient of the scalar potential gf_phi - the known gradient : \")\n",
    "        print(\"the L2-error of gf_grad_phi-grad_phi : \", L2Norm(gf_grad_phi-grad_phi, mesh))\n",
    "        if draw :\n",
    "            Draw(BoundaryFromVolumeCF(gf_grad_phi-grad_phi), mesh, \"gf_grad_phi - grad_phi\",clipping=(1,0,0,0))\n",
    "    \n",
    "    #for the vector potential we have\n",
    "    if draw:\n",
    "        print(\"the vector potential gf_psi\")\n",
    "        Draw(gf_psi, mesh, \"gf_psi\",clipping=(1,0,0,0))\n",
    "    if moreinfo and (curl_psi is not None):\n",
    "            if draw :\n",
    "                print(\"the curl of the vector potential gf_psi : \")\n",
    "                Draw(BoundaryFromVolumeCF(gf_curl_psi), mesh, \"gf_curl_psi\",clipping=(1,0,0,0))\n",
    "            print(\"the curl of the vector potential gf_psi - the known curl : \")\n",
    "            print(\"the L2-error is : \", L2Norm(gf_curl_psi-curl_psi, mesh))\n",
    "            if draw:\n",
    "                Draw(BoundaryFromVolumeCF(gf_curl_psi-curl_psi), mesh, \"gf_curl_psi - curl_psi\",clipping=(1,0,0,0))\n",
    "\n",
    "    print(\"the solution gf_q_h = gf_grad_phi + \") \n",
    "\n",
    "    if draw:\n",
    "        #print(\" err q: \", sqrt(Integrate((Grad(gf_phi)+gf_curl_psi-F)**2,mesh)))\n",
    "        #Draw(Grad(gf_phi)+gf_curl_psi-F, mesh)\n",
    "        print(\" err q: \", sqrt(Integrate((Grad(gf_phi)+gf_curl_psi-F)**2,mesh)))\n",
    "        Draw(gf_grad_phi+gf_curl_psi-F, mesh,clipping=(1,0,0,0))\n",
    "\n",
    "        if grad_phi and moreinfo :\n",
    "            print(\"err grad_phi: \", sqrt(Integrate((Grad(gf_phi)-grad_phi)**2,mesh)))\n",
    "            Draw(Grad(gf_phi)-grad_phi, mesh,clipping=(1,0,0,0))\n",
    "        if curl_psi  and moreinfo :\n",
    "            print(\"err curl_psi: \", sqrt(Integrate((gf_curl_psi-curl_psi)**2,mesh)))\n",
    "            Draw(gf_curl_psi-curl_psi, mesh,clipping=(1,0,0,0))\n",
    "\n",
    "        \n",
    "    return gf_psi, gf_phi, gf_curl_psi , gf_grad_phi\n",
    "\n"
   ]
  },
  {
   "cell_type": "markdown",
   "metadata": {},
   "source": [
    "# One Simple Example\n",
    "One notice that the decomposition is not perfect, since when someone defines a function $F = \\nabla \\phi  + \\nabla \\times \\psi$ has to keep in mind how the process of decomposition for $F \\in H^1$ takes place:\n",
    "\n",
    "the first step is to solve the neumann problem $\\Delta \\phi = \\nabla \\cdot F$ with $\\phi \\in H(div)$ therefore if $\\nabla \\cdot F$ has also a tangential component on the boundary in $H^1$ then that component is not approximated.\n",
    "\n",
    "The second step works in a similar way but for the normal component of $\\nabla \\times F$\n",
    "\n",
    "For more info look at the thesis of J. Schoeberl's notes on Maxwell's equations\n",
    "\n",
    "Time of execution 20 seconds"
   ]
  },
  {
   "cell_type": "code",
   "execution_count": 4,
   "metadata": {},
   "outputs": [
    {
     "name": "stdout",
     "output_type": "stream",
     "text": [
      "cf_phi\n"
     ]
    },
    {
     "data": {
      "application/vnd.jupyter.widget-view+json": {
       "model_id": "1d117e42270a4feeabb96887ffac772c",
       "version_major": 2,
       "version_minor": 0
      },
      "text/plain": [
       "WebGuiWidget(value={'ngsolve_version': '6.2.2203', 'mesh_dim': 3, 'order2d': 2, 'order3d': 2, 'draw_vol': True…"
      ]
     },
     "metadata": {},
     "output_type": "display_data"
    },
    {
     "name": "stdout",
     "output_type": "stream",
     "text": [
      "cf_grad_phi\n"
     ]
    },
    {
     "data": {
      "application/vnd.jupyter.widget-view+json": {
       "model_id": "9126d38e351a41a69a1b5f8bdad33def",
       "version_major": 2,
       "version_minor": 0
      },
      "text/plain": [
       "WebGuiWidget(value={'ngsolve_version': '6.2.2203', 'mesh_dim': 3, 'order2d': 2, 'order3d': 2, 'draw_vol': True…"
      ]
     },
     "metadata": {},
     "output_type": "display_data"
    },
    {
     "name": "stdout",
     "output_type": "stream",
     "text": [
      "cf_psi\n"
     ]
    },
    {
     "data": {
      "application/vnd.jupyter.widget-view+json": {
       "model_id": "87ee37f2f9c9426c9abaa886eaa5ff8f",
       "version_major": 2,
       "version_minor": 0
      },
      "text/plain": [
       "WebGuiWidget(value={'ngsolve_version': '6.2.2203', 'mesh_dim': 3, 'order2d': 2, 'order3d': 2, 'draw_vol': True…"
      ]
     },
     "metadata": {},
     "output_type": "display_data"
    },
    {
     "name": "stdout",
     "output_type": "stream",
     "text": [
      "cf_curl_psi\n"
     ]
    },
    {
     "data": {
      "application/vnd.jupyter.widget-view+json": {
       "model_id": "be4c007fa02d4bc198d1717fdd761103",
       "version_major": 2,
       "version_minor": 0
      },
      "text/plain": [
       "WebGuiWidget(value={'ngsolve_version': '6.2.2203', 'mesh_dim': 3, 'order2d': 2, 'order3d': 2, 'draw_vol': True…"
      ]
     },
     "metadata": {},
     "output_type": "display_data"
    },
    {
     "name": "stdout",
     "output_type": "stream",
     "text": [
      "F\n"
     ]
    },
    {
     "data": {
      "application/vnd.jupyter.widget-view+json": {
       "model_id": "7a16cc171def4875b33b4d8de9ba41dc",
       "version_major": 2,
       "version_minor": 0
      },
      "text/plain": [
       "WebGuiWidget(value={'ngsolve_version': '6.2.2203', 'mesh_dim': 3, 'order2d': 2, 'order3d': 2, 'draw_vol': True…"
      ]
     },
     "metadata": {},
     "output_type": "display_data"
    }
   ],
   "source": [
    "from netgen.csg import unit_cube # allow us to create a unit cube in one line of code\n",
    "\n",
    "\n",
    "# define a mesh\n",
    "moreinfo = True\n",
    "draw1 = True   # draw flag defined in the HelmholtzDecomposition(... ,draw = draw1 ,....)\n",
    "draw2 = True # used to visualize the definition of the function F\n",
    "MaxH = 0.15 # maximum mesh size\n",
    "mesh = Mesh(unit_cube.GenerateMesh(maxh=MaxH)) \n",
    "order = 4 \n",
    "\n",
    "    ##############################################################\n",
    "    #  Create a function F = grad(phi) + curl(psi) from scratch  #\n",
    "    ############################################################## \n",
    "\n",
    "# Scalar Potential phi\n",
    "cf_phi = (1-x**2)**2*(1-y**2)**2*(1-z**2)**2 \n",
    "if draw2: print(\"cf_phi\") , Draw(cf_phi, mesh) \n",
    "    \n",
    "\n",
    "# define the irrotational Part of function\n",
    "cf_grad_phi = CF( (cf_phi.Diff(x),cf_phi.Diff(y),cf_phi.Diff(z)) ) \n",
    "if draw2: print(\"cf_grad_phi\") ,  Draw(cf_grad_phi, mesh)\n",
    "\n",
    "# Vector potential A, \n",
    "cf_psi = (1-x**2)*(1-y**2)*CF( (0,0,1) )\n",
    "if draw2 : print(\"cf_psi\"),Draw(cf_psi, mesh)\n",
    "\n",
    "\n",
    "# divergence of A .. has to be zero!!!\n",
    "# if you want to check this, uncomment the following line\n",
    "#\n",
    "#cf_div_psi = Div(cf_psi)\n",
    "#if draw2: print(\"cf_div_psi\") ,  Draw(cf_div_psi, mesh)\n",
    "\n",
    "# Rotatioal part of the function\n",
    "cf_curl_psi = Curl(cf_psi)\n",
    "if draw2: print(\"cf_curl_psi\"), Draw(cf_curl_psi, mesh)\n",
    "\n",
    "# Function We are trying to decompose\n",
    "F = cf_grad_phi+cf_curl_psi\n",
    "if draw2: print(\"F\"),  Draw(F, mesh)"
   ]
  },
  {
   "cell_type": "code",
   "execution_count": 3,
   "metadata": {},
   "outputs": [
    {
     "name": "stdout",
     "output_type": "stream",
     "text": [
      "gf_psi\n"
     ]
    },
    {
     "data": {
      "application/vnd.jupyter.widget-view+json": {
       "model_id": "4ea7a33dec654559ae05db63f8d6de1e",
       "version_major": 2,
       "version_minor": 0
      },
      "text/plain": [
       "WebGuiWidget(value={'ngsolve_version': '6.2.2203', 'mesh_dim': 3, 'order2d': 2, 'order3d': 2, 'draw_vol': True…"
      ]
     },
     "metadata": {},
     "output_type": "display_data"
    },
    {
     "name": "stdout",
     "output_type": "stream",
     "text": [
      "gf_curl_psi\n"
     ]
    },
    {
     "data": {
      "application/vnd.jupyter.widget-view+json": {
       "model_id": "ea7c55ba39c04d91903c5dccdace94a1",
       "version_major": 2,
       "version_minor": 0
      },
      "text/plain": [
       "WebGuiWidget(value={'ngsolve_version': '6.2.2203', 'mesh_dim': 3, 'order2d': 2, 'order3d': 2, 'draw_vol': True…"
      ]
     },
     "metadata": {},
     "output_type": "display_data"
    },
    {
     "name": "stdout",
     "output_type": "stream",
     "text": [
      "the scalar potential gf_phi\n"
     ]
    },
    {
     "data": {
      "application/vnd.jupyter.widget-view+json": {
       "model_id": "a1dfbad4e7904caa8ace6daecea86333",
       "version_major": 2,
       "version_minor": 0
      },
      "text/plain": [
       "WebGuiWidget(value={'ngsolve_version': '6.2.2203', 'mesh_dim': 3, 'order2d': 2, 'order3d': 2, 'draw_vol': True…"
      ]
     },
     "metadata": {},
     "output_type": "display_data"
    },
    {
     "name": "stdout",
     "output_type": "stream",
     "text": [
      "the gradient of the scalar potential gf_phi : \n"
     ]
    },
    {
     "data": {
      "application/vnd.jupyter.widget-view+json": {
       "model_id": "052cdf6024e441598bf403b273cf1fde",
       "version_major": 2,
       "version_minor": 0
      },
      "text/plain": [
       "WebGuiWidget(value={'ngsolve_version': '6.2.2203', 'mesh_dim': 3, 'order2d': 2, 'order3d': 2, 'draw_vol': True…"
      ]
     },
     "metadata": {},
     "output_type": "display_data"
    },
    {
     "name": "stdout",
     "output_type": "stream",
     "text": [
      "the gradient of the scalar potential gf_phi - the known gradient : \n",
      "the L2-error of gf_grad_phi-grad_phi :  1.0679777198026765\n"
     ]
    },
    {
     "data": {
      "application/vnd.jupyter.widget-view+json": {
       "model_id": "7f00d7c5756a404fa1d5609dff4554dd",
       "version_major": 2,
       "version_minor": 0
      },
      "text/plain": [
       "WebGuiWidget(value={'ngsolve_version': '6.2.2203', 'mesh_dim': 3, 'order2d': 2, 'order3d': 2, 'draw_vol': True…"
      ]
     },
     "metadata": {},
     "output_type": "display_data"
    },
    {
     "name": "stdout",
     "output_type": "stream",
     "text": [
      "the vector potential gf_psi\n"
     ]
    },
    {
     "data": {
      "application/vnd.jupyter.widget-view+json": {
       "model_id": "88d17dd379764d9e813f6e38d897b798",
       "version_major": 2,
       "version_minor": 0
      },
      "text/plain": [
       "WebGuiWidget(value={'ngsolve_version': '6.2.2203', 'mesh_dim': 3, 'order2d': 2, 'order3d': 2, 'draw_vol': True…"
      ]
     },
     "metadata": {},
     "output_type": "display_data"
    },
    {
     "name": "stdout",
     "output_type": "stream",
     "text": [
      "the curl of the vector potential gf_psi : \n"
     ]
    },
    {
     "data": {
      "application/vnd.jupyter.widget-view+json": {
       "model_id": "4a44f3dac4374808aefda77a095e2da3",
       "version_major": 2,
       "version_minor": 0
      },
      "text/plain": [
       "WebGuiWidget(value={'ngsolve_version': '6.2.2203', 'mesh_dim': 3, 'order2d': 2, 'order3d': 2, 'draw_vol': True…"
      ]
     },
     "metadata": {},
     "output_type": "display_data"
    },
    {
     "name": "stdout",
     "output_type": "stream",
     "text": [
      "the curl of the vector potential gf_psi - the known curl : \n",
      "the L2-error is :  1.0679779872566395\n"
     ]
    },
    {
     "data": {
      "application/vnd.jupyter.widget-view+json": {
       "model_id": "0c91ad883b3f4169a0a90d56aaaa3583",
       "version_major": 2,
       "version_minor": 0
      },
      "text/plain": [
       "WebGuiWidget(value={'ngsolve_version': '6.2.2203', 'mesh_dim': 3, 'order2d': 2, 'order3d': 2, 'draw_vol': True…"
      ]
     },
     "metadata": {},
     "output_type": "display_data"
    },
    {
     "name": "stdout",
     "output_type": "stream",
     "text": [
      "the solution gf_q_h = gf_grad_phi + \n",
      " err q:  0.0005259161442569583\n"
     ]
    },
    {
     "data": {
      "application/vnd.jupyter.widget-view+json": {
       "model_id": "4547748cb7cb42f9a462aa5ebedea55c",
       "version_major": 2,
       "version_minor": 0
      },
      "text/plain": [
       "WebGuiWidget(value={'ngsolve_version': '6.2.2203', 'mesh_dim': 3, 'order2d': 2, 'order3d': 2, 'draw_vol': True…"
      ]
     },
     "metadata": {},
     "output_type": "display_data"
    },
    {
     "name": "stdout",
     "output_type": "stream",
     "text": [
      "err grad_phi:  1.0679777198026765\n"
     ]
    },
    {
     "data": {
      "application/vnd.jupyter.widget-view+json": {
       "model_id": "401df78876724bfb98ffac3e6785ed5b",
       "version_major": 2,
       "version_minor": 0
      },
      "text/plain": [
       "WebGuiWidget(value={'ngsolve_version': '6.2.2203', 'mesh_dim': 3, 'order2d': 2, 'order3d': 2, 'draw_vol': True…"
      ]
     },
     "metadata": {},
     "output_type": "display_data"
    },
    {
     "name": "stdout",
     "output_type": "stream",
     "text": [
      "err curl_psi:  1.0679779872566393\n"
     ]
    },
    {
     "data": {
      "application/vnd.jupyter.widget-view+json": {
       "model_id": "84bcee61e3db4aeb9d608833f0aa276b",
       "version_major": 2,
       "version_minor": 0
      },
      "text/plain": [
       "WebGuiWidget(value={'ngsolve_version': '6.2.2203', 'mesh_dim': 3, 'order2d': 2, 'order3d': 2, 'draw_vol': True…"
      ]
     },
     "metadata": {},
     "output_type": "display_data"
    }
   ],
   "source": [
    "# It is better to define the taskmanager outside the function, otherwise it will be created every time we call the function,\n",
    "# also one could be interested in the performance of the function.\n",
    "\n",
    "with TaskManager():\n",
    "    gf_psi, gf_phi, gf_curl_psi , gf_grad_phi = HelmholtzDecomposition(F, mesh, order=order, grad_phi=cf_grad_phi, curl_psi=cf_curl_psi, draw=draw1, moreinfo=moreinfo)"
   ]
  },
  {
   "cell_type": "markdown",
   "metadata": {},
   "source": [
    "Some comments on the previous function: As we see setting the flag on **moreinfo** and **draw** to True it shows that there is a problem with the $L_2$-norm on the boundary.\n",
    "\n",
    "This is caused by the fact that the boundary is homogeneous Dirichlet only on the vectorial Potential and Neumann on the scalar Potential. Therefore the discrepancy between the two norms of the 2 components of $F$.\n"
   ]
  },
  {
   "cell_type": "code",
   "execution_count": 42,
   "metadata": {},
   "outputs": [
    {
     "name": "stdout",
     "output_type": "stream",
     "text": [
      "1.3207734011657788\n",
      "0.0\n",
      "1.067977719802677\n",
      "0.5307021467034689\n",
      "0.0\n",
      "1.0679779872566408\n",
      "1.4234073181222027\n",
      "0.0\n",
      "0.0005259161442585453\n"
     ]
    }
   ],
   "source": [
    "### this part to revisit ###\n",
    "\n",
    "\n",
    "# define a function that checks the norm of the function cf_grad_phi in the normal direction\n",
    "def CheckNorm_normal(cf_u, mesh):\n",
    "    # define the normal direction\n",
    "    n = specialcf.normal(mesh.dim)\n",
    "    # define the normal component of the gradient of the scalar potential\n",
    "    cf_u_n = InnerProduct(cf_u, n)\n",
    "    # define the L2-norm of the normal component of the gradient of the scalar potential\n",
    "    return L2Norm(cf_u_n, mesh)\n",
    "\n",
    "# define a function that checks the norm of the function cf_grad_phi in the normal direction\n",
    "def CheckNorm_tangential(cf_u, mesh):\n",
    "    # define the normal direction\n",
    "    n = specialcf.normal(mesh.dim)\n",
    "    # define the normal component of the gradient of the scalar potential\n",
    "    cf_u_t = cf_u - InnerProduct(cf_u, n)*n\n",
    "    # define the L2-norm of the normal component of the gradient of the scalar potential\n",
    "    return L2Norm(cf_u_t, mesh)\n",
    "\n",
    "# the error in the normal and tangential direction, we expect to see some difference in the tangential direction\n",
    "print(CheckNorm_tangential(gf_grad_phi, mesh))\n",
    "print(CheckNorm_normal(gf_grad_phi, mesh))\n",
    "print(L2Norm(gf_grad_phi-cf_grad_phi, mesh))\n",
    "\n",
    "#print(L2Norm(gf_grad_phi-cf_grad_phi, mesh))\n",
    "\n",
    "print(CheckNorm_tangential(gf_curl_psi, mesh))\n",
    "print(CheckNorm_normal(gf_curl_psi, mesh))\n",
    "print(L2Norm(gf_curl_psi-cf_curl_psi, mesh))\n",
    "\n",
    "\n",
    "print(CheckNorm_tangential(F, mesh))\n",
    "print(CheckNorm_normal(F, mesh))\n",
    "print(L2Norm(gf_grad_phi+gf_curl_psi-F, mesh))"
   ]
  }
 ],
 "metadata": {
  "kernelspec": {
   "display_name": "Python 3.10.4 64-bit",
   "language": "python",
   "name": "python3"
  },
  "language_info": {
   "codemirror_mode": {
    "name": "ipython",
    "version": 3
   },
   "file_extension": ".py",
   "mimetype": "text/x-python",
   "name": "python",
   "nbconvert_exporter": "python",
   "pygments_lexer": "ipython3",
   "version": "3.10.4"
  },
  "orig_nbformat": 4,
  "vscode": {
   "interpreter": {
    "hash": "afb734500600fd355917ca529030176ea0ca205570884b88f2f6f7d791fd3fbe"
   }
  }
 },
 "nbformat": 4,
 "nbformat_minor": 2
}
