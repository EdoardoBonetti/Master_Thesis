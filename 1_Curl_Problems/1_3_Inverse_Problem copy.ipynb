{
 "cells": [
  {
   "cell_type": "markdown",
   "metadata": {},
   "source": [
    "# The Inverse Problem\n",
    "The inverse problem is the problem of finding the solution to a system of linear equations of the form :\n",
    "\n",
    "Given $f$ let's find $\\psi$ such that $$f=curl(\\psi)$$ , and let $$\\psi\\vert_{\\partial\\Omega}=\\psi_0$$\n",
    "\n",
    "Obvuoisly we need to define some boundary conditions for $\\psi$.\n",
    "\n"
   ]
  },
  {
   "cell_type": "code",
   "execution_count": 8,
   "metadata": {},
   "outputs": [],
   "source": [
    "import time\n",
    "from ngsolve import *\n",
    "from ngsolve.webgui import Draw\n",
    "from netgen.csg import unit_cube\n",
    "from ngsolve.krylovspace import CGSolver\n",
    "\n",
    "\n",
    "import scipy.sparse as sp\n",
    "from scipy.sparse import csc_matrix\n",
    "import matplotlib.pylab as plt\n",
    "\n",
    "from netgen.occ import *\n",
    "from netgen.webgui import Draw as DrawGeo\n",
    "import matplotlib.pylab as plt\n",
    "import scipy.sparse as sp\n",
    "from scipy.sparse.linalg import inv as inv\n",
    "from scipy.sparse import csc_matrix\n"
   ]
  },
  {
   "cell_type": "code",
   "execution_count": 9,
   "metadata": {},
   "outputs": [],
   "source": [
    "n = specialcf.normal(3) # normal vector to a surface of a tetrahedron\n",
    "\n",
    "def norm(u, Mesh):\n",
    "    # norm of a scalar, vector or matrix function\n",
    "    with TaskManager():\n",
    "        return sqrt(Integrate( InnerProduct(u,u) , Mesh)) \n",
    "\n",
    "def Curl(u):\n",
    "    # curl of a vector or matrix\n",
    "    if u.dim == 3:\n",
    "        return CF( (u[2].Diff(y)- u[1].Diff(z), u[0].Diff(z)- u[2].Diff(x), u[1].Diff(x)- u[0].Diff(y)) )\n",
    "    if u.dim == 9:\n",
    "        return CF( (Curl(u[0,:]),Curl(u[1,:]),Curl(u[2,:])),dims=(3,3) )\n",
    "\n",
    "def Inc(u):\n",
    "    # inc of a matrix\n",
    "    return Curl((Curl(u)).trans)\n",
    "\n",
    "P_n = OuterProduct(n,n)  # projection along normal direction\n",
    "Q_n = Id(3) - OuterProduct(n,n) # projection along tangential direction\n",
    "C_n = CF( (0,n[2],-n[1],-n[2],0,n[0],n[1],-n[0],0), dims=(3,3) ) # corss product perator with the normal vector\n",
    "\n",
    "def C(V): \n",
    "    # corss product perator with the generic vector\n",
    "    return CF( (0,V[2],-V[1],-V[2],0,V[0],V[1],-V[0],0), dims=(3,3) ) \n"
   ]
  },
  {
   "cell_type": "code",
   "execution_count": 16,
   "metadata": {},
   "outputs": [],
   "source": [
    "\n",
    "\n",
    "def distributive_inverse_curl(mesh,order = 1,  BND_psi = None, curl_psi = None ,draw = False, bonus_intorder = 15):\n",
    "\n",
    "    if order < 1:\n",
    "        raise Exception(\"Wrong order!\")\n",
    "\n",
    "    fes = HCurl(mesh, order=order, dirichlet=\".*\")*H1(mesh,order=order+1)#, dirichlet=\".*\")\n",
    "    (u,p), (v,q) = fes.TnT()\n",
    "    \n",
    "    a = BilinearForm(fes, symmetric=True, symmetric_storage=True, condense=False)\n",
    "    a += (curl(u)*curl(v) + Grad(p)*v + Grad(q)*u +10**(-10)*u*v )*dx\n",
    "\n",
    "    f = LinearForm(fes)\n",
    "    f += curl_psi*curl(v)*dx\n",
    "\n",
    "    a.Assemble()\n",
    "    f.Assemble()\n",
    "\n",
    "    gf_sol = GridFunction(fes)\n",
    "    gf_psi, gf_p = gf_sol.components\n",
    "\n",
    "    gf_psi.Set(BND_psi, definedon=mesh.Boundaries(\".*\"),  bonus_intorder = bonus_intorder, dual=True)\n",
    "    \n",
    "    r = f.vec.CreateVector()\n",
    "    #inv = a.mat.Inverse(fes.FreeDofs(a.condense), inverse=\"pardiso\")\n",
    "    r.data = f.vec - a.mat * gf_sol.vec   \n",
    "    gf_sol.vec.data += a.mat.Inverse(freedofs=fes.FreeDofs(), inverse=\"pardiso\") * r\n",
    "    gf_psi , gf_p = gf.components\n",
    "\n",
    "    #r.data = f.vec\n",
    "    #if a.condense:\n",
    "    #    r.data += a.harmonic_extension_trans * r\n",
    "    #w.data = inv * r\n",
    "    #if a.condense:\n",
    "    #    w.data += a.harmonic_extension * w\n",
    "    #    w.data += a.inner_solve * r\n",
    "    #gf_sol.vec.data = w\n",
    "\n",
    "    gf_curl_psi = CF( (Grad(gf_psi)[2,1]-Grad(gf_psi)[1,2],Grad(gf_psi)[0,2]-Grad(gf_psi)[2,0],Grad(gf_psi)[1,0]-Grad(gf_psi)[0,1]) )\n",
    "     \n",
    "    return gf_psi, gf_curl_psi\n",
    "\n"
   ]
  },
  {
   "cell_type": "code",
   "execution_count": 17,
   "metadata": {},
   "outputs": [
    {
     "ename": "NameError",
     "evalue": "name 'gf' is not defined",
     "output_type": "error",
     "traceback": [
      "\u001b[1;31m---------------------------------------------------------------------------\u001b[0m",
      "\u001b[1;31mNameError\u001b[0m                                 Traceback (most recent call last)",
      "\u001b[1;32mc:\\Users\\User\\OneDrive\\Desktop\\Master_Thesis\\1_Curl_Problems\\1_3_Inverse_Problem copy.ipynb Cell 5\u001b[0m in \u001b[0;36m<cell line: 12>\u001b[1;34m()\u001b[0m\n\u001b[0;32m     <a href='vscode-notebook-cell:/c%3A/Users/User/OneDrive/Desktop/Master_Thesis/1_Curl_Problems/1_3_Inverse_Problem%20copy.ipynb#X12sZmlsZQ%3D%3D?line=11'>12</a>\u001b[0m \u001b[39mwith\u001b[39;00m TaskManager():\n\u001b[0;32m     <a href='vscode-notebook-cell:/c%3A/Users/User/OneDrive/Desktop/Master_Thesis/1_Curl_Problems/1_3_Inverse_Problem%20copy.ipynb#X12sZmlsZQ%3D%3D?line=12'>13</a>\u001b[0m     mesh \u001b[39m=\u001b[39m Mesh(unit_cube\u001b[39m.\u001b[39mGenerateMesh(maxh\u001b[39m=\u001b[39mMaxh))\n\u001b[1;32m---> <a href='vscode-notebook-cell:/c%3A/Users/User/OneDrive/Desktop/Master_Thesis/1_Curl_Problems/1_3_Inverse_Problem%20copy.ipynb#X12sZmlsZQ%3D%3D?line=13'>14</a>\u001b[0m     gf_psi, gf_curl_psi \u001b[39m=\u001b[39m  distributive_inverse_curl(mesh,order \u001b[39m=\u001b[39;49m Order,  BND_psi \u001b[39m=\u001b[39;49m psi, curl_psi \u001b[39m=\u001b[39;49m curl_psi ,draw \u001b[39m=\u001b[39;49m \u001b[39mFalse\u001b[39;49;00m)\n\u001b[0;32m     <a href='vscode-notebook-cell:/c%3A/Users/User/OneDrive/Desktop/Master_Thesis/1_Curl_Problems/1_3_Inverse_Problem%20copy.ipynb#X12sZmlsZQ%3D%3D?line=15'>16</a>\u001b[0m draw \u001b[39m=\u001b[39m \u001b[39mTrue\u001b[39;00m\n\u001b[0;32m     <a href='vscode-notebook-cell:/c%3A/Users/User/OneDrive/Desktop/Master_Thesis/1_Curl_Problems/1_3_Inverse_Problem%20copy.ipynb#X12sZmlsZQ%3D%3D?line=16'>17</a>\u001b[0m \u001b[39mif\u001b[39;00m draw:\n",
      "\u001b[1;32mc:\\Users\\User\\OneDrive\\Desktop\\Master_Thesis\\1_Curl_Problems\\1_3_Inverse_Problem copy.ipynb Cell 5\u001b[0m in \u001b[0;36mdistributive_inverse_curl\u001b[1;34m(mesh, order, BND_psi, curl_psi, draw, bonus_intorder)\u001b[0m\n\u001b[0;32m     <a href='vscode-notebook-cell:/c%3A/Users/User/OneDrive/Desktop/Master_Thesis/1_Curl_Problems/1_3_Inverse_Problem%20copy.ipynb#X12sZmlsZQ%3D%3D?line=24'>25</a>\u001b[0m r\u001b[39m.\u001b[39mdata \u001b[39m=\u001b[39m f\u001b[39m.\u001b[39mvec \u001b[39m-\u001b[39m a\u001b[39m.\u001b[39mmat \u001b[39m*\u001b[39m gf_sol\u001b[39m.\u001b[39mvec   \n\u001b[0;32m     <a href='vscode-notebook-cell:/c%3A/Users/User/OneDrive/Desktop/Master_Thesis/1_Curl_Problems/1_3_Inverse_Problem%20copy.ipynb#X12sZmlsZQ%3D%3D?line=25'>26</a>\u001b[0m gf_sol\u001b[39m.\u001b[39mvec\u001b[39m.\u001b[39mdata \u001b[39m+\u001b[39m\u001b[39m=\u001b[39m a\u001b[39m.\u001b[39mmat\u001b[39m.\u001b[39mInverse(freedofs\u001b[39m=\u001b[39mfes\u001b[39m.\u001b[39mFreeDofs(), inverse\u001b[39m=\u001b[39m\u001b[39m\"\u001b[39m\u001b[39mpardiso\u001b[39m\u001b[39m\"\u001b[39m) \u001b[39m*\u001b[39m r\n\u001b[1;32m---> <a href='vscode-notebook-cell:/c%3A/Users/User/OneDrive/Desktop/Master_Thesis/1_Curl_Problems/1_3_Inverse_Problem%20copy.ipynb#X12sZmlsZQ%3D%3D?line=26'>27</a>\u001b[0m gf_psi , gf_p \u001b[39m=\u001b[39m gf\u001b[39m.\u001b[39mcomponents\n\u001b[0;32m     <a href='vscode-notebook-cell:/c%3A/Users/User/OneDrive/Desktop/Master_Thesis/1_Curl_Problems/1_3_Inverse_Problem%20copy.ipynb#X12sZmlsZQ%3D%3D?line=28'>29</a>\u001b[0m \u001b[39m#r.data = f.vec\u001b[39;00m\n\u001b[0;32m     <a href='vscode-notebook-cell:/c%3A/Users/User/OneDrive/Desktop/Master_Thesis/1_Curl_Problems/1_3_Inverse_Problem%20copy.ipynb#X12sZmlsZQ%3D%3D?line=29'>30</a>\u001b[0m \u001b[39m#if a.condense:\u001b[39;00m\n\u001b[0;32m     <a href='vscode-notebook-cell:/c%3A/Users/User/OneDrive/Desktop/Master_Thesis/1_Curl_Problems/1_3_Inverse_Problem%20copy.ipynb#X12sZmlsZQ%3D%3D?line=30'>31</a>\u001b[0m \u001b[39m#    r.data += a.harmonic_extension_trans * r\u001b[39;00m\n\u001b[1;32m   (...)\u001b[0m\n\u001b[0;32m     <a href='vscode-notebook-cell:/c%3A/Users/User/OneDrive/Desktop/Master_Thesis/1_Curl_Problems/1_3_Inverse_Problem%20copy.ipynb#X12sZmlsZQ%3D%3D?line=34'>35</a>\u001b[0m \u001b[39m#    w.data += a.inner_solve * r\u001b[39;00m\n\u001b[0;32m     <a href='vscode-notebook-cell:/c%3A/Users/User/OneDrive/Desktop/Master_Thesis/1_Curl_Problems/1_3_Inverse_Problem%20copy.ipynb#X12sZmlsZQ%3D%3D?line=35'>36</a>\u001b[0m \u001b[39m#gf_sol.vec.data = w\u001b[39;00m\n\u001b[0;32m     <a href='vscode-notebook-cell:/c%3A/Users/User/OneDrive/Desktop/Master_Thesis/1_Curl_Problems/1_3_Inverse_Problem%20copy.ipynb#X12sZmlsZQ%3D%3D?line=37'>38</a>\u001b[0m gf_curl_psi \u001b[39m=\u001b[39m CF( (Grad(gf_psi)[\u001b[39m2\u001b[39m,\u001b[39m1\u001b[39m]\u001b[39m-\u001b[39mGrad(gf_psi)[\u001b[39m1\u001b[39m,\u001b[39m2\u001b[39m],Grad(gf_psi)[\u001b[39m0\u001b[39m,\u001b[39m2\u001b[39m]\u001b[39m-\u001b[39mGrad(gf_psi)[\u001b[39m2\u001b[39m,\u001b[39m0\u001b[39m],Grad(gf_psi)[\u001b[39m1\u001b[39m,\u001b[39m0\u001b[39m]\u001b[39m-\u001b[39mGrad(gf_psi)[\u001b[39m0\u001b[39m,\u001b[39m1\u001b[39m]) )\n",
      "\u001b[1;31mNameError\u001b[0m: name 'gf' is not defined"
     ]
    }
   ],
   "source": [
    "\n",
    "peak = exp(-25*((x-0.5)**2+(y-0.5)**2+(z-0.5)**2))\n",
    "\n",
    "# our initail function\n",
    "psi = CF ( (peak, 0, 0 ))#, dims=(3,1))\n",
    "\n",
    "# curl that needs to be approx\n",
    "curl_psi = CF( Curl(psi))#, dims=(3,1) )\n",
    "\n",
    "Maxh = 0.1\n",
    "Order = 3\n",
    "\n",
    "with TaskManager():\n",
    "    mesh = Mesh(unit_cube.GenerateMesh(maxh=Maxh))\n",
    "    gf_psi, gf_curl_psi =  distributive_inverse_curl(mesh,order = Order,  BND_psi = psi, curl_psi = curl_psi ,draw = False)\n",
    "\n",
    "draw = True\n",
    "if draw:\n",
    "    print(\"curl_psi : \")\n",
    "    Draw(curl_psi, mesh,clipping = (1,1,1,0))\n",
    "    print(\"gf_curl_psi : \")\n",
    "    Draw(gf_curl_psi, mesh,clipping = (1,1,1,0))\n",
    "    print(\"Error gf_curl_psi -curl_psi \"+ str(sqrt(Integrate(InnerProduct(gf_curl_psi -curl_psi,gf_curl_psi -curl_psi),mesh))))\n",
    "    Draw(gf_curl_psi -curl_psi, mesh,clipping = (1,1,1,0))\n",
    "\n",
    "    print(\"psi : \")\n",
    "    Draw(psi, mesh, clipping = (1,1,1))\n",
    "    print(\"gf_psi : \")\n",
    "    Draw(gf_psi, mesh,clipping = (1,1,1,0))\n",
    "    print(\"Error psi-gf_psi \"+ str(sqrt(Integrate(InnerProduct(psi-gf_psi,psi-gf_psi),mesh))))\n",
    "    Draw(psi-gf_psi, mesh,clipping = (1,1,1,0))\n",
    "\n"
   ]
  },
  {
   "cell_type": "code",
   "execution_count": null,
   "metadata": {},
   "outputs": [],
   "source": []
  }
 ],
 "metadata": {
  "kernelspec": {
   "display_name": "Python 3.10.4 64-bit",
   "language": "python",
   "name": "python3"
  },
  "language_info": {
   "codemirror_mode": {
    "name": "ipython",
    "version": 3
   },
   "file_extension": ".py",
   "mimetype": "text/x-python",
   "name": "python",
   "nbconvert_exporter": "python",
   "pygments_lexer": "ipython3",
   "version": "3.10.4"
  },
  "orig_nbformat": 4,
  "vscode": {
   "interpreter": {
    "hash": "afb734500600fd355917ca529030176ea0ca205570884b88f2f6f7d791fd3fbe"
   }
  }
 },
 "nbformat": 4,
 "nbformat_minor": 2
}
