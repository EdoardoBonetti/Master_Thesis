{
 "cells": [
  {
   "cell_type": "markdown",
   "metadata": {},
   "source": [
    "\n",
    "# Einstein Wave Propagation\n",
    "\n",
    "## The Einstein's wave Equation\n"
   ]
  },
  {
   "cell_type": "markdown",
   "metadata": {},
   "source": [
    "\n",
    "### Problem (1):\n",
    "Given a symmetric field $\\gamma_0$ and $\\gamma_1$ satisfying the equations:\n",
    "$$\n",
    "\\begin{align*}\n",
    "\\begin{cases}\n",
    "     \\text{div }  \\text{div }  S\\gamma_0 =0\\\\\n",
    "    \\text{div } S\\gamma_1 =0\n",
    "\\end{cases}\n",
    "\\end{align*}\n",
    "$$\n",
    "Find symmetric matrix fields $\\gamma(t)$ Such that\n",
    "$$\n",
    "\\begin{cases}\n",
    "\\gamma(0)  = \\gamma_0 \\\\\n",
    "\\gamma'(0) = \\gamma_1\n",
    "\\end{cases}\n",
    "$$\n",
    "$$\n",
    "\\begin{align*}\n",
    "    S\\gamma'' = - \\text{inc }\\gamma \\\\\n",
    "\\end{align*}\n",
    "$$\n",
    "\n"
   ]
  },
  {
   "cell_type": "markdown",
   "metadata": {},
   "source": [
    "Using the change of variable $S\\gamma' = \\kappa$ and $S\\gamma_1 = \\kappa_0$\n",
    "\n",
    "\n",
    "### Porblem (2)\n",
    "\n",
    "Given a symmetric field $\\gamma_0$ and $\\kappa_0$ satisfying the equations:\n",
    "$$\n",
    "\\begin{align*}\n",
    "\\begin{cases}\n",
    "     \\text{div }  \\text{div }  S\\gamma_0 =0\\\\\n",
    "    \\text{div } \\kappa_0 =0\n",
    "\\end{cases}\n",
    "\\end{align*}\n",
    "$$\n",
    "\n",
    "Find symmetric matrix fields $\\gamma(t)$ such that\n",
    "\n",
    "$$\n",
    "\\begin{align*}\n",
    "    \\kappa' &= - \\text{inc }\\gamma \\\\\n",
    "    \\gamma' &= J\\kappa\n",
    "\\end{align*}\n",
    "$$\n",
    "\n",
    "We need to modify it into a Discrete Variational form, now we don't care what the initial conditions are. "
   ]
  },
  {
   "cell_type": "markdown",
   "metadata": {},
   "source": [
    "\n",
    "### Porblem (3)\n",
    "For each time step $n$ we consider the following procedure:\n",
    "\n",
    "1. \n",
    "$$\n",
    "\\begin{cases}\n",
    "\\hat\\kappa^{n}  = \\text{inc }\\gamma^{n} \\\\\n",
    "\\hat\\gamma^{n}  = \\text{J }\\kappa^{n} \n",
    "\\end{cases}\n",
    "$$\n",
    "\n",
    "2. \n",
    "$$\n",
    "\\begin{cases}\n",
    "\\gamma^{n+1}  = \\gamma^{n} + \\tau \\hat\\gamma^{n} \n",
    "\\end{cases}\n",
    "$$\n",
    "\n",
    "3.\n",
    "$$\n",
    "\\begin{cases}\n",
    "\\kappa^{n+1}  = \\kappa^{n} - \\tau \\hat\\kappa^{n} \\\\\n",
    "\\text{div} \\kappa^{n+1} = 0 \n",
    "\\end{cases}\n",
    "$$\n",
    "\n"
   ]
  },
  {
   "cell_type": "markdown",
   "metadata": {},
   "source": []
  },
  {
   "cell_type": "code",
   "execution_count": 1,
   "metadata": {},
   "outputs": [],
   "source": [
    "from ngsolve import *\n",
    "from ngsolve.webgui import Draw\n",
    "from netgen.csg import unit_cube\n",
    "import matplotlib.pyplot as plt\n",
    "\n",
    "import time\n",
    "import scipy.sparse as sp\n",
    "from scipy.sparse import csc_matrix\n"
   ]
  },
  {
   "cell_type": "code",
   "execution_count": 2,
   "metadata": {},
   "outputs": [],
   "source": [
    "def norm(u, Mesh):\n",
    "    with TaskManager():\n",
    "        return sqrt(Integrate( InnerProduct(u,u) , Mesh))\n",
    "        \n"
   ]
  },
  {
   "cell_type": "code",
   "execution_count": 3,
   "metadata": {},
   "outputs": [],
   "source": [
    "def Curl(u):\n",
    "    if u.dim == 3:\n",
    "        return CF( (u[2].Diff(y)- u[1].Diff(z), u[0].Diff(z)- u[2].Diff(x), u[1].Diff(x)- u[0].Diff(y)) )\n",
    "    if u.dim == 9:\n",
    "        return CF( (Curl(u[0,:]),Curl(u[1,:]),Curl(u[2,:])),dims=(3,3) )\n"
   ]
  },
  {
   "cell_type": "code",
   "execution_count": 4,
   "metadata": {},
   "outputs": [],
   "source": [
    "\n",
    "def Inc(u):\n",
    "    return Curl(Curl(u).trans)\n"
   ]
  },
  {
   "cell_type": "code",
   "execution_count": 5,
   "metadata": {},
   "outputs": [],
   "source": [
    "\n",
    "def Div(u):\n",
    "    if u.dim == 3:\n",
    "        return CF( (u[0].Diff(x)+ u[1].Diff(y) + u[2].Diff(z)) )\n",
    "    if u.dim == 9:\n",
    "        return CF( (Div(u[0,:]),Div(u[1,:]),Div(u[2,:])) )\n"
   ]
  },
  {
   "cell_type": "code",
   "execution_count": 6,
   "metadata": {},
   "outputs": [],
   "source": [
    "\n",
    "def Tr(u):\n",
    "    return (u[0,0]+u[1,1]+u[2,2])\n"
   ]
  },
  {
   "cell_type": "code",
   "execution_count": 7,
   "metadata": {},
   "outputs": [],
   "source": [
    "\n",
    "def TensorCross(A,B): \n",
    "    return 0.5*Cof(A+B)-0.5*Cof(A-B)\n",
    "\n",
    "def J(u) : return u - 0.5*Id(3)\n",
    "def SymCurl(u) : return (Curl(u)+Curl(u).trans)/2"
   ]
  },
  {
   "cell_type": "code",
   "execution_count": 8,
   "metadata": {},
   "outputs": [],
   "source": [
    "\n",
    "\n",
    "def EinsteinPropagation(mesh , order = 1 , initail_g_field = None , bonus_intorder = 10 ,draw_g_field = False , draw_k_field = False, draw_divk_field = False , final_time  = 0.1, step_time = 0.002 ,video = False):\n",
    "    \n",
    "\n",
    "    print(\"Create FESpaces H(cc)XH(dd)\")\n",
    "    Hcc = HCurlCurl(mesh, order=order)\n",
    "    Hdd = HDivDiv(mesh, order=order   , dirichlet= \".*\")\n",
    "    Hc = HCurl(mesh,  order=order-1)\n",
    "    fes = Hcc*Hdd\n",
    "    print(\"Create projection FES H(dd)XH(c)\")\n",
    "    fes_projection =  Hdd*Hc\n",
    "\n",
    "    print(\"Create GridFunction for H(cc)XH(dd) and initialize the g field\")\n",
    "    weak_field = GridFunction(fes) \n",
    "    gf_g, gf_k = weak_field.components\n",
    "    gf_k.Set ( initail_g_field, bonus_intorder=bonus_intorder)#, dual=True)\n",
    "\n",
    "\n",
    "    # projectional part\n",
    "    print(\"Create projection GridFunction for H(dd)XH(c)\")\n",
    "    projection_field = GridFunction(fes_projection) \n",
    "    Pk, Pq = projection_field.components\n",
    "\n",
    "    # trial and test function for H(curl) X H(div)\n",
    "    #uc, ud , = fes.TrialFunction()\n",
    "    #vc, vd , = fes.TestFunction()\n",
    "\n",
    "\n",
    "    print(\"Create the inverse of the submatrix M_g\") \n",
    "    u,v = Hcc.TnT()\n",
    "    gdofs = fes.Range(0)\n",
    "    emb_g = Embedding(fes.ndof, gdofs)\n",
    "    inv_g = BilinearForm(InnerProduct(u,v)*dx).Assemble().mat.Inverse(inverse=\"sparsecholesky\")\n",
    "    \n",
    "    print(\"create the inverse of M_k\")\n",
    "    u,v = Hdd.TnT()\n",
    "    kdofs = fes.Range(1)\n",
    "    emb_k = Embedding(fes.ndof, kdofs)\n",
    "    inv_k = BilinearForm(InnerProduct(u,v)*dx).Assemble().mat.Inverse(inverse=\"sparsecholesky\")\n",
    "    \n",
    "\n",
    "    print(\"create the passage matrix M_kg : H(cc) -> H(dd)\")\n",
    "    u = Hcc.TrialFunction()\n",
    "    v = Hdd.TestFunction()\n",
    "    M_kg = BilinearForm(trialspace=Hcc, testspace=Hdd, geom_free = True)\n",
    "    M_kg +=  InnerProduct(u, v)*dx\n",
    "    M_kg.Assemble()\n",
    "\n",
    "\n",
    "    print(\"create the passage matrix M_gk: H(dd) -> H(cc)\")\n",
    "    u = Hcc.TestFunction()\n",
    "    v = Hdd.TrialFunction()\n",
    "    M_gk = BilinearForm(testspace=Hcc, trialspace=Hdd, geom_free = True)\n",
    "    M_gk +=  InnerProduct(u, v)*dx\n",
    "    M_gk.Assemble()\n",
    "    \n",
    "    # creating the matrix for the operator curl-curl:\n",
    "    u , v= Hcc.TnT()\n",
    "\n",
    "    print(\"Create the elements for Face and Edje\")\n",
    "    tE = specialcf.tangential(3,True)\n",
    "    t  = specialcf.tangential(3)\n",
    "    n  = specialcf.normal(3)\n",
    "\n",
    "    bbndtang  = specialcf.EdgeFaceTangentialVectors(3)\n",
    "    tef1 = bbndtang[:,0]\n",
    "    tef2 = bbndtang[:,1]\n",
    "\n",
    "    nu1 = Cross(tef1,tE)\n",
    "    nu2 = Cross(tef2,tE)\n",
    "\n",
    "    n_cross_v = CF( (Cross(n,v[0,:]),Cross(n,v[1,:]),Cross(n,v[2,:])), dims=(3,3) )\n",
    "    P_n = OuterProduct(n,n)\n",
    "    Q = Id(3) - P_n \n",
    "\n",
    "    print(\"create the discrete-distributional inc operator\")\n",
    "    K = BilinearForm(Hcc)\n",
    "        # angle deficit\n",
    "    K+= (u[tef1,nu1] - u[tef2,nu2])*v[tE,tE]*dx(element_vb=BBND)\n",
    "        # facet term\n",
    "    K+= 2*InnerProduct(TensorCross(OuterProduct(n,n), u.Operator(\"christoffel\")*n), v)*dx(element_boundary=True)\n",
    "        # volume term\n",
    "    K+= InnerProduct(u.Operator(\"inc\"),v)*dx\n",
    "    K.Assemble()\n",
    "    \n",
    "\n",
    "\n",
    "    print(\"create the discrete-distributional J operator\")\n",
    "    # We need to create the Operatro for S^-1:\n",
    "    u , v= Hdd.TnT()\n",
    "    J = BilinearForm(Hdd)\n",
    "    J += InnerProduct(u,v)*dx  \n",
    "    J += -InnerProduct(Tr(u),Tr(v))/2*dx\n",
    "    J.Assemble()\n",
    "\n",
    "\n",
    "\n",
    "    print(\"create the composition of matrices UP\")\n",
    "    Mup = emb_g @ inv_g @ M_gk.mat @ inv_k @ J.mat  @ emb_k.T\n",
    "    print(\"create the composition of matrices Down\")\n",
    "    Mdown = emb_k @ inv_k @ M_kg.mat @ inv_g  @ K.mat @ emb_g.T \n",
    "    #M =  Mdown\n",
    "    #   \n",
    "\n",
    "    print(\"Create the projection operator for the divergence free part\")\n",
    "    (u, p) , (v, q) = fes_projection.TnT()\n",
    "    \n",
    "    P = BilinearForm(fes_projection)\n",
    "    P +=  InnerProduct(v,u) * dx\n",
    "    P +=  div( v)*p * dx\n",
    "    P +=  -InnerProduct(v*n - v[n,n]*n , p - (p*n)*n ) * dx(element_boundary = True)\n",
    "    P +=  div( u)*q * dx\n",
    "    P +=  -InnerProduct(u*n - u[n,n]*n , q - (q*n)*n ) * dx(element_boundary = True)\n",
    "    P += -1e-9*p*q * dx\n",
    "\n",
    "    F = BilinearForm(fes_projection)\n",
    "    F +=  InnerProduct(v,u) * dx\n",
    "\n",
    "    P.Assemble()\n",
    "    F.Assemble()\n",
    "\n",
    "    print(\"Create the projection operator for the projection part\")\n",
    "    invP = P.mat.Inverse(inverse=\"sparsecholesky\")\n",
    "\n",
    "\n",
    "    if draw_g_field :\n",
    "        print(\"draw g\")\n",
    "        scene_g = Draw(gf_g, mesh,clipping={ \"z\" :-1 },draw_surf=False)\n",
    "    if draw_divk_field :\n",
    "        print(\"draw div k\")\n",
    "        scene_divd = Draw(div(gf_k), mesh,clipping={ \"z\" :-1 },draw_surf=False)\n",
    "    if draw_k_field :\n",
    "        print(\"draw k\")\n",
    "        scene_k = Draw(gf_k, mesh,clipping={ \"z\" :-1 })\n",
    "\n",
    "    t =   final_time\n",
    "    tau = step_time\n",
    "    h = 0\n",
    "\n",
    "    \n",
    "    while h < t :\n",
    "        \n",
    "        h+=tau\n",
    "        #we use only one matrix of the form described in the above markdowm\n",
    "        #input(\"top part :\")\n",
    "        weak_field.vec.data += -tau * Mdown *weak_field.vec\n",
    "        #input(\"top part :\")\n",
    "        weak_field.vec.data += tau * Mup *weak_field.vec\n",
    "        #input(\"bot part : \")\n",
    "\n",
    "        #elfield.vec.data += tau* (inv @ Mm ) @ inv * elfield.vec\n",
    "        #scene_d.Redraw()\n",
    "        \n",
    "        Pk.vec.data = gf_k.vec\n",
    "        projection_field.vec.data =  invP*(F.mat*projection_field.vec)\n",
    "        gf_k.vec.data = Pk.vec\n",
    "        \n",
    "        if draw_g_field :\n",
    "            scene_g.Redraw()\n",
    "        if draw_divk_field :\n",
    "            scene_divd.Redraw()\n",
    "        if draw_k_field :\n",
    "            scene_k.Redraw()\n",
    "        print(\"time : \" +str(h))\n",
    "\n",
    "    return gf_g,gf_k"
   ]
  },
  {
   "cell_type": "code",
   "execution_count": null,
   "metadata": {},
   "outputs": [],
   "source": [
    "\n"
   ]
  },
  {
   "cell_type": "code",
   "execution_count": 9,
   "metadata": {},
   "outputs": [
    {
     "data": {
      "application/vnd.jupyter.widget-view+json": {
       "model_id": "f1423f279f4d4cd09a62fd46af3d2084",
       "version_major": 2,
       "version_minor": 0
      },
      "text/plain": [
       "WebGuiWidget(value={'ngsolve_version': '6.2.2203', 'mesh_dim': 3, 'order2d': 2, 'order3d': 2, 'draw_vol': True…"
      ]
     },
     "metadata": {},
     "output_type": "display_data"
    },
    {
     "data": {
      "text/plain": [
       "BaseWebGuiScene"
      ]
     },
     "execution_count": 9,
     "metadata": {},
     "output_type": "execute_result"
    }
   ],
   "source": [
    "final_time = 0.05\n",
    "step_time = 0.0001\n",
    "MoreInfo = True\n",
    "video = False\n",
    "draw_divk_field = True\n",
    "draw_k_field = True\n",
    "draw_g_field = True\n",
    "\n",
    "Maxh = 0.11\n",
    "order = 3\n",
    "mesh = Mesh(unit_cube.GenerateMesh(maxh=Maxh))\n",
    "\n",
    "\n",
    "\n",
    "# define initial conditions for the wave\n",
    "#peak = IfPos((1-(x-0.5)**2 -(y-0.5)**2 -(z-0.5)**2)**2,exp(25)*exp(-25/(1-(x-0.5)**2 -(y-0.5)**2 -(z-0.5)**2)) , 1)\n",
    "peak = exp(-35*( (x-0.5)**2 + (y-0.5)**2 +(z-0.5)**2))\n",
    "Draw(peak,mesh, clipping={ \"z\" :-1 })\n"
   ]
  },
  {
   "cell_type": "code",
   "execution_count": 10,
   "metadata": {},
   "outputs": [
    {
     "data": {
      "application/vnd.jupyter.widget-view+json": {
       "model_id": "81de717840a7495aa524a558a7ac692e",
       "version_major": 2,
       "version_minor": 0
      },
      "text/plain": [
       "WebGuiWidget(value={'ngsolve_version': '6.2.2203', 'mesh_dim': 3, 'order2d': 2, 'order3d': 2, 'draw_vol': True…"
      ]
     },
     "metadata": {},
     "output_type": "display_data"
    },
    {
     "data": {
      "text/plain": [
       "BaseWebGuiScene"
      ]
     },
     "execution_count": 10,
     "metadata": {},
     "output_type": "execute_result"
    }
   ],
   "source": [
    "\n",
    "PEAK = CF( (peak, 0, 0 ,0,0,0  , 0,0,0), dims=(3,3))\n",
    "Draw(PEAK,mesh, clipping={ \"z\" :-1 })\n"
   ]
  },
  {
   "cell_type": "code",
   "execution_count": null,
   "metadata": {},
   "outputs": [],
   "source": [
    "\n",
    "initail_g_field = CF ( J(SymCurl(PEAK)), dims=(3,3))\n",
    "Draw(initail_g_field,mesh, clipping={ \"z\" :-1 })\n"
   ]
  },
  {
   "cell_type": "code",
   "execution_count": 10,
   "metadata": {},
   "outputs": [
    {
     "name": "stdout",
     "output_type": "stream",
     "text": [
      "Create FESpaces H(cc)XH(dd)\n",
      "Create projection FES H(dd)XH(c)\n",
      "Create GridFunction for H(cc)XH(dd) and initialize the g field\n",
      "Create projection GridFunction for H(dd)XH(c)\n",
      "Create the inverse of the submatrix M_g\n",
      "create the inverse of M_k\n",
      "create the passage matrix M_kg : H(cc) -> H(dd)\n",
      "create the passage matrix M_gk: H(dd) -> H(cc)\n",
      "Create the elements for Face and Edje\n",
      "create the discrete-distributional inc operator\n",
      "create the discrete-distributional J operator\n",
      "create the composition of matrices UP\n",
      "create the composition of matrices Down\n",
      "Create the projection operator for the divergence free part\n",
      "Create the projection operator for the projection part\n",
      "draw g\n"
     ]
    },
    {
     "data": {
      "application/vnd.jupyter.widget-view+json": {
       "model_id": "e0de63cee8a64e3e81617cdf524aeb0a",
       "version_major": 2,
       "version_minor": 0
      },
      "text/plain": [
       "WebGuiWidget(value={'ngsolve_version': '6.2.2203', 'mesh_dim': 3, 'order2d': 2, 'order3d': 2, 'draw_vol': True…"
      ]
     },
     "metadata": {},
     "output_type": "display_data"
    },
    {
     "name": "stdout",
     "output_type": "stream",
     "text": [
      "draw div k\n"
     ]
    },
    {
     "data": {
      "application/vnd.jupyter.widget-view+json": {
       "model_id": "26a6e533ccc84a44889f9877837da916",
       "version_major": 2,
       "version_minor": 0
      },
      "text/plain": [
       "WebGuiWidget(value={'ngsolve_version': '6.2.2203', 'mesh_dim': 3, 'order2d': 2, 'order3d': 2, 'draw_vol': True…"
      ]
     },
     "metadata": {},
     "output_type": "display_data"
    },
    {
     "name": "stdout",
     "output_type": "stream",
     "text": [
      "draw k\n"
     ]
    },
    {
     "data": {
      "application/vnd.jupyter.widget-view+json": {
       "model_id": "9bbcf66f167b49aeb82290a9ae16743e",
       "version_major": 2,
       "version_minor": 0
      },
      "text/plain": [
       "WebGuiWidget(value={'ngsolve_version': '6.2.2203', 'mesh_dim': 3, 'order2d': 2, 'order3d': 2, 'draw_vol': True…"
      ]
     },
     "metadata": {},
     "output_type": "display_data"
    },
    {
     "ename": "KeyboardInterrupt",
     "evalue": "Interrupted by user",
     "output_type": "error",
     "traceback": [
      "\u001b[1;31m---------------------------------------------------------------------------\u001b[0m",
      "\u001b[1;31mKeyboardInterrupt\u001b[0m                         Traceback (most recent call last)",
      "\u001b[1;32mc:\\Users\\User\\OneDrive\\Desktop\\Master_Thesis\\4_Einstein_Field_Equations\\EinsteinWaveEquation.ipynb Cell 16\u001b[0m in \u001b[0;36m<cell line: 1>\u001b[1;34m()\u001b[0m\n\u001b[0;32m      <a href='vscode-notebook-cell:/c%3A/Users/User/OneDrive/Desktop/Master_Thesis/4_Einstein_Field_Equations/EinsteinWaveEquation.ipynb#W6sZmlsZQ%3D%3D?line=0'>1</a>\u001b[0m \u001b[39mwith\u001b[39;00m TaskManager():\n\u001b[1;32m----> <a href='vscode-notebook-cell:/c%3A/Users/User/OneDrive/Desktop/Master_Thesis/4_Einstein_Field_Equations/EinsteinWaveEquation.ipynb#W6sZmlsZQ%3D%3D?line=1'>2</a>\u001b[0m     g,k \u001b[39m=\u001b[39m EinsteinPropagation(mesh , order \u001b[39m=\u001b[39;49m order ,initail_g_field \u001b[39m=\u001b[39;49m initail_g_field , final_time  \u001b[39m=\u001b[39;49m final_time, step_time \u001b[39m=\u001b[39;49m step_time, video \u001b[39m=\u001b[39;49mvideo , draw_divk_field \u001b[39m=\u001b[39;49m draw_divk_field , draw_k_field \u001b[39m=\u001b[39;49m draw_k_field)\n",
      "\u001b[1;32mc:\\Users\\User\\OneDrive\\Desktop\\Master_Thesis\\4_Einstein_Field_Equations\\EinsteinWaveEquation.ipynb Cell 16\u001b[0m in \u001b[0;36mEinsteinPropagation\u001b[1;34m(mesh, order, initail_g_field, bonus_intorder, draw_g_field, draw_k_field, draw_divk_field, final_time, step_time, video)\u001b[0m\n\u001b[0;32m    <a href='vscode-notebook-cell:/c%3A/Users/User/OneDrive/Desktop/Master_Thesis/4_Einstein_Field_Equations/EinsteinWaveEquation.ipynb#W6sZmlsZQ%3D%3D?line=135'>136</a>\u001b[0m h \u001b[39m=\u001b[39m \u001b[39m0\u001b[39m\n\u001b[0;32m    <a href='vscode-notebook-cell:/c%3A/Users/User/OneDrive/Desktop/Master_Thesis/4_Einstein_Field_Equations/EinsteinWaveEquation.ipynb#W6sZmlsZQ%3D%3D?line=138'>139</a>\u001b[0m \u001b[39mwhile\u001b[39;00m h \u001b[39m<\u001b[39m t :\n\u001b[1;32m--> <a href='vscode-notebook-cell:/c%3A/Users/User/OneDrive/Desktop/Master_Thesis/4_Einstein_Field_Equations/EinsteinWaveEquation.ipynb#W6sZmlsZQ%3D%3D?line=139'>140</a>\u001b[0m     \u001b[39minput\u001b[39;49m(\u001b[39m\"\u001b[39;49m\u001b[39mgo ahead\u001b[39;49m\u001b[39m\"\u001b[39;49m)\n\u001b[0;32m    <a href='vscode-notebook-cell:/c%3A/Users/User/OneDrive/Desktop/Master_Thesis/4_Einstein_Field_Equations/EinsteinWaveEquation.ipynb#W6sZmlsZQ%3D%3D?line=140'>141</a>\u001b[0m     h\u001b[39m+\u001b[39m\u001b[39m=\u001b[39mtau\n\u001b[0;32m    <a href='vscode-notebook-cell:/c%3A/Users/User/OneDrive/Desktop/Master_Thesis/4_Einstein_Field_Equations/EinsteinWaveEquation.ipynb#W6sZmlsZQ%3D%3D?line=141'>142</a>\u001b[0m     \u001b[39m#we use only one matrix of the form described in the above markdowm\u001b[39;00m\n\u001b[0;32m    <a href='vscode-notebook-cell:/c%3A/Users/User/OneDrive/Desktop/Master_Thesis/4_Einstein_Field_Equations/EinsteinWaveEquation.ipynb#W6sZmlsZQ%3D%3D?line=142'>143</a>\u001b[0m     \u001b[39m#input(\"top part :\")\u001b[39;00m\n",
      "File \u001b[1;32mc:\\Users\\User\\AppData\\Local\\Programs\\Python\\Python310\\lib\\site-packages\\ipykernel\\kernelbase.py:1161\u001b[0m, in \u001b[0;36mKernel.raw_input\u001b[1;34m(self, prompt)\u001b[0m\n\u001b[0;32m   1157\u001b[0m \u001b[39mif\u001b[39;00m \u001b[39mnot\u001b[39;00m \u001b[39mself\u001b[39m\u001b[39m.\u001b[39m_allow_stdin:\n\u001b[0;32m   1158\u001b[0m     \u001b[39mraise\u001b[39;00m StdinNotImplementedError(\n\u001b[0;32m   1159\u001b[0m         \u001b[39m\"\u001b[39m\u001b[39mraw_input was called, but this frontend does not support input requests.\u001b[39m\u001b[39m\"\u001b[39m\n\u001b[0;32m   1160\u001b[0m     )\n\u001b[1;32m-> 1161\u001b[0m \u001b[39mreturn\u001b[39;00m \u001b[39mself\u001b[39;49m\u001b[39m.\u001b[39;49m_input_request(\n\u001b[0;32m   1162\u001b[0m     \u001b[39mstr\u001b[39;49m(prompt),\n\u001b[0;32m   1163\u001b[0m     \u001b[39mself\u001b[39;49m\u001b[39m.\u001b[39;49m_parent_ident[\u001b[39m\"\u001b[39;49m\u001b[39mshell\u001b[39;49m\u001b[39m\"\u001b[39;49m],\n\u001b[0;32m   1164\u001b[0m     \u001b[39mself\u001b[39;49m\u001b[39m.\u001b[39;49mget_parent(\u001b[39m\"\u001b[39;49m\u001b[39mshell\u001b[39;49m\u001b[39m\"\u001b[39;49m),\n\u001b[0;32m   1165\u001b[0m     password\u001b[39m=\u001b[39;49m\u001b[39mFalse\u001b[39;49;00m,\n\u001b[0;32m   1166\u001b[0m )\n",
      "File \u001b[1;32mc:\\Users\\User\\AppData\\Local\\Programs\\Python\\Python310\\lib\\site-packages\\ipykernel\\kernelbase.py:1205\u001b[0m, in \u001b[0;36mKernel._input_request\u001b[1;34m(self, prompt, ident, parent, password)\u001b[0m\n\u001b[0;32m   1202\u001b[0m             \u001b[39mbreak\u001b[39;00m\n\u001b[0;32m   1203\u001b[0m \u001b[39mexcept\u001b[39;00m \u001b[39mKeyboardInterrupt\u001b[39;00m:\n\u001b[0;32m   1204\u001b[0m     \u001b[39m# re-raise KeyboardInterrupt, to truncate traceback\u001b[39;00m\n\u001b[1;32m-> 1205\u001b[0m     \u001b[39mraise\u001b[39;00m \u001b[39mKeyboardInterrupt\u001b[39;00m(\u001b[39m\"\u001b[39m\u001b[39mInterrupted by user\u001b[39m\u001b[39m\"\u001b[39m) \u001b[39mfrom\u001b[39;00m \u001b[39mNone\u001b[39m\n\u001b[0;32m   1206\u001b[0m \u001b[39mexcept\u001b[39;00m \u001b[39mException\u001b[39;00m:\n\u001b[0;32m   1207\u001b[0m     \u001b[39mself\u001b[39m\u001b[39m.\u001b[39mlog\u001b[39m.\u001b[39mwarning(\u001b[39m\"\u001b[39m\u001b[39mInvalid Message:\u001b[39m\u001b[39m\"\u001b[39m, exc_info\u001b[39m=\u001b[39m\u001b[39mTrue\u001b[39;00m)\n",
      "\u001b[1;31mKeyboardInterrupt\u001b[0m: Interrupted by user"
     ]
    }
   ],
   "source": [
    "\n",
    "with TaskManager():\n",
    "    g,k = EinsteinPropagation(mesh , order = order ,initail_g_field = initail_g_field , final_time  = final_time, step_time = step_time, video =video , draw_divk_field = draw_divk_field , draw_k_field = draw_k_field)"
   ]
  },
  {
   "cell_type": "code",
   "execution_count": null,
   "metadata": {},
   "outputs": [],
   "source": []
  }
 ],
 "metadata": {
  "interpreter": {
   "hash": "afb734500600fd355917ca529030176ea0ca205570884b88f2f6f7d791fd3fbe"
  },
  "kernelspec": {
   "display_name": "Python 3.10.4 64-bit",
   "language": "python",
   "name": "python3"
  },
  "language_info": {
   "codemirror_mode": {
    "name": "ipython",
    "version": 3
   },
   "file_extension": ".py",
   "mimetype": "text/x-python",
   "name": "python",
   "nbconvert_exporter": "python",
   "pygments_lexer": "ipython3",
   "version": "3.10.4"
  },
  "orig_nbformat": 4
 },
 "nbformat": 4,
 "nbformat_minor": 2
}
