{
 "cells": [
  {
   "cell_type": "code",
   "execution_count": 2,
   "metadata": {},
   "outputs": [],
   "source": [
    "from sympy import Derivative\n",
    "from sympy import diff, sin, exp\n",
    "from sympy.abc import x,y,z\n",
    "from sympy.matrices import Matrix\n",
    "from sympy import sympify\n",
    "from sympy import *"
   ]
  },
  {
   "cell_type": "code",
   "execution_count": 7,
   "metadata": {},
   "outputs": [
    {
     "name": "stdout",
     "output_type": "stream",
     "text": [
      "Matrix([[-(25.0 - 50*z)*exp(-25*(z - 0.5)**2), 0, 0]])\n"
     ]
    },
    {
     "ename": "ValueError",
     "evalue": "mismatched dimensions",
     "output_type": "error",
     "traceback": [
      "\u001b[1;31m---------------------------------------------------------------------------\u001b[0m",
      "\u001b[1;31mValueError\u001b[0m                                Traceback (most recent call last)",
      "\u001b[1;32mc:\\Users\\User\\OneDrive\\Desktop\\NGSolve_for_Thesis\\Derivations\\Derivation.ipynb Cell 2\u001b[0m in \u001b[0;36m<cell line: 14>\u001b[1;34m()\u001b[0m\n\u001b[0;32m     <a href='vscode-notebook-cell:/c%3A/Users/User/OneDrive/Desktop/NGSolve_for_Thesis/Derivations/Derivation.ipynb#ch0000001?line=11'>12</a>\u001b[0m \u001b[39mdef\u001b[39;00m \u001b[39mInc\u001b[39m(m):\n\u001b[0;32m     <a href='vscode-notebook-cell:/c%3A/Users/User/OneDrive/Desktop/NGSolve_for_Thesis/Derivations/Derivation.ipynb#ch0000001?line=12'>13</a>\u001b[0m     \u001b[39mreturn\u001b[39;00m Curl(Curl(Matrix([m]))\u001b[39m.\u001b[39mtranspose)\n\u001b[1;32m---> <a href='vscode-notebook-cell:/c%3A/Users/User/OneDrive/Desktop/NGSolve_for_Thesis/Derivations/Derivation.ipynb#ch0000001?line=13'>14</a>\u001b[0m Curl_m \u001b[39m=\u001b[39m Curl(Matrix([m]))\n\u001b[0;32m     <a href='vscode-notebook-cell:/c%3A/Users/User/OneDrive/Desktop/NGSolve_for_Thesis/Derivations/Derivation.ipynb#ch0000001?line=14'>15</a>\u001b[0m Inc_m \u001b[39m=\u001b[39m Curl(Curl_m\u001b[39m.\u001b[39mtranspose)\n\u001b[0;32m     <a href='vscode-notebook-cell:/c%3A/Users/User/OneDrive/Desktop/NGSolve_for_Thesis/Derivations/Derivation.ipynb#ch0000001?line=16'>17</a>\u001b[0m Inc_m\n",
      "\u001b[1;32mc:\\Users\\User\\OneDrive\\Desktop\\NGSolve_for_Thesis\\Derivations\\Derivation.ipynb Cell 2\u001b[0m in \u001b[0;36mCurl\u001b[1;34m(m)\u001b[0m\n\u001b[0;32m      <a href='vscode-notebook-cell:/c%3A/Users/User/OneDrive/Desktop/NGSolve_for_Thesis/Derivations/Derivation.ipynb#ch0000001?line=7'>8</a>\u001b[0m \u001b[39mdef\u001b[39;00m \u001b[39mCurl\u001b[39m(m):\n\u001b[0;32m      <a href='vscode-notebook-cell:/c%3A/Users/User/OneDrive/Desktop/NGSolve_for_Thesis/Derivations/Derivation.ipynb#ch0000001?line=8'>9</a>\u001b[0m     \u001b[39mprint\u001b[39m(curl(Matrix([m])\u001b[39m.\u001b[39mrow(\u001b[39m0\u001b[39m)))\n\u001b[1;32m---> <a href='vscode-notebook-cell:/c%3A/Users/User/OneDrive/Desktop/NGSolve_for_Thesis/Derivations/Derivation.ipynb#ch0000001?line=9'>10</a>\u001b[0m     \u001b[39mreturn\u001b[39;00m Matrix([curl(m\u001b[39m.\u001b[39;49mrow(\u001b[39m0\u001b[39;49m)),[curl(m\u001b[39m.\u001b[39;49mrow(\u001b[39m1\u001b[39;49m))],[curl(m\u001b[39m.\u001b[39;49mrow(\u001b[39m2\u001b[39;49m))]])\n",
      "File \u001b[1;32m~\\AppData\\Roaming\\Python\\Python310\\site-packages\\sympy\\matrices\\repmatrix.py:329\u001b[0m, in \u001b[0;36mMutableRepMatrix.__new__\u001b[1;34m(cls, *args, **kwargs)\u001b[0m\n\u001b[0;32m    328\u001b[0m \u001b[39mdef\u001b[39;00m \u001b[39m__new__\u001b[39m(\u001b[39mcls\u001b[39m, \u001b[39m*\u001b[39margs, \u001b[39m*\u001b[39m\u001b[39m*\u001b[39mkwargs):\n\u001b[1;32m--> 329\u001b[0m     \u001b[39mreturn\u001b[39;00m \u001b[39mcls\u001b[39m\u001b[39m.\u001b[39m_new(\u001b[39m*\u001b[39margs, \u001b[39m*\u001b[39m\u001b[39m*\u001b[39mkwargs)\n",
      "File \u001b[1;32m~\\AppData\\Roaming\\Python\\Python310\\site-packages\\sympy\\matrices\\repmatrix.py:340\u001b[0m, in \u001b[0;36mMutableRepMatrix._new\u001b[1;34m(cls, copy, *args, **kwargs)\u001b[0m\n\u001b[0;32m    338\u001b[0m     rows, cols, flat_list \u001b[39m=\u001b[39m args\n\u001b[0;32m    339\u001b[0m \u001b[39melse\u001b[39;00m:\n\u001b[1;32m--> 340\u001b[0m     rows, cols, flat_list \u001b[39m=\u001b[39m \u001b[39mcls\u001b[39m\u001b[39m.\u001b[39m_handle_creation_inputs(\u001b[39m*\u001b[39margs, \u001b[39m*\u001b[39m\u001b[39m*\u001b[39mkwargs)\n\u001b[0;32m    341\u001b[0m     flat_list \u001b[39m=\u001b[39m \u001b[39mlist\u001b[39m(flat_list) \u001b[39m# create a shallow copy\u001b[39;00m\n\u001b[0;32m    343\u001b[0m rep \u001b[39m=\u001b[39m \u001b[39mcls\u001b[39m\u001b[39m.\u001b[39m_flat_list_to_DomainMatrix(rows, cols, flat_list)\n",
      "File \u001b[1;32m~\\AppData\\Roaming\\Python\\Python310\\site-packages\\sympy\\matrices\\matrices.py:1070\u001b[0m, in \u001b[0;36mMatrixBase._handle_creation_inputs\u001b[1;34m(cls, *args, **kwargs)\u001b[0m\n\u001b[0;32m   1068\u001b[0m         flat_list\u001b[39m.\u001b[39mappend(i)\n\u001b[0;32m   1069\u001b[0m     \u001b[39mif\u001b[39;00m \u001b[39mlen\u001b[39m(ncol) \u001b[39m>\u001b[39m \u001b[39m1\u001b[39m:\n\u001b[1;32m-> 1070\u001b[0m         \u001b[39mraise\u001b[39;00m \u001b[39mValueError\u001b[39;00m(\u001b[39m'\u001b[39m\u001b[39mmismatched dimensions\u001b[39m\u001b[39m'\u001b[39m)\n\u001b[0;32m   1071\u001b[0m cols \u001b[39m=\u001b[39m ncol\u001b[39m.\u001b[39mpop()\n\u001b[0;32m   1072\u001b[0m rows \u001b[39m=\u001b[39m \u001b[39mlen\u001b[39m(flat_list)\u001b[39m/\u001b[39m\u001b[39m/\u001b[39mcols\n",
      "\u001b[1;31mValueError\u001b[0m: mismatched dimensions"
     ]
    }
   ],
   "source": [
    "peak = exp(-25*(z-0.5)**2)\n",
    "m=Matrix([[0,peak,0],[peak,0,0],[0,0,0]])\n",
    "m\n",
    "v = Matrix([[peak,0,0]])\n",
    "def curl(v):\n",
    "    return Matrix([[ sympify(diff(v[2], y)-diff(v[1], z)), sympify(diff(v[0], z)-diff(v[2], x)), sympify(diff(v[1], x)-diff(v[0], y))]])\n",
    "    \n",
    "def Curl(m):\n",
    "    print(curl(Matrix([m]).row(0)))\n",
    "    return Matrix([curl(m.row(0)),[curl(m.row(1))],[curl(m.row(2))]])\n",
    "\n",
    "def Inc(m):\n",
    "    return Curl(Curl(Matrix([m])).transpose)\n",
    "Curl_m = Curl(Matrix([m]))\n",
    "Inc_m = Curl(Curl_m.transpose)\n",
    "\n",
    "Inc_m\n",
    "curl_v = curl(v)\n",
    "curl_v"
   ]
  },
  {
   "cell_type": "code",
   "execution_count": 8,
   "metadata": {},
   "outputs": [
    {
     "name": "stdout",
     "output_type": "stream",
     "text": [
      "Matrix([[-Derivative(f12(x, y, z), z) + Derivative(f13(x, y, z), y), Derivative(f11(x, y, z), z) - Derivative(f13(x, y, z), x), -Derivative(f11(x, y, z), y) + Derivative(f12(x, y, z), x)]])\n"
     ]
    },
    {
     "ename": "ValueError",
     "evalue": "mismatched dimensions",
     "output_type": "error",
     "traceback": [
      "\u001b[1;31m---------------------------------------------------------------------------\u001b[0m",
      "\u001b[1;31mValueError\u001b[0m                                Traceback (most recent call last)",
      "\u001b[1;32mc:\\Users\\User\\OneDrive\\Desktop\\NGSolve_for_Thesis\\Derivations\\Derivation.ipynb Cell 3\u001b[0m in \u001b[0;36m<cell line: 14>\u001b[1;34m()\u001b[0m\n\u001b[0;32m     <a href='vscode-notebook-cell:/c%3A/Users/User/OneDrive/Desktop/NGSolve_for_Thesis/Derivations/Derivation.ipynb#ch0000002?line=10'>11</a>\u001b[0m f33 \u001b[39m=\u001b[39m Function(\u001b[39m'\u001b[39m\u001b[39mf33\u001b[39m\u001b[39m'\u001b[39m)(x,y,z)\n\u001b[0;32m     <a href='vscode-notebook-cell:/c%3A/Users/User/OneDrive/Desktop/NGSolve_for_Thesis/Derivations/Derivation.ipynb#ch0000002?line=12'>13</a>\u001b[0m f \u001b[39m=\u001b[39m Matrix([[f11,f12,f13],[f21,f22,f23],[f31,f32,f33]])\n\u001b[1;32m---> <a href='vscode-notebook-cell:/c%3A/Users/User/OneDrive/Desktop/NGSolve_for_Thesis/Derivations/Derivation.ipynb#ch0000002?line=13'>14</a>\u001b[0m \u001b[39mprint\u001b[39m(Inc(f))\n",
      "\u001b[1;32mc:\\Users\\User\\OneDrive\\Desktop\\NGSolve_for_Thesis\\Derivations\\Derivation.ipynb Cell 3\u001b[0m in \u001b[0;36mInc\u001b[1;34m(m)\u001b[0m\n\u001b[0;32m     <a href='vscode-notebook-cell:/c%3A/Users/User/OneDrive/Desktop/NGSolve_for_Thesis/Derivations/Derivation.ipynb#ch0000002?line=11'>12</a>\u001b[0m \u001b[39mdef\u001b[39;00m \u001b[39mInc\u001b[39m(m):\n\u001b[1;32m---> <a href='vscode-notebook-cell:/c%3A/Users/User/OneDrive/Desktop/NGSolve_for_Thesis/Derivations/Derivation.ipynb#ch0000002?line=12'>13</a>\u001b[0m     \u001b[39mreturn\u001b[39;00m Curl(Curl(Matrix([m]))\u001b[39m.\u001b[39mtranspose)\n",
      "\u001b[1;32mc:\\Users\\User\\OneDrive\\Desktop\\NGSolve_for_Thesis\\Derivations\\Derivation.ipynb Cell 3\u001b[0m in \u001b[0;36mCurl\u001b[1;34m(m)\u001b[0m\n\u001b[0;32m      <a href='vscode-notebook-cell:/c%3A/Users/User/OneDrive/Desktop/NGSolve_for_Thesis/Derivations/Derivation.ipynb#ch0000002?line=7'>8</a>\u001b[0m \u001b[39mdef\u001b[39;00m \u001b[39mCurl\u001b[39m(m):\n\u001b[0;32m      <a href='vscode-notebook-cell:/c%3A/Users/User/OneDrive/Desktop/NGSolve_for_Thesis/Derivations/Derivation.ipynb#ch0000002?line=8'>9</a>\u001b[0m     \u001b[39mprint\u001b[39m(curl(Matrix([m])\u001b[39m.\u001b[39mrow(\u001b[39m0\u001b[39m)))\n\u001b[1;32m---> <a href='vscode-notebook-cell:/c%3A/Users/User/OneDrive/Desktop/NGSolve_for_Thesis/Derivations/Derivation.ipynb#ch0000002?line=9'>10</a>\u001b[0m     \u001b[39mreturn\u001b[39;00m Matrix([curl(m\u001b[39m.\u001b[39;49mrow(\u001b[39m0\u001b[39;49m)),[curl(m\u001b[39m.\u001b[39;49mrow(\u001b[39m1\u001b[39;49m))],[curl(m\u001b[39m.\u001b[39;49mrow(\u001b[39m2\u001b[39;49m))]])\n",
      "File \u001b[1;32m~\\AppData\\Roaming\\Python\\Python310\\site-packages\\sympy\\matrices\\repmatrix.py:329\u001b[0m, in \u001b[0;36mMutableRepMatrix.__new__\u001b[1;34m(cls, *args, **kwargs)\u001b[0m\n\u001b[0;32m    328\u001b[0m \u001b[39mdef\u001b[39;00m \u001b[39m__new__\u001b[39m(\u001b[39mcls\u001b[39m, \u001b[39m*\u001b[39margs, \u001b[39m*\u001b[39m\u001b[39m*\u001b[39mkwargs):\n\u001b[1;32m--> 329\u001b[0m     \u001b[39mreturn\u001b[39;00m \u001b[39mcls\u001b[39m\u001b[39m.\u001b[39m_new(\u001b[39m*\u001b[39margs, \u001b[39m*\u001b[39m\u001b[39m*\u001b[39mkwargs)\n",
      "File \u001b[1;32m~\\AppData\\Roaming\\Python\\Python310\\site-packages\\sympy\\matrices\\repmatrix.py:340\u001b[0m, in \u001b[0;36mMutableRepMatrix._new\u001b[1;34m(cls, copy, *args, **kwargs)\u001b[0m\n\u001b[0;32m    338\u001b[0m     rows, cols, flat_list \u001b[39m=\u001b[39m args\n\u001b[0;32m    339\u001b[0m \u001b[39melse\u001b[39;00m:\n\u001b[1;32m--> 340\u001b[0m     rows, cols, flat_list \u001b[39m=\u001b[39m \u001b[39mcls\u001b[39m\u001b[39m.\u001b[39m_handle_creation_inputs(\u001b[39m*\u001b[39margs, \u001b[39m*\u001b[39m\u001b[39m*\u001b[39mkwargs)\n\u001b[0;32m    341\u001b[0m     flat_list \u001b[39m=\u001b[39m \u001b[39mlist\u001b[39m(flat_list) \u001b[39m# create a shallow copy\u001b[39;00m\n\u001b[0;32m    343\u001b[0m rep \u001b[39m=\u001b[39m \u001b[39mcls\u001b[39m\u001b[39m.\u001b[39m_flat_list_to_DomainMatrix(rows, cols, flat_list)\n",
      "File \u001b[1;32m~\\AppData\\Roaming\\Python\\Python310\\site-packages\\sympy\\matrices\\matrices.py:1070\u001b[0m, in \u001b[0;36mMatrixBase._handle_creation_inputs\u001b[1;34m(cls, *args, **kwargs)\u001b[0m\n\u001b[0;32m   1068\u001b[0m         flat_list\u001b[39m.\u001b[39mappend(i)\n\u001b[0;32m   1069\u001b[0m     \u001b[39mif\u001b[39;00m \u001b[39mlen\u001b[39m(ncol) \u001b[39m>\u001b[39m \u001b[39m1\u001b[39m:\n\u001b[1;32m-> 1070\u001b[0m         \u001b[39mraise\u001b[39;00m \u001b[39mValueError\u001b[39;00m(\u001b[39m'\u001b[39m\u001b[39mmismatched dimensions\u001b[39m\u001b[39m'\u001b[39m)\n\u001b[0;32m   1071\u001b[0m cols \u001b[39m=\u001b[39m ncol\u001b[39m.\u001b[39mpop()\n\u001b[0;32m   1072\u001b[0m rows \u001b[39m=\u001b[39m \u001b[39mlen\u001b[39m(flat_list)\u001b[39m/\u001b[39m\u001b[39m/\u001b[39mcols\n",
      "\u001b[1;31mValueError\u001b[0m: mismatched dimensions"
     ]
    }
   ],
   "source": [
    "f11 = Function('f11')(x,y,z)\n",
    "f12 = Function('f12')(x,y,z)\n",
    "f13 = Function('f13')(x,y,z)\n",
    "\n",
    "f21 = Function('f21')(x,y,z)\n",
    "f22 = Function('f22')(x,y,z)\n",
    "f23 = Function('f23')(x,y,z)\n",
    "\n",
    "f31 = Function('f31')(x,y,z)\n",
    "f32 = Function('f32')(x,y,z)\n",
    "f33 = Function('f33')(x,y,z)\n",
    "\n",
    "f = Matrix([[f11,f12,f13],[f21,f22,f23],[f31,f32,f33]])\n",
    "print(Inc(f))"
   ]
  },
  {
   "cell_type": "code",
   "execution_count": null,
   "metadata": {},
   "outputs": [],
   "source": []
  }
 ],
 "metadata": {
  "kernelspec": {
   "display_name": "Python 3.10.4 64-bit",
   "language": "python",
   "name": "python3"
  },
  "language_info": {
   "codemirror_mode": {
    "name": "ipython",
    "version": 3
   },
   "file_extension": ".py",
   "mimetype": "text/x-python",
   "name": "python",
   "nbconvert_exporter": "python",
   "pygments_lexer": "ipython3",
   "version": "3.10.4"
  },
  "orig_nbformat": 4,
  "vscode": {
   "interpreter": {
    "hash": "afb734500600fd355917ca529030176ea0ca205570884b88f2f6f7d791fd3fbe"
   }
  }
 },
 "nbformat": 4,
 "nbformat_minor": 2
}
