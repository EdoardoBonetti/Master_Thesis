{
 "cells": [
  {
   "cell_type": "code",
   "execution_count": 2,
   "metadata": {},
   "outputs": [],
   "source": [
    "from sympy import Derivative\n",
    "from sympy import diff, sin, exp\n",
    "from sympy.abc import t,x,y,z\n",
    "from sympy.matrices import Matrix\n",
    "from sympy import sympify\n",
    "from sympy import *"
   ]
  },
  {
   "cell_type": "code",
   "execution_count": 3,
   "metadata": {},
   "outputs": [],
   "source": [
    "\n",
    "def curl(v):\n",
    "    return Matrix([[ sympify(diff(v[2], y)-diff(v[1], z)), +sympify(diff(v[0], z)-diff(v[2], x)), sympify(diff(v[1], x)-diff(v[0], y))]])\n",
    "\n",
    "\n",
    "def Curl(m):\n",
    "    R1 = curl([m[0,0] ,m[0,1] , m[0,2] ])\n",
    "    R2 = curl([m[1,0] ,m[1,1] , m[1,2] ])\n",
    "    R3 = curl([m[2,0] ,m[2,1] , m[2,2] ])\n",
    "    return Matrix([R1,R2,R3])\n",
    "\n",
    "def Transpose(m):\n",
    "    R1 = [m[0,0] ,m[1,0] , m[2,0] ]\n",
    "    R2 = [m[0,1] ,m[1,1] , m[2,1] ]\n",
    "    R3 = [m[0,2] ,m[1,2] , m[2,2] ]\n",
    "    return Matrix([R1,R2,R3])\n",
    "\n",
    "def Inc(m):\n",
    "    return Curl(Transpose( Curl(m)))\n",
    "\n",
    "def div(v):\n",
    "    return diff(v[0],x) + diff(v[1],y) + diff(v[2],z)\n",
    "\n",
    "def Div(m)  :\n",
    "    return Matrix([[div([m[0,0] ,m[0,1] , m[0,2] ]),div([m[1,0] ,m[1,1] , m[1,2] ]),div([m[2,0] ,m[2,1] , m[2,2] ])]])  \n",
    "\n",
    "def Trace(m):\n",
    "    return m[0,0] + m[1,1] + m[2,2]\n",
    "def J(m):\n",
    "    return Matrix([[m[0,0]-0.5*Trace(m),m[0,1],m[0,2]],[m[1,0],m[1,1]-0.5*Trace(m),m[1,2]],[m[2,0],m[2,1],m[2,2]-0.5*Trace(m)]])\n",
    "def S(m):\n",
    "    return Matrix([[m[0,0] -Trace(m),m[0,1],m[0,2]],[m[1,0],m[1,1]-Trace(m),m[1,2]],[m[2,0],m[2,1],m[2,2]-Trace(m)]])"
   ]
  },
  {
   "cell_type": "code",
   "execution_count": 4,
   "metadata": {},
   "outputs": [
    {
     "name": "stdout",
     "output_type": "stream",
     "text": [
      "0\n",
      "Matrix([[0, 0, 0]])\n",
      "Matrix([[0, 0, 0]])\n",
      "Matrix([[0, 0, 0], [0, 4.72543712751160e-19, 0], [0, 0, -9.64374923981959e-21]])\n"
     ]
    }
   ],
   "source": [
    "peak = exp(-25*(+(x)**2+(y)**2+(z)**2))\n",
    "\n",
    "v = Matrix([[peak, 0 , 0]])\n",
    "m=Matrix([[peak,0,0],[0,0,0],[0,0,0]])\n",
    "\n",
    "print(div(curl(v)))\n",
    "print(Div(Curl(m)))\n",
    "print(Div(Inc(m)))\n",
    "\n",
    "\n",
    "print(Inc(m).evalf(subs={x:1,y:0,z:1}))"
   ]
  },
  {
   "cell_type": "code",
   "execution_count": 5,
   "metadata": {},
   "outputs": [
    {
     "name": "stdout",
     "output_type": "stream",
     "text": [
      "Matrix([[0, 0, 0], [0, 2500*z**2*exp(-25*x**2 - 25*y**2 - 25*z**2) - 50*exp(-25*x**2 - 25*y**2 - 25*z**2), -2500*y*z*exp(-25*x**2 - 25*y**2 - 25*z**2)], [0, -2500*y*z*exp(-25*x**2 - 25*y**2 - 25*z**2), 2500*y**2*exp(-25*x**2 - 25*y**2 - 25*z**2) - 50*exp(-25*x**2 - 25*y**2 - 25*z**2)]])\n"
     ]
    }
   ],
   "source": [
    "peak = exp(-25*(+(x)**2+(y)**2+(z)**2))\n",
    "m=Matrix([[peak,0,0],[0,0,0],[0,0,0]])\n",
    "Inc_m = Inc(m)\n",
    "\n",
    "print(Inc_m)\n",
    "\n",
    "#print(Inc_m.subs([(x, 1), (y, 1), (z, 1)]))"
   ]
  },
  {
   "cell_type": "code",
   "execution_count": 6,
   "metadata": {},
   "outputs": [
    {
     "data": {
      "text/plain": [
       "(6.562660556429791e-30, -6.696592404520195e-30)"
      ]
     },
     "execution_count": 6,
     "metadata": {},
     "output_type": "execute_result"
    }
   ],
   "source": [
    "import numpy as np\n",
    "2450*np.exp(-75), -2500*np.exp(-75)\n"
   ]
  },
  {
   "cell_type": "code",
   "execution_count": 7,
   "metadata": {},
   "outputs": [
    {
     "data": {
      "text/plain": [
       "1.6741347079452397e-26"
      ]
     },
     "execution_count": 7,
     "metadata": {},
     "output_type": "execute_result"
    }
   ],
   "source": [
    "2500**2*np.exp(-25 - 25 - 25) - 50*np.exp(-25 - 25- 25)"
   ]
  },
  {
   "cell_type": "code",
   "execution_count": null,
   "metadata": {},
   "outputs": [],
   "source": []
  },
  {
   "cell_type": "code",
   "execution_count": null,
   "metadata": {},
   "outputs": [],
   "source": []
  },
  {
   "cell_type": "code",
   "execution_count": null,
   "metadata": {},
   "outputs": [],
   "source": []
  },
  {
   "cell_type": "code",
   "execution_count": 8,
   "metadata": {},
   "outputs": [
    {
     "name": "stdout",
     "output_type": "stream",
     "text": [
      "Matrix([[Derivative(f22(x, y, z), (z, 2)) + Derivative(f33(x, y, z), (y, 2)) - Derivative(f23(x, y, z), y, z) - Derivative(f32(x, y, z), y, z), -Derivative(f12(x, y, z), (z, 2)) + Derivative(f13(x, y, z), y, z) + Derivative(f32(x, y, z), x, z) - Derivative(f33(x, y, z), x, y), -Derivative(f13(x, y, z), (y, 2)) + Derivative(f12(x, y, z), y, z) - Derivative(f22(x, y, z), x, z) + Derivative(f23(x, y, z), x, y)], [-Derivative(f21(x, y, z), (z, 2)) + Derivative(f23(x, y, z), x, z) + Derivative(f31(x, y, z), y, z) - Derivative(f33(x, y, z), x, y), Derivative(f11(x, y, z), (z, 2)) + Derivative(f33(x, y, z), (x, 2)) - Derivative(f13(x, y, z), x, z) - Derivative(f31(x, y, z), x, z), -Derivative(f23(x, y, z), (x, 2)) - Derivative(f11(x, y, z), y, z) + Derivative(f13(x, y, z), x, y) + Derivative(f21(x, y, z), x, z)], [-Derivative(f31(x, y, z), (y, 2)) + Derivative(f21(x, y, z), y, z) - Derivative(f22(x, y, z), x, z) + Derivative(f32(x, y, z), x, y), -Derivative(f32(x, y, z), (x, 2)) - Derivative(f11(x, y, z), y, z) + Derivative(f12(x, y, z), x, z) + Derivative(f31(x, y, z), x, y), Derivative(f11(x, y, z), (y, 2)) + Derivative(f22(x, y, z), (x, 2)) - Derivative(f12(x, y, z), x, y) - Derivative(f21(x, y, z), x, y)]])\n"
     ]
    }
   ],
   "source": [
    "f11 = Function('f11')(x,y,z)\n",
    "f12 = Function('f12')(x,y,z)\n",
    "f13 = Function('f13')(x,y,z)\n",
    "\n",
    "f21 = Function('f21')(x,y,z)\n",
    "f22 = Function('f22')(x,y,z)\n",
    "f23 = Function('f23')(x,y,z)\n",
    "\n",
    "f31 = Function('f31')(x,y,z)\n",
    "f32 = Function('f32')(x,y,z)\n",
    "f33 = Function('f33')(x,y,z)\n",
    "\n",
    "f = Matrix([[f11,f12,f13],[f21,f22,f23],[f31,f32,f33]])\n",
    "print(Inc(f))"
   ]
  },
  {
   "cell_type": "code",
   "execution_count": 9,
   "metadata": {},
   "outputs": [],
   "source": [
    "def SymCurl(m): return 0.5*(Curl(m) + Curl(m).T)"
   ]
  },
  {
   "cell_type": "code",
   "execution_count": 10,
   "metadata": {},
   "outputs": [
    {
     "name": "stdout",
     "output_type": "stream",
     "text": [
      "\n",
      "Conditions on the evolution equation\n",
      "\n",
      "-0.5*Derivative(f(t, x, y, z), (y, 2)) + 0.5*Derivative(f(t, x, y, z), (z, 2)) = 0\n",
      "Derivative(f(t, x, y, z), x, y) = 0\n",
      "-Derivative(f(t, x, y, z), x, z) = 0\n",
      "-Derivative(f(t, x, y, z), (x, 2)) + 0.5*Derivative(f(t, x, y, z), (y, 2)) - 0.5*Derivative(f(t, x, y, z), (z, 2)) = Derivative(f(t, x, y, z), (t, 2))\n",
      "0 = 0\n",
      "Derivative(f(t, x, y, z), (x, 2)) + 0.5*Derivative(f(t, x, y, z), (y, 2)) - 0.5*Derivative(f(t, x, y, z), (z, 2)) = -Derivative(f(t, x, y, z), (t, 2))\n",
      "\n",
      "Conditions on the first costraint\n",
      "\n",
      "0 = 0\n",
      "Derivative(f(t, x, y, z), t, y) = 0\n",
      "-Derivative(f(t, x, y, z), t, z) = 0\n",
      "\n",
      "Conditions on the second costraint\n",
      "\n",
      "Derivative(f(t, x, y, z), (y, 2)) - Derivative(f(t, x, y, z), (z, 2)) = 0\n"
     ]
    }
   ],
   "source": [
    "f = Function('f')(t,x,y,z)\n",
    "g = Function('g')(t,x,y,z)\n",
    "f1 = exp(-25*(+(x-t)**2+(y-t)**2+(z-t)**2))\n",
    "\n",
    "\n",
    "G = Matrix([[0,0,0],[0,f,0],[0,0,-f]])\n",
    "print(\"\\nConditions on the evolution equation\\n\")\n",
    "for i in range(3):\n",
    "    for j in range(i,3):\n",
    "        print(J(Inc(G))[i,j] ,\"=\", diff(G, t,t)[i,j])\n",
    "\n",
    "print(\"\\nConditions on the first costraint\\n\")\n",
    "for el in Div(S(diff(G, t))):\n",
    "    print(el, \"= 0\")\n",
    "\n",
    "\n",
    "print(\"\\nConditions on the second costraint\\n\")\n",
    "print(sympify(div(Div(S(G)))) , \"= 0\")"
   ]
  },
  {
   "cell_type": "code",
   "execution_count": 11,
   "metadata": {},
   "outputs": [
    {
     "name": "stdout",
     "output_type": "stream",
     "text": [
      "Matrix([[-1.0*Derivative(f(x, y, z), (x, 2)) + 0.5*Derivative(f(x, y, z), (y, 2)) + 0.5*Derivative(f(x, y, z), (z, 2)), -Derivative(f(x, y, z), x, y), -Derivative(f(x, y, z), x, z)]]) = 0\n",
      "Matrix([[-Derivative(f(x, y, z), x, y), -0.5*Derivative(f(x, y, z), (y, 2)) - 0.5*Derivative(f(x, y, z), (z, 2)), 0]]) = 0\n",
      "Matrix([[-Derivative(f(x, y, z), x, z), 0, -0.5*Derivative(f(x, y, z), (y, 2)) - 0.5*Derivative(f(x, y, z), (z, 2))]]) = 0\n",
      "-2*Derivative(f(x, y, z), x) = 0\n",
      "-Derivative(f(x, y, z), y) = 0\n",
      "-Derivative(f(x, y, z), z) = 0\n",
      "-2*Derivative(f(x, y, z), (x, 2)) - Derivative(f(x, y, z), (y, 2)) - Derivative(f(x, y, z), (z, 2)) = 0\n"
     ]
    }
   ],
   "source": [
    "f = Function('f')(x,y,z)\n",
    "f12 = Function('f12')(x,y,z)\n",
    "f13 = Function('f13')(x,y,z)\n",
    "\n",
    "f21 = Function('f21')(x,y,z)\n",
    "f22 = Function('f22')(x,y,z)\n",
    "f23 = Function('f23')(x,y,z)\n",
    "\n",
    "f31 = Function('f31')(x,y,z)\n",
    "f32 = Function('f32')(x,y,z)\n",
    "f33 = Function('f33')(x,y,z)\n",
    "\n",
    "g = Matrix([[0,0,0],[0,f,0],[0,0,f]])\n",
    "for i in range(3):\n",
    "    print(J(Inc(g)).row(i) , \"= 0\")\n",
    "\n",
    "for el in Div(S(g)):\n",
    "    print(el, \"= 0\")\n",
    "\n",
    "print(div(Div(S(g))) , \"= 0\")"
   ]
  },
  {
   "cell_type": "code",
   "execution_count": 12,
   "metadata": {},
   "outputs": [
    {
     "name": "stdout",
     "output_type": "stream",
     "text": [
      "Matrix([[0, 0, 0], [0, f(x, y, z), 0], [0, 0, -f(x, y, z)]])\n"
     ]
    }
   ],
   "source": [
    "g = S(J(Matrix([[0,0,0],[0,f,0],[0,0,-f]])))\n",
    "print(g)"
   ]
  },
  {
   "cell_type": "code",
   "execution_count": 23,
   "metadata": {},
   "outputs": [
    {
     "name": "stdout",
     "output_type": "stream",
     "text": [
      "50*(50*(-3*t + x + y + z)**2 - 3)*exp(-25*(-t + x)**2 - 25*(-t + y)**2 - 25*(-t + z)**2)\n",
      "0\n",
      "0\n",
      "(50*t - 50*z)**2*exp(-25*(-t + x)**2 - 25*(-t + y)**2 - 25*(-t + z)**2) - 50*exp(-25*(-t + x)**2 - 25*(-t + y)**2 - 25*(-t + z)**2)\n",
      "-(50*t - 50*y)*(50*t - 50*z)*exp(-25*(-t + x)**2 - 25*(-t + y)**2 - 25*(-t + z)**2)\n",
      "-(-50*t + 50*y)*(50*t - 50*y)*exp(-25*(-t + x)**2 - 25*(-t + y)**2 - 25*(-t + z)**2) - 50*exp(-25*(-t + x)**2 - 25*(-t + y)**2 - 25*(-t + z)**2)\n"
     ]
    }
   ],
   "source": [
    "f = Function('f')(t,x,y,z)\n",
    "g = Function('g')(t,x,y,z)\n",
    "f1 = exp(-25*(+(x-t)**2+(y-t)**2+(z-t)**2))\n",
    "f = f1\n",
    "\n",
    "\n",
    "G = Matrix([[f,0,0],[0,0,0],[0,0,0]])\n",
    "\n",
    "for i in range(3) :\n",
    "    for j in range(i,3):\n",
    "        print(diff(G, t,t)[i,j]+ Inc(G)[i,j])"
   ]
  },
  {
   "cell_type": "markdown",
   "metadata": {},
   "source": [
    "Schwarzschild solution in Cartesian coordinates"
   ]
  },
  {
   "cell_type": "code",
   "execution_count": null,
   "metadata": {},
   "outputs": [],
   "source": []
  }
 ],
 "metadata": {
  "kernelspec": {
   "display_name": "Python 3.10.4 64-bit",
   "language": "python",
   "name": "python3"
  },
  "language_info": {
   "codemirror_mode": {
    "name": "ipython",
    "version": 3
   },
   "file_extension": ".py",
   "mimetype": "text/x-python",
   "name": "python",
   "nbconvert_exporter": "python",
   "pygments_lexer": "ipython3",
   "version": "3.10.4"
  },
  "orig_nbformat": 4,
  "vscode": {
   "interpreter": {
    "hash": "afb734500600fd355917ca529030176ea0ca205570884b88f2f6f7d791fd3fbe"
   }
  }
 },
 "nbformat": 4,
 "nbformat_minor": 2
}
