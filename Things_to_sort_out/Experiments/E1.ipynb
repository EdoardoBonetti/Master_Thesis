{
 "cells": [
  {
   "cell_type": "code",
   "execution_count": 13,
   "metadata": {},
   "outputs": [],
   "source": [
    "import time\n",
    "\n",
    "from ngsolve import *\n",
    "from ngsolve.webgui import Draw\n",
    "from netgen.csg import unit_cube\n",
    "from ngsolve.krylovspace import CGSolver"
   ]
  },
  {
   "cell_type": "code",
   "execution_count": 14,
   "metadata": {},
   "outputs": [],
   "source": [
    "n = specialcf.normal(3)\n",
    "def norm(u, Mesh):\n",
    "    with TaskManager():\n",
    "        return sqrt(Integrate( InnerProduct(u,u) , Mesh))\n",
    "def Curl(u):\n",
    "    if u.dim == 3:\n",
    "        return CF( (u[1].Diff(z)- u[2].Diff(y), u[2].Diff(x)- u[0].Diff(z), u[0].Diff(y)- u[1].Diff(x)) )\n",
    "    if u.dim == 9:\n",
    "        return CF( (Curl(u[0,:]),Curl(u[1,:]),Curl(u[2,:])),dims=(3,3) )\n",
    "def Inc(u):\n",
    "    return Curl((Curl(u)).trans)\n",
    "P_n = OuterProduct(n,n) \n",
    "Q_n = Id(3) - OuterProduct(n,n) \n",
    "C_n = CF(      (0,n[2],-n[1],-n[2],0,n[0],n[1],-n[0],0), dims=(3,3) )\n",
    "def C(V): \n",
    "    return CF( (0,V[2],-V[1],-V[2],0,V[0],V[1],-V[0],0), dims=(3,3) ) \n",
    "\n"
   ]
  },
  {
   "cell_type": "code",
   "execution_count": 15,
   "metadata": {},
   "outputs": [],
   "source": [
    "def RunP(Maxh,Order):\n",
    "    mesh = Mesh(unit_cube.GenerateMesh(maxh=Maxh))\n",
    "    fesHCurl = HCurl(mesh, order=Order, dirichlet= \".*\")\n",
    "    with TaskManager():\n",
    "        start = time.time()\n",
    "        ##########################################################\n",
    "        #           Coefficient and grid functions               #\n",
    "        ##########################################################\n",
    "           \n",
    "        # continuous functions\n",
    "        peak = exp(-25*( (x-0.5)**2 + (y-0.5)**2 +(z-0.5)**2))\n",
    "\n",
    "        PEAK = CF ( (peak, 0, 0 ), dims=(3,1))\n",
    "        CurlCurlPeak = CF( Curl(Curl(PEAK)), dims=(3,3) )\n",
    "\n",
    "        # grid functions \n",
    "        gfEnm1 = GridFunction(fesHCurl) \n",
    "        gfEnm1.Set ( PEAK, bonus_intorder=15, dual=True)\n",
    "\n",
    "        gfCurl = GridFunction(fesHCurlCurl)\n",
    "        gfCurlCurlG.Set(IncPeak, BND,  bonus_intorder=15, dual=True)\n",
    "\n",
    "        end = time.time()\n",
    "        print(\"Time coeff and grid functions :\"+str(end-start))\n",
    "        ##########################################################\n",
    "        #              Linear and Bilinear forms                 #\n",
    "        ##########################################################\n",
    "        start = time.time()\n",
    "        u,v = fesHCurlCurl.TnT()\n",
    "        #some geometrical objects we need\n",
    "        n_cross_v = CF( (Cross(n,v[0,:]),Cross(n,v[1,:]),Cross(n,v[2,:])), dims=(3,3) )\n",
    "        t1 =specialcf.EdgeFaceTangentialVectors(3)[:,0]\n",
    "        t2 =specialcf.EdgeFaceTangentialVectors(3)[:,1]\n",
    "        e = specialcf.tangential(3,True)\n",
    "        n1 = Cross( t1, e)\n",
    "        n2 = Cross( t2, e) \n",
    "\n",
    "        # Mass matrix\n",
    "        a = BilinearForm(fesHCurlCurl)\n",
    "        a += InnerProduct(u,v)*dx \n",
    "\n",
    "\n",
    "        # linear form induced by the metric gfG\n",
    "        f = LinearForm(fesHCurlCurl)\n",
    "\n",
    "        # thetrahedron inc part\n",
    "        f += InnerProduct(gfG.Operator(\"inc\"),v)*dx        \n",
    "        # faces part:\n",
    "        f += ( InnerProduct(Q_n*n_cross_v, curl(gfG).trans) + Cross(gfG*n,n)*(curl(v)*n) )*dx(element_boundary=True)\n",
    "        # Edges components: t'*v*C_n*n\n",
    "        f += (gfG[n1,e]*v[e,t1] - gfG[n2,e]*v[e,t2])*dx(element_vb=BBND)\n",
    "        \n",
    "\n",
    "        end = time.time()\n",
    "        print(\"Time define linear and blinear form :\"+str(end-start))\n",
    "\n",
    "        ##########################################################\n",
    "        #           Assemble, compute and print!                 #\n",
    "        ##########################################################\n",
    "\n",
    "        start = time.time()\n",
    "        pre = Preconditioner(a, \"local\")\n",
    "        a.Assemble()\n",
    "        f.Assemble()\n",
    "\n",
    "\n",
    "        r = f.vec.CreateVector()\n",
    "        r.data = f.vec - a.mat * gfCurlCurlG.vec\n",
    "        inverse = CGSolver(a.mat, pre.mat , printrates='\\r', maxiter=1500,tol=1e-9)\n",
    "        gfCurlCurlG.vec.data += inverse * r\n",
    "        #gfCurlCurlG.vec.data += a.mat.Inverse(freedofs=fesHCurlCurl.FreeDofs(),inverse=\"sparsecholesky\") * r\n",
    "        \n",
    "\n",
    "\n",
    "        end = time.time()\n",
    "        print(\"Assemble and find inverse :\"+str(end-start))\n",
    "\n",
    "        start = time.time()\n",
    "        print(\"error of my inc\")\n",
    "        Error = norm(IncPeak-gfCurlCurlG,mesh)\n",
    "        print(\"Error inc(PEAK)-gfcurlCurlG when order is \"+str(Order)+\"-->\"+str(Error) )\n",
    "        Draw (gfCurlCurlG-IncPeak,mesh, draw_surf=True, clipping=(0,1,1), deformation=False)\n",
    "        Draw (gfCurlCurlG,mesh, draw_surf=True, clipping=(0,1,1), deformation=False)\n",
    "        Draw (IncPeak, mesh, clipping=(0,1,1),name = \"Real inc gfG\",deformation=False) \n",
    "\n",
    "        end = time.time()\n",
    "        print(\"time to draw :\"+str(end-start))\n",
    "        return Error"
   ]
  },
  {
   "cell_type": "code",
   "execution_count": 16,
   "metadata": {},
   "outputs": [
    {
     "name": "stdout",
     "output_type": "stream",
     "text": [
      "Time coeff and grid functions :10.219223737716675\n",
      "Time define linear and blinear form :0.002992391586303711\n",
      "WARNING: CG did not converge to TOL0242252478782e-07     \n",
      "CG NOT converged in 1500 iterations to residual 1.1730242252478782e-07\n",
      "Assemble and find inverse :117.6665518283844\n",
      "error of my inc\n",
      "Error inc(PEAK)-gfcurlCurlG when order is 3-->0.013797239054358222\n"
     ]
    },
    {
     "data": {
      "application/vnd.jupyter.widget-view+json": {
       "model_id": "a04ad3977db9443a890193214c22497a",
       "version_major": 2,
       "version_minor": 0
      },
      "text/plain": [
       "WebGuiWidget(value={'ngsolve_version': '6.2.2203', 'mesh_dim': 3, 'order2d': 2, 'order3d': 2, 'draw_vol': True…"
      ]
     },
     "metadata": {},
     "output_type": "display_data"
    },
    {
     "data": {
      "application/vnd.jupyter.widget-view+json": {
       "model_id": "08618f01f0c24da8b216fb0813697e33",
       "version_major": 2,
       "version_minor": 0
      },
      "text/plain": [
       "WebGuiWidget(value={'ngsolve_version': '6.2.2203', 'mesh_dim': 3, 'order2d': 2, 'order3d': 2, 'draw_vol': True…"
      ]
     },
     "metadata": {},
     "output_type": "display_data"
    },
    {
     "data": {
      "application/vnd.jupyter.widget-view+json": {
       "model_id": "ec1107acbb4e4ee682ee4f6c59e5fcc5",
       "version_major": 2,
       "version_minor": 0
      },
      "text/plain": [
       "WebGuiWidget(value={'ngsolve_version': '6.2.2203', 'mesh_dim': 3, 'order2d': 2, 'order3d': 2, 'draw_vol': True…"
      ]
     },
     "metadata": {},
     "output_type": "display_data"
    },
    {
     "name": "stdout",
     "output_type": "stream",
     "text": [
      "time to draw :8.55838394165039\n"
     ]
    }
   ],
   "source": [
    "Maxh = 0.10\n",
    "Order = 3\n",
    "with TaskManager():\n",
    "    RunP(Maxh, Order)\n"
   ]
  },
  {
   "cell_type": "code",
   "execution_count": null,
   "metadata": {},
   "outputs": [],
   "source": []
  }
 ],
 "metadata": {
  "kernelspec": {
   "display_name": "Python 3.10.4 64-bit",
   "language": "python",
   "name": "python3"
  },
  "language_info": {
   "codemirror_mode": {
    "name": "ipython",
    "version": 3
   },
   "file_extension": ".py",
   "mimetype": "text/x-python",
   "name": "python",
   "nbconvert_exporter": "python",
   "pygments_lexer": "ipython3",
   "version": "3.10.4"
  },
  "orig_nbformat": 4,
  "vscode": {
   "interpreter": {
    "hash": "afb734500600fd355917ca529030176ea0ca205570884b88f2f6f7d791fd3fbe"
   }
  }
 },
 "nbformat": 4,
 "nbformat_minor": 2
}
