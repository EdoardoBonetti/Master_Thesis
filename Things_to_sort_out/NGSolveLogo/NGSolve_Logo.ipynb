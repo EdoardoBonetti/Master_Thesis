{
 "cells": [
  {
   "cell_type": "markdown",
   "metadata": {},
   "source": [
    "# The Logo\n",
    "It is a ball with radious R2 minius a ball with radious R1\n",
    "minus 3 cilinders with dadious r, hight h = 5*R2 (to be sure ...) with center set in position:\n",
    "1. ()"
   ]
  },
  {
   "cell_type": "code",
   "execution_count": 11,
   "metadata": {},
   "outputs": [
    {
     "data": {
      "application/vnd.jupyter.widget-view+json": {
       "model_id": "a5b0dddce1944f11ac7c6390ef8476a0",
       "version_major": 2,
       "version_minor": 0
      },
      "text/plain": [
       "WebGuiWidget(value={'ngsolve_version': '6.2.2203', 'mesh_dim': 3, 'order2d': 2, 'order3d': 2, 'draw_vol': True…"
      ]
     },
     "metadata": {},
     "output_type": "display_data"
    },
    {
     "data": {
      "text/plain": [
       "BaseWebGuiScene"
      ]
     },
     "execution_count": 11,
     "metadata": {},
     "output_type": "execute_result"
    }
   ],
   "source": [
    "\n",
    "from ngsolve import *\n",
    "from ngsolve.webgui import Draw\n",
    "from netgen.geom2d import unit_square\n",
    "\n",
    "from netgen.csg import *\n",
    "geom = CSGeometry()\n",
    "geom.Add (Sphere(Pnt(50,50,50),80) \\\n",
    "          -Cylinder(Pnt(-100,0,0),Pnt(200,0,0), 40) \\\n",
    "          -Cylinder(Pnt(100,-100,100),Pnt(100,200,100),40)\n",
    "          -Cylinder(Pnt(0,100,-100), Pnt(0,100,200),40)\n",
    "          -Sphere(Pnt(50,50,50),50))\n",
    "# geom.Draw()\n",
    "\n",
    "mesh = Mesh(geom.GenerateMesh(maxh=25))\n",
    "f = 1/(100 - (x-50)**2 - (y-50)**2- (z-50)**2)\n",
    "mesh.Curve(5)\n",
    "Draw (f,mesh, clipping=(1,1,1,1))"
   ]
  },
  {
   "cell_type": "code",
   "execution_count": null,
   "metadata": {},
   "outputs": [],
   "source": []
  }
 ],
 "metadata": {
  "kernelspec": {
   "display_name": "Python 3.10.4 64-bit",
   "language": "python",
   "name": "python3"
  },
  "language_info": {
   "codemirror_mode": {
    "name": "ipython",
    "version": 3
   },
   "file_extension": ".py",
   "mimetype": "text/x-python",
   "name": "python",
   "nbconvert_exporter": "python",
   "pygments_lexer": "ipython3",
   "version": "3.10.4"
  },
  "orig_nbformat": 4,
  "vscode": {
   "interpreter": {
    "hash": "afb734500600fd355917ca529030176ea0ca205570884b88f2f6f7d791fd3fbe"
   }
  }
 },
 "nbformat": 4,
 "nbformat_minor": 2
}
